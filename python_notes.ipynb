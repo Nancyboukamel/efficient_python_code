{
 "cells": [
  {
   "cell_type": "markdown",
   "id": "764dc0fa-dbef-40ce-80df-60a62e94207e",
   "metadata": {},
   "source": [
    "## Efficiently Combining, Counting, and Iterating"
   ]
  },
  {
   "cell_type": "code",
   "execution_count": 1,
   "id": "6b7c3c46-7a27-4380-8224-5c1a71cb3111",
   "metadata": {},
   "outputs": [
    {
     "name": "stdout",
     "output_type": "stream",
     "text": [
      "[('Ahmed', 25), ('Youssef', 27), ('Mohammed', 40)]\n"
     ]
    }
   ],
   "source": [
    "# combining objects \n",
    "names = ['Ahmed', 'Youssef', 'Mohammed']\n",
    "age = [25, 27, 40]\n",
    "combined = []\n",
    "\n",
    "for i,name in enumerate(names):\n",
    "    combined.append((name, age[i]))\n",
    "print(combined)"
   ]
  },
  {
   "cell_type": "code",
   "execution_count": 2,
   "id": "dea073c6-75da-429b-9633-5f44d22ece6d",
   "metadata": {},
   "outputs": [
    {
     "name": "stdout",
     "output_type": "stream",
     "text": [
      "<class 'zip'>\n"
     ]
    }
   ],
   "source": [
    "# Combining objects with zip\n",
    "combined_zip = zip(names, age)\n",
    "print(type(combined_zip))"
   ]
  },
  {
   "cell_type": "code",
   "execution_count": 3,
   "id": "76837bfb-b1be-4ae5-ae52-3e305dd6d69f",
   "metadata": {},
   "outputs": [],
   "source": [
    "combined_zip_list=[*combined_zip]"
   ]
  },
  {
   "cell_type": "code",
   "execution_count": 4,
   "id": "8fc0c004-fa7a-40ea-9175-38bd66dcbefc",
   "metadata": {},
   "outputs": [
    {
     "data": {
      "text/plain": [
       "[('Ahmed', 25), ('Youssef', 27), ('Mohammed', 40)]"
      ]
     },
     "execution_count": 4,
     "metadata": {},
     "output_type": "execute_result"
    }
   ],
   "source": [
    "combined_zip_list"
   ]
  },
  {
   "cell_type": "markdown",
   "id": "98e67bec-50e7-4cb8-b081-c9334d411366",
   "metadata": {},
   "source": [
    "## Counting Objects"
   ]
  },
  {
   "cell_type": "code",
   "execution_count": 5,
   "id": "07932568-6363-447f-bb14-91586afb9dd4",
   "metadata": {},
   "outputs": [],
   "source": [
    "from collections import Counter\n",
    "poke_types=['A','A','A','A','A','A','A','A','A','A','A','A','A','A','A','A','A','B','B','B','B','B','B','B','B','B','B','B','C',\n",
    "           'C','C','C','C','C','C','C','C','C','C','C','C','C','C','C','C','C','C','C','C','D','D','D','D','D','D','D','D','D','D',\n",
    "           'D','D','D','D','D','D','D','D','D','D','D','D','D','D','E','E','E','E','E','E','E','E','E','E','E','E','E','E','E']\n",
    "type_counts=Counter(poke_types)"
   ]
  },
  {
   "cell_type": "code",
   "execution_count": 6,
   "id": "3270fb39-bbbb-4502-bef0-611791b00cb8",
   "metadata": {},
   "outputs": [
    {
     "data": {
      "text/plain": [
       "Counter({'D': 24, 'C': 21, 'A': 17, 'E': 15, 'B': 11})"
      ]
     },
     "execution_count": 6,
     "metadata": {},
     "output_type": "execute_result"
    }
   ],
   "source": [
    "type_counts"
   ]
  },
  {
   "cell_type": "markdown",
   "id": "6e26ec20-760e-4098-8bdb-4fb3083f7143",
   "metadata": {},
   "source": [
    "## itertools\n",
    "\n",
    "Another built-in module, itertools, contains functional tools for working with iterators. A subset of these tools is:\n",
    "\n",
    "- Infinite iterators: count, cycle, repeat\n",
    "- Finite iterators: accumulate, chain, zip_longest, etc.\n",
    "- Combination generators: product, permutations, combinations\n",
    "\n",
    "### Combinations:\n",
    "To avoid pairs that are of same word or pairs same combination but different pair order."
   ]
  },
  {
   "cell_type": "code",
   "execution_count": 7,
   "id": "33b8131c-b1dd-4381-b406-8370f5a11d36",
   "metadata": {},
   "outputs": [
    {
     "data": {
      "text/plain": [
       "[('Bug', 'Fire'),\n",
       " ('Bug', 'Ghost'),\n",
       " ('Bug', 'Grass'),\n",
       " ('Bug', 'Water'),\n",
       " ('Fire', 'Ghost'),\n",
       " ('Fire', 'Grass'),\n",
       " ('Fire', 'Water'),\n",
       " ('Ghost', 'Grass'),\n",
       " ('Ghost', 'Water'),\n",
       " ('Grass', 'Water')]"
      ]
     },
     "execution_count": 7,
     "metadata": {},
     "output_type": "execute_result"
    }
   ],
   "source": [
    "poke_types = ['Bug', 'Fire', 'Ghost', 'Grass', 'Water']\n",
    "from itertools import combinations\n",
    "combos_obj=combinations(poke_types,2)\n",
    "combos=[*combos_obj]\n",
    "combos"
   ]
  },
  {
   "cell_type": "markdown",
   "id": "2c661031-be58-4d04-ae75-801fe1384286",
   "metadata": {},
   "source": [
    "## Introduction to the set theory:\n",
    "\n",
    "- intersection() : all elements that are in both sets\n",
    "- difference(): all elements in one set but not the other\n",
    "- symmetric_difference(): all elements in exactly one set\n",
    "- union(): all elements that are in either set\n",
    "\n",
    "Suppose we had two lists of Pokémon names: list_a and list_b and we would like to compare these lists to see which Pokémon appear in both lists. We could first use a nested for loop to compare each item in list_a to each item in list_b and collect only those items that appear in both lists. But, iterating over each item in both lists is extremely inefficient."
   ]
  },
  {
   "cell_type": "code",
   "execution_count": 13,
   "id": "83ed5941-2438-411f-b98f-a65cc3bbe4ff",
   "metadata": {},
   "outputs": [
    {
     "name": "stdout",
     "output_type": "stream",
     "text": [
      "160 ns ± 2.18 ns per loop (mean ± std. dev. of 7 runs, 10,000,000 loops each)\n",
      "{'Squirtle'}\n"
     ]
    }
   ],
   "source": [
    "list_a = ['Bulbasaur', 'Charmander', 'Squirtle']\n",
    "list_b = ['Caterpie', 'Pidgey', 'Squirtle']\n",
    "set_a=set(list_a)\n",
    "set_b=set(list_b)\n",
    "%timeit in_common = set_a.intersection(set_b)\n",
    "print(set_a.intersection(set_b))"
   ]
  },
  {
   "cell_type": "code",
   "execution_count": 14,
   "id": "3b54994f-52dc-42eb-a51b-548bee9eb293",
   "metadata": {},
   "outputs": [
    {
     "name": "stdout",
     "output_type": "stream",
     "text": [
      "214 ns ± 0.762 ns per loop (mean ± std. dev. of 7 runs, 1,000,000 loops each)\n",
      "{'Charmander', 'Pidgey', 'Squirtle', 'Bulbasaur', 'Caterpie'}\n"
     ]
    }
   ],
   "source": [
    "%timeit set_a.union(set_b)\n",
    "print(set_a.union(set_b))"
   ]
  },
  {
   "cell_type": "markdown",
   "id": "a14c3296-d4f6-475e-8b33-bea0d4920c80",
   "metadata": {},
   "source": [
    "The union function takes more time then the intersection function"
   ]
  },
  {
   "cell_type": "code",
   "execution_count": 15,
   "id": "9099bbbe-9066-4a6c-a69d-9c65cd025a23",
   "metadata": {},
   "outputs": [
    {
     "name": "stdout",
     "output_type": "stream",
     "text": [
      "170 ns ± 14.6 ns per loop (mean ± std. dev. of 7 runs, 1,000,000 loops each)\n"
     ]
    },
    {
     "data": {
      "text/plain": [
       "{'Bulbasaur', 'Charmander'}"
      ]
     },
     "execution_count": 15,
     "metadata": {},
     "output_type": "execute_result"
    }
   ],
   "source": [
    "%timeit set_a.difference(set_b)\n",
    "set_a.difference(set_b) ## here we remove thw word Squirtle from set_a"
   ]
  },
  {
   "cell_type": "code",
   "execution_count": 16,
   "id": "88c1e097-c1ce-4782-940f-1a6ab1336fff",
   "metadata": {},
   "outputs": [
    {
     "data": {
      "text/plain": [
       "{'Bulbasaur', 'Caterpie', 'Charmander', 'Pidgey'}"
      ]
     },
     "execution_count": 16,
     "metadata": {},
     "output_type": "execute_result"
    }
   ],
   "source": [
    "set_a.symmetric_difference(set_b) ## all the words from both sets except its intersection (Squirtle)"
   ]
  },
  {
   "cell_type": "markdown",
   "id": "4e998597-4643-484f-b61c-19207b90dfbe",
   "metadata": {},
   "source": [
    "Another nice efficiency gain when using sets is the ability to quickly check if a specific item is a member of a set's elements. Consider our collection of 720 Pokémon names stored as a list, tuple, and set.\n",
    "\n",
    "When comparing lists, tuples, and sets in terms of performance for finding elements, there are key differences based on their underlying data structures and intended uses:\n",
    "\n",
    "### 1. **Tuples**\n",
    "- **Implementation:** Tuples are immutable sequences. This means once created, their contents cannot be changed.\n",
    "- **Element Lookup:** Finding an element in a tuple requires a linear search (O(n) time complexity), where `n` is the number of elements in the tuple.\n",
    "\n",
    "### 2. **Lists**\n",
    "- **Implementation:** Lists are mutable sequences, allowing modification of their contents.\n",
    "- **Element Lookup:** Similar to tuples, finding an element in a list also requires a linear search (O(n) time complexity).\n",
    "\n",
    "### 3. **Sets**\n",
    "- **Implementation:** Sets are unordered collections of unique elements, and they use a hash table (or similar data structure) to store elements.\n",
    "- **Element Lookup:** Finding an element in a set is much faster compared to lists and tuples. The average time complexity for lookups in a set is O(1) due to the hash table, though it can degrade to O(n) in the worst case (e.g., hash collisions).\n",
    "\n",
    "### Summary\n",
    "- **Speed of Lookup:** Sets are generally the fastest for finding elements due to their hash-based implementation. Both lists and tuples require linear searches, so finding an element in these structures can be slower, especially as the number of elements increases.\n",
    "- **Use Case:** Choose a set when you need fast membership testing and do not require ordered elements. Choose a list or tuple when you need ordered collections, or when you need the immutability provided by tuples."
   ]
  },
  {
   "cell_type": "code",
   "execution_count": 20,
   "id": "f8fe26fc-8cba-4598-b601-1f07ff906a7e",
   "metadata": {},
   "outputs": [],
   "source": [
    "poke_types=['A','A','A','A','A','A','A','A','A','A','A','A','A','A','A','A','A','B','B','B','B','B','B','B','B','B','B','B','C',\n",
    "           'C','C','C','C','C','C','C','C','C','C','C','C','C','C','C','C','C','C','C','C','D','D','D','D','D','D','D','D','D','D',\n",
    "           'D','D','D','D','D','D','D','D','D','D','D','D','D','D','E','E','E','E','E','E','E','E','E','E','E','E','E','E','E']\n",
    "names_list = list(poke_types)\n",
    "names_set = set(poke_types)\n",
    "names_tuple = tuple(poke_types)"
   ]
  },
  {
   "cell_type": "code",
   "execution_count": 22,
   "id": "db3f08ff-0ce4-45ee-a125-7f6a8519b3f6",
   "metadata": {},
   "outputs": [
    {
     "name": "stdout",
     "output_type": "stream",
     "text": [
      "41.9 ns ± 0.122 ns per loop (mean ± std. dev. of 7 runs, 10,000,000 loops each)\n",
      "40.8 ns ± 0.0816 ns per loop (mean ± std. dev. of 7 runs, 10,000,000 loops each)\n",
      "41.7 ns ± 0.117 ns per loop (mean ± std. dev. of 7 runs, 10,000,000 loops each)\n"
     ]
    }
   ],
   "source": [
    "%timeit 'A' in names_list # 41.9 ns \n",
    "%timeit 'A' in names_tuple # 40.8 ns \n",
    "%timeit 'A' in names_set # 41.7 ns"
   ]
  },
  {
   "cell_type": "markdown",
   "id": "08215b55-b258-466f-a97a-90b0f619f4b2",
   "metadata": {},
   "source": [
    "## Eliminating Loops:\n",
    "- For loops iterate over elements of a sequence piece-by-piece. \n",
    "- While loops execute a loop repeatedly as long as some Boolean condition is met. \n",
    "- Nested loops use multiple loops inside one another.\n",
    "\n",
    "One of the idioms of pythonic code is that \"flat is better than nested.\" Striving to eliminate loops in our code will help us follow this idiom. \n",
    "\n",
    "- Inefficient way"
   ]
  },
  {
   "cell_type": "code",
   "execution_count": 29,
   "id": "1583d3c9-98a9-4ed4-bd56-5ed307e17ea5",
   "metadata": {},
   "outputs": [
    {
     "name": "stdout",
     "output_type": "stream",
     "text": [
      "Time taken: 0.00013375282287597656 seconds\n"
     ]
    }
   ],
   "source": [
    "import time\n",
    "\n",
    "poke_stats = [\n",
    "    [90, 92, 75, 60],\n",
    "    [25, 20, 15, 90],\n",
    "    [65, 130, 60, 75],\n",
    "]\n",
    "\n",
    "# Record the start time\n",
    "start_time = time.time()\n",
    "\n",
    "totals = []\n",
    "for row in poke_stats:\n",
    "    totals.append(sum(row))\n",
    "\n",
    "# Record the end time\n",
    "end_time = time.time()\n",
    "\n",
    "# Print the total time taken\n",
    "print(f\"Time taken: {end_time - start_time} seconds\")\n"
   ]
  },
  {
   "cell_type": "markdown",
   "id": "0115375b-9558-4019-b085-0c1d5042f9fe",
   "metadata": {},
   "source": [
    "Using comprehension List"
   ]
  },
  {
   "cell_type": "code",
   "execution_count": 27,
   "id": "27de2331-254e-4e20-a982-8cff0bb90b38",
   "metadata": {},
   "outputs": [
    {
     "name": "stdout",
     "output_type": "stream",
     "text": [
      "702 ns ± 9.6 ns per loop (mean ± std. dev. of 7 runs, 1,000,000 loops each)\n"
     ]
    }
   ],
   "source": [
    "%timeit totals_comp = [sum(row) for row in poke_stats]"
   ]
  },
  {
   "cell_type": "markdown",
   "id": "ce35f177-1d0d-49e3-81fb-c5dcc00fffa2",
   "metadata": {},
   "source": [
    "The second way is faster than the first way\n",
    "\n",
    "Using map function"
   ]
  },
  {
   "cell_type": "code",
   "execution_count": 30,
   "id": "32b4022b-3601-4241-8c82-02343b412906",
   "metadata": {},
   "outputs": [
    {
     "name": "stdout",
     "output_type": "stream",
     "text": [
      "576 ns ± 8.38 ns per loop (mean ± std. dev. of 7 runs, 1,000,000 loops each)\n"
     ]
    }
   ],
   "source": [
    "%timeit totals_map = [*map(sum, poke_stats)]"
   ]
  },
  {
   "cell_type": "markdown",
   "id": "e6915f6d-1fc5-4007-885d-b47fb6901bba",
   "metadata": {},
   "source": [
    "Each of these approaches will return the same list, but using a list comprehension or the map function takes one line of code, and has a faster runtime.\n",
    "\n",
    "#### Eliminate loops with NumPy\n",
    "\n",
    "But, NumPy arrays allow us to perform calculations on entire arrays all at once. Here, we use the dot-mean method and specify an axis equal to 1 to calculate the mean for each row (meaning we calculate an average across the column values). This eliminates the need for a loop and is much more efficient.\n",
    "\n",
    "In 2D array:\n",
    "\n",
    "- Axis 0: This means performing operations column-wise.\n",
    "- Axis 1: this means performing operations row-wise. \n",
    "\n",
    "In 3D array:\n",
    "\n",
    "- Axis 0: Refers to operations along the first dimension (depth). z\n",
    "- Axis 1: Refers to operations along the second dimension (rows). x\n",
    "- Axis 2: Refers to operations along the third dimension (columns). y"
   ]
  },
  {
   "cell_type": "code",
   "execution_count": 31,
   "id": "02dadb56-9421-43d7-8eff-d5518a415850",
   "metadata": {},
   "outputs": [
    {
     "data": {
      "text/plain": [
       "array([12, 15, 18])"
      ]
     },
     "execution_count": 31,
     "metadata": {},
     "output_type": "execute_result"
    }
   ],
   "source": [
    "import numpy as np\n",
    "\n",
    "array = np.array([\n",
    "    [1, 2, 3],\n",
    "    [4, 5, 6],\n",
    "    [7, 8, 9]\n",
    "])\n",
    "\n",
    "array.sum(axis=0)"
   ]
  },
  {
   "cell_type": "code",
   "execution_count": 32,
   "id": "1f6b590f-bcf7-4cbf-9f54-d347a89299a2",
   "metadata": {},
   "outputs": [
    {
     "data": {
      "text/plain": [
       "array([ 6, 15, 24])"
      ]
     },
     "execution_count": 32,
     "metadata": {},
     "output_type": "execute_result"
    }
   ],
   "source": [
    "array.sum(axis=1)"
   ]
  },
  {
   "cell_type": "code",
   "execution_count": 33,
   "id": "19796307-e191-425a-b955-e800499dd94f",
   "metadata": {},
   "outputs": [
    {
     "data": {
      "text/plain": [
       "array([4., 5., 6.])"
      ]
     },
     "execution_count": 33,
     "metadata": {},
     "output_type": "execute_result"
    }
   ],
   "source": [
    "array.mean(axis=0)"
   ]
  },
  {
   "cell_type": "markdown",
   "id": "80a87830-4213-42d9-9be4-95187f5e9cd1",
   "metadata": {},
   "source": [
    "#### Writing better loops:\n",
    "\n",
    "The best way to make a loop more efficient is to analyze what's being done within the loop. We want to make sure that we aren't doing unnecessary work in each iteration. If a calculation is performed for each iteration of a loop, but its value doesn't change with each iteration, it's best to move this calculation outside (or above) the loop. If a loop is converting data types with each iteration, it's possible that this conversion can be done outside (or below) the loop using a map function. Anything that can be done once should be moved outside of a loop. Let's explore a few examples.\n",
    "\n",
    "Unnecessary code should be placed outside the loop in order to not take more execution time.\n",
    "\n",
    "#### Using holistic conversions\n",
    "\n",
    "Another way to make loops more efficient is to use holistic conversions outside (or below) the loop. In the example below we have three lists from the 720 Pokémon dataset: a list of each Pokémon's name, a list corresponding to whether or not a Pokémon has a legendary status, and a list of each Pokémon's generation. We want to combine these objects so that each name, status, and generation is stored in an individual list. To do this, we'll use a loop that iterates over the output of the zip function. Remember, zip returns a collection of tuples, so we need to convert each tuple into a list since we want to create a list of lists as our output. Then, we append each individual poke_list to our poke_data output variable. By printing the result, we see our desired list of lists."
   ]
  },
  {
   "cell_type": "code",
   "execution_count": 34,
   "id": "1e196fc1-153f-4ab5-ab33-e1f09d7b8d2a",
   "metadata": {},
   "outputs": [],
   "source": [
    "names_list = ['Pikachu', 'Bulbasaur', 'Charizard', 'Mewtwo', 'Eevee']\n",
    "\n",
    "# Sample data for legendary status (1 for legendary, 0 for non-legendary)\n",
    "legend_status_list = [0, 0, 0, 1, 0]  # Mewtwo is legendary\n",
    "\n",
    "# Sample data for generations\n",
    "generations_list = [1, 1, 1, 1, 1]  # All these Pokémon are from Generation 1\n"
   ]
  },
  {
   "cell_type": "code",
   "execution_count": 35,
   "id": "2914d601-e216-48bb-9cac-f475d5695cea",
   "metadata": {},
   "outputs": [
    {
     "name": "stdout",
     "output_type": "stream",
     "text": [
      "11.4 µs ± 0 ns per loop (mean ± std. dev. of 1 run, 1 loop each)\n"
     ]
    }
   ],
   "source": [
    "%%timeit -r1 -n1\n",
    "poke_data = []\n",
    "for poke_tuple in zip(names_list, legend_status_list, generations_list):\n",
    "    poke_list = list(poke_tuple)\n",
    "    poke_data.append(poke_list)"
   ]
  },
  {
   "cell_type": "markdown",
   "id": "2cd92de1-fb39-4b38-bdfe-8fc1a935955e",
   "metadata": {},
   "source": [
    "However, converting each tuple to a list within the loop is not very efficient. Instead, we should collect all of our poke_tuples together, and use the map function to convert each tuple to a list. The loop no longer converts tuples to lists with each iteration. Instead, we moved this tuple to list conversion outside (or below) the loop. That way, we convert data types all at once (or holistically) rather than converting in each iteration."
   ]
  },
  {
   "cell_type": "code",
   "execution_count": 36,
   "id": "a2e19647-1c56-477b-a9dc-ad1a6d75dfbc",
   "metadata": {},
   "outputs": [
    {
     "name": "stdout",
     "output_type": "stream",
     "text": [
      "16.2 µs ± 0 ns per loop (mean ± std. dev. of 1 run, 1 loop each)\n"
     ]
    }
   ],
   "source": [
    "%%timeit -r1 -n1\n",
    "poke_data_tuples = []\n",
    "for poke_tuple in zip(names_list, legend_status_list, generations_list):\n",
    "    poke_data_tuples.append(poke_tuple)\n",
    "    poke_data = [*map(list, poke_data_tuples)]"
   ]
  },
  {
   "cell_type": "markdown",
   "id": "73526781-06fd-41e5-834d-7b6f41e883a6",
   "metadata": {},
   "source": [
    "## 2. Pandas Optimization\n",
    "\n",
    "### Iterating with .iterrows() \n",
    "\n",
    "pandas come with a few efficient methods for looping over a DataFrame. The first method we'll cover is the .iterrows method. This is similar to the .iloc method, but .iterrows returns each DataFrame row as a tuple of (index, pandas Series) pairs. This means each object returned from .iterrows contains the index of each row as the first element and the data in each row as a pandas Series as the second element.\n",
    "\n",
    "Notice that we still create the empty win_perc_list, but now we don't have to create an index variable to look up each row within the DataFrame. .iterrows handles the indexing for us! "
   ]
  },
  {
   "cell_type": "code",
   "execution_count": null,
   "id": "0fecad8a-4748-428c-8d9d-70b2fd3d9d21",
   "metadata": {},
   "outputs": [],
   "source": [
    "## more efficient\n",
    "%%timeit\n",
    "win_perc_list = []\n",
    "for i,row in baseball_df.iterrows():\n",
    "    wins = row['W']\n",
    "    games_played = row['G']\n",
    "\n",
    "    win_perc = calc_win_perc(wins, games_played)\n",
    "    win_perc_list.append(win_perc)\n",
    "\n",
    "baseball_df['WP'] = win_perc_list"
   ]
  },
  {
   "cell_type": "markdown",
   "id": "b52576c9-3319-477b-97e0-8fb950bdf836",
   "metadata": {},
   "source": [
    "#### Iterating with .itertuples()\n",
    "\n",
    "If we use .iterrows to loop over our team_wins_df DataFrame and print each row's tuple, we see that each row's values are stored as a pandas Series. Remember, .iterrows returns each DataFrame row as a tuple of (index, pandas Series) pairs, so we have to access the row's values with square bracket indexing.\n",
    "\n",
    "But, we could use .itertuples to loop over our DataFrame rows instead. The .itertuples method returns each DataFrame row as a special data type called a namedtuple. A namedtuple is one of the specialized data types that exist within the collections module we've discussed previously. These data types behave just like a Python tuple but have fields accessible using attribute lookup.\n",
    "\n"
   ]
  },
  {
   "cell_type": "code",
   "execution_count": null,
   "id": "8340bf44-f5d5-4358-9e76-4c1f52ab1bc3",
   "metadata": {},
   "outputs": [],
   "source": [
    "team_wins_df = baseball_df[['Team','Year','W']]\n",
    "for row_namedtuple in team_wins_df.itertuples():\n",
    "    print(row_namedtuple)\n",
    "    print(row_namedtuple.Index)\n",
    "    print(row_namedtuple.Team)"
   ]
  },
  {
   "cell_type": "markdown",
   "id": "a4ba8ef6-e981-406f-8fd0-ca20c4308567",
   "metadata": {},
   "source": [
    "The reason .itertuples is more efficient than .iterrows is due to the way each method stores its output. Since .iterrows returns each row's values as a pandas Series, there is a bit more overhead."
   ]
  },
  {
   "cell_type": "markdown",
   "id": "a108a1a8-1aa3-4556-8b9d-5b1fb6fea99d",
   "metadata": {},
   "source": [
    "### Pandas Alternative to Looping\n",
    "\n",
    "In order to write efficient code, we want to avoid looping as much as possible. Therefore now we will explore an alternative to using .iterrows and .itertuples to perform calculations on a DataFrame."
   ]
  },
  {
   "cell_type": "code",
   "execution_count": null,
   "id": "588a8f24-539a-4590-bc94-1b2bbc1d8276",
   "metadata": {},
   "outputs": [],
   "source": [
    "def calc_run_diff(runs_scored, runs_allowed):\n",
    "    run_diff = runs_scored - runs_allowed\n",
    "    return run_diff\n",
    "\n",
    "%%timeit\n",
    "run_diffs_iterrows = []\n",
    "\n",
    "for i,row in baseball_df.iterrows():\n",
    "    run_diff = calc_run_diff(row['RS'], row['RA'])\n",
    "    run_diffs_iterrows.append(run_diff)\n",
    "\n",
    "baseball_df['RD'] = run_diffs_iterrows\n"
   ]
  },
  {
   "cell_type": "markdown",
   "id": "61202d2e-d48b-4739-9644-4f7fa574934c",
   "metadata": {},
   "source": [
    "#### Pandas.apply() Method\n",
    "\n",
    "One alternative to using a loop to iterate over a DataFrame is to use pandas.apply method. This function acts like the map function. It takes a function as an input and applies this function to an entire DataFrame.  "
   ]
  },
  {
   "cell_type": "code",
   "execution_count": null,
   "id": "914da44a-5394-4e97-b093-0b5aa940d0ee",
   "metadata": {},
   "outputs": [],
   "source": [
    "%%timeit\n",
    "run_diffs_apply = baseball_df.apply(\n",
    "    lambda row: calc_run_diff(row['RS'], row['RA']),\n",
    "    axis=1)\n",
    "\n",
    "baseball_df['RD'] = run_diffs_apply"
   ]
  },
  {
   "cell_type": "markdown",
   "id": "7c2964fc-bba2-4a79-a23f-38b7a1aa6ebc",
   "metadata": {},
   "source": [
    "#### Optimal Pandas Iterating\n",
    "The beauty of knowing that pandas are built on NumPy can be seen when taking advantage of a NumPy array's broadcasting abilities."
   ]
  },
  {
   "cell_type": "code",
   "execution_count": null,
   "id": "e628ee41-3d9f-4c5a-aa35-4b4839ff14af",
   "metadata": {},
   "outputs": [],
   "source": [
    "%%timeit\n",
    "\n",
    "run_diffs_np = baseball_df['RS'].values - baseball_df['RA'].values\n",
    "baseball_df['RD'] = run_diffs_np"
   ]
  },
  {
   "cell_type": "markdown",
   "id": "d0e4b1a7-2b40-472c-9b96-8771239acb3b",
   "metadata": {},
   "source": [
    "#### Stop Looping Through Pandas DataFrames\n",
    "\n",
    "##### Looping effectively using .iterrows()\n",
    "Generators are a simple tool to create iterators. Inside the body of a generator, instead of return statements, you will find only yield() statements. There can be just one, or several yield() statements. Here, we can see a generator, city_name_generator(), that produces four city names. We assign the generator to the variable city_names for simplicity."
   ]
  },
  {
   "cell_type": "code",
   "execution_count": 39,
   "id": "e59c7eaa-00af-4517-91ff-4292ec354d1a",
   "metadata": {},
   "outputs": [],
   "source": [
    "def city_name_generator():\n",
    "  yield('New York')\n",
    "  yield('London')\n",
    "  yield('Tokyo')\n",
    "  yield('Sao Paolo')\n",
    "\n",
    "city_names = city_name_generator()"
   ]
  },
  {
   "cell_type": "code",
   "execution_count": 42,
   "id": "535288a0-60b6-44fa-acbc-05abfc05642e",
   "metadata": {},
   "outputs": [
    {
     "data": {
      "text/plain": [
       "'New York'"
      ]
     },
     "execution_count": 42,
     "metadata": {},
     "output_type": "execute_result"
    }
   ],
   "source": [
    "next(city_names)"
   ]
  },
  {
   "cell_type": "code",
   "execution_count": 43,
   "id": "989006c3-d6ec-4cac-b58c-defceaea6b0f",
   "metadata": {},
   "outputs": [
    {
     "data": {
      "text/plain": [
       "'London'"
      ]
     },
     "execution_count": 43,
     "metadata": {},
     "output_type": "execute_result"
    }
   ],
   "source": [
    "next(city_names)"
   ]
  },
  {
   "cell_type": "code",
   "execution_count": 44,
   "id": "c7de31d4-a8fc-4d73-9915-ec4e0b7be940",
   "metadata": {},
   "outputs": [
    {
     "data": {
      "text/plain": [
       "'Tokyo'"
      ]
     },
     "execution_count": 44,
     "metadata": {},
     "output_type": "execute_result"
    }
   ],
   "source": [
    "next(city_names)"
   ]
  },
  {
   "cell_type": "markdown",
   "id": "a7ea1c4a-b074-4606-83bf-f370f160e9b6",
   "metadata": {},
   "source": [
    "One smarter way to iterate through a pandas DataFrame is to use the .iterrows() function, which is optimized for this task. We simply define the ‘for’ loop with two iterators, one for the number of each row and the other for all the values"
   ]
  },
  {
   "cell_type": "code",
   "execution_count": null,
   "id": "149c6ed1-2a6f-4d3d-a48c-bbf2c6925eec",
   "metadata": {},
   "outputs": [],
   "source": [
    "data_generator = poker_data.iterrows()\n",
    "start_time = time.time()\n",
    "for index, values in data_generator:\n",
    "  next\n",
    "print(\"Time using .iterrows(): {} sec\".format(time.time() - start_time))\n"
   ]
  },
  {
   "cell_type": "markdown",
   "id": "ef7df964-c949-4d9f-8378-f92b02ec704c",
   "metadata": {},
   "source": [
    "#### Looping Effectively Using .apply()\n",
    "Now we will use the .apply() function to be able to perform a specific task while iterating through a pandas DataFrame. The .apply() function does exactly what it says; it applies another function to the whole DataFrame.\n",
    "\n",
    "apply() vs. iterrows()"
   ]
  },
  {
   "cell_type": "code",
   "execution_count": null,
   "id": "38637c23-78cd-41cd-9861-fbe39dc7ea0e",
   "metadata": {},
   "outputs": [],
   "source": [
    "data_sqrt = poker_data.apply(lambda x: np.sqrt(x), axis =0 )\n",
    "data_sqrt.head()"
   ]
  },
  {
   "cell_type": "code",
   "execution_count": null,
   "id": "743be75e-383d-4cf4-a981-7bc04366f230",
   "metadata": {},
   "outputs": [],
   "source": [
    "apply_start_time = time.time()\n",
    "poker_data[['R1', 'R2', 'R3', 'R4', 'R5']].apply(lambda x: sum(x), axis=1)\n",
    "apply_end_time = time.time()\n",
    "apply_time = apply_end_time - apply_start_time\n",
    "print(\"Time using .apply(): {} sec\".format(apply_time))"
   ]
  },
  {
   "cell_type": "code",
   "execution_count": null,
   "id": "d31505b2-9228-48a0-aba3-1a806cf3e0ae",
   "metadata": {},
   "outputs": [],
   "source": [
    "for_loop_start_time = time.time()\n",
    "for ind, value in poker_data.iterrows():\n",
    "  sum([value[1], value[3], value[5], value[7], value[9]])\n",
    "for_loop_end_time = time.time()\n",
    "\n",
    "for_loop_time = for_loop_end_time - for_loop_start_time\n",
    "print(\"Time using .iterrows(): {} sec\".format(for_loop_time))"
   ]
  },
  {
   "cell_type": "markdown",
   "id": "4144d9b4-fd34-4bda-a901-4f814f62500d",
   "metadata": {},
   "source": [
    "Using the .apply() function is significantly faster than the .iterrows() function, with a magnitude of around 400 percent, which is a massive improvement!\n",
    "\n",
    "apply() vs. pandas built in function"
   ]
  },
  {
   "cell_type": "code",
   "execution_count": null,
   "id": "3f40305c-ebd3-4806-936c-be76754e67a1",
   "metadata": {},
   "outputs": [],
   "source": [
    "apply_start_time = time.time()\n",
    "poker_data[['R1', 'R2', 'R3', 'R4', 'R5']].apply(lambda x: sum(x), axis=0)\n",
    "apply_end_time = time.time()\n",
    "apply_time = apply_end_time - apply_start_time\n",
    "print(\"Time using .apply(): {} sec\".format(apply_time))"
   ]
  },
  {
   "cell_type": "code",
   "execution_count": null,
   "id": "1f675a4e-6c7d-45c4-b724-24848ee111e1",
   "metadata": {},
   "outputs": [],
   "source": [
    "pandas_start_time = time.time()\n",
    "poker_data[['R1', 'R1', 'R3', 'R4', 'R5']].sum(axis=0)\n",
    "pandas_end_time = time.time()\n",
    "pandas_time = pandas_end_time - pandas_start_time\n",
    "print(\"Time using pandas: {} sec\".format(pandas_time))"
   ]
  },
  {
   "cell_type": "markdown",
   "id": "0084282c-0696-4a07-b0d5-83948dfbdcda",
   "metadata": {},
   "source": [
    "#### Looping effectively using vectorization"
   ]
  },
  {
   "cell_type": "code",
   "execution_count": 45,
   "id": "341da940-d221-4b70-bf45-59f2cedadf78",
   "metadata": {},
   "outputs": [
    {
     "name": "stdout",
     "output_type": "stream",
     "text": [
      "Vectorized time: 0.004617929458618164 seconds\n"
     ]
    }
   ],
   "source": [
    "import numpy as np\n",
    "import time\n",
    "\n",
    "# Initialize an array\n",
    "n = 1000000\n",
    "array = np.random.rand(n)\n",
    "\n",
    "# Vectorized operation: compute the square of each element\n",
    "start_time = time.time()\n",
    "squared = array ** 2\n",
    "end_time = time.time()\n",
    "\n",
    "print(f\"Vectorized time: {end_time - start_time} seconds\")"
   ]
  },
  {
   "cell_type": "markdown",
   "id": "dd72e9f9-b621-4eeb-8306-61762f1789ff",
   "metadata": {},
   "source": [
    "### \n",
    "#### How To Use .groupby() Effectively As A Data Scient\n",
    "\n",
    "##### Common functions used with .groupby()\n",
    "One of the simplest methods to apply to an aggregated group is the .count(). In the example below we will apply this to the restaurant dataset. At first, we group the restaurant data according to whether the customer was a smoker or not. Then, we apply the .count() method. We obtain the count of smokers and non-smokers."
   ]
  },
  {
   "cell_type": "code",
   "execution_count": 47,
   "id": "907afa7d-85e1-4bee-b4de-f778f07d6eb8",
   "metadata": {},
   "outputs": [
    {
     "name": "stdout",
     "output_type": "stream",
     "text": [
      "<class 'pandas.core.frame.DataFrame'>\n",
      "RangeIndex: 11345 entries, 0 to 11344\n",
      "Data columns (total 6 columns):\n",
      " #   Column              Non-Null Count  Dtype \n",
      "---  ------              --------------  ----- \n",
      " 0   Year of Birth       11345 non-null  int64 \n",
      " 1   Gender              11345 non-null  object\n",
      " 2   Ethnicity           11345 non-null  object\n",
      " 3   Child's First Name  11345 non-null  object\n",
      " 4   Count               11345 non-null  int64 \n",
      " 5   Rank                11345 non-null  int64 \n",
      "dtypes: int64(3), object(3)\n",
      "memory usage: 531.9+ KB\n"
     ]
    }
   ],
   "source": [
    "import pandas as pd\n",
    "baby_names = pd.read_csv('popular_Baby_Names.csv')\n",
    "\n",
    "baby_names.info()"
   ]
  },
  {
   "cell_type": "code",
   "execution_count": 50,
   "id": "180f66fa-6af3-455b-a05d-4cd0e1348b33",
   "metadata": {},
   "outputs": [
    {
     "name": "stdout",
     "output_type": "stream",
     "text": [
      "        Year of Birth  Ethnicity  Child's First Name  Count  Rank\n",
      "Gender                                                           \n",
      "FEMALE           5756       5756                5756   5756  5756\n",
      "MALE             5539       5539                5539   5539  5539\n",
      "female             50         50                  50     50    50\n"
     ]
    }
   ],
   "source": [
    "baby_names_grouped=baby_names.groupby('Gender')\n",
    "print(baby_names_grouped.count())"
   ]
  },
  {
   "cell_type": "markdown",
   "id": "1841353f-a4d9-4556-9749-8b6b093dcb82",
   "metadata": {},
   "source": [
    "Apply the z-score transformation a normalization transformation, which is the distance between each value and the mean, divided by the standard deviation. "
   ]
  },
  {
   "cell_type": "code",
   "execution_count": null,
   "id": "057ef872-1b37-43e9-a2cc-0e0443067ea8",
   "metadata": {},
   "outputs": [],
   "source": [
    "z_score= lambda x:(x-x.mean())/x.std()\n",
    "baby_names_count=baby_names.groupby('Year of Birth')\n"
   ]
  },
  {
   "cell_type": "code",
   "execution_count": 72,
   "id": "2755c920-43fe-410a-85ee-9aa865308c58",
   "metadata": {},
   "outputs": [
    {
     "data": {
      "text/plain": [
       "Gender\n",
       "FEMALE    5756\n",
       "MALE      5539\n",
       "female      50\n",
       "Name: Count, dtype: int64"
      ]
     },
     "execution_count": 72,
     "metadata": {},
     "output_type": "execute_result"
    }
   ],
   "source": [
    "gender_count=baby_names.groupby('Gender')['Count'].count()\n",
    "gender_count"
   ]
  },
  {
   "cell_type": "code",
   "execution_count": 73,
   "id": "603b94ec-d707-4139-a77e-77352336fcb1",
   "metadata": {},
   "outputs": [
    {
     "data": {
      "text/plain": [
       "5539"
      ]
     },
     "execution_count": 73,
     "metadata": {},
     "output_type": "execute_result"
    }
   ],
   "source": [
    "male_count.loc['MALE']"
   ]
  },
  {
   "cell_type": "code",
   "execution_count": 74,
   "id": "8c510d7d-e66a-41c9-9e59-34cf1e1bd5af",
   "metadata": {},
   "outputs": [
    {
     "data": {
      "text/plain": [
       "5756"
      ]
     },
     "execution_count": 74,
     "metadata": {},
     "output_type": "execute_result"
    }
   ],
   "source": [
    "male_count.loc['FEMALE']"
   ]
  },
  {
   "cell_type": "markdown",
   "id": "978d7942-163f-4596-a572-f26b16281b70",
   "metadata": {},
   "source": [
    "### 3. Missing value imputation using .groupby() & .transform()\n"
   ]
  },
  {
   "cell_type": "code",
   "execution_count": 75,
   "id": "2915751d-1f82-4a86-beb2-4bb085c85af0",
   "metadata": {},
   "outputs": [
    {
     "data": {
      "text/plain": [
       "Year of Birth         0\n",
       "Gender                0\n",
       "Ethnicity             0\n",
       "Child's First Name    0\n",
       "Count                 0\n",
       "Rank                  0\n",
       "dtype: int64"
      ]
     },
     "execution_count": 75,
     "metadata": {},
     "output_type": "execute_result"
    }
   ],
   "source": [
    "baby_names.isna().sum()"
   ]
  },
  {
   "cell_type": "markdown",
   "id": "4303be9f-46b7-42b5-909c-891ba799f252",
   "metadata": {},
   "source": [
    "There are no null values in the dataframe\n",
    "\n",
    "if we have null values in Count and we need to fill it with mean than we can use transform"
   ]
  },
  {
   "cell_type": "code",
   "execution_count": null,
   "id": "2556cc3b-16a7-406c-ba25-f57969ceb707",
   "metadata": {},
   "outputs": [],
   "source": [
    "fill_na_count = lambda x: x.fillna(x.mean())\n",
    "baby_names_count=baby_names.groupby('Gender')['Count']\n",
    "baby_names_count.transform(fill_na_count)"
   ]
  },
  {
   "cell_type": "code",
   "execution_count": null,
   "id": "cc282828-b616-4e8d-9266-b94e8da27fe8",
   "metadata": {},
   "outputs": [],
   "source": [
    "baby_names.loc[baby_names.Gender == 'MALE']['Count'].mean()"
   ]
  },
  {
   "cell_type": "markdown",
   "id": "0f176ae0-a5c7-4503-81ea-98b83c29b5df",
   "metadata": {},
   "source": [
    "#### 4. Data filtration using the .groupby() & .filter()\n",
    "\n",
    "filter(): only a subset of those groups, based on some specific conditions."
   ]
  },
  {
   "cell_type": "code",
   "execution_count": 76,
   "id": "4c6170e3-6600-4146-a7a0-6003ce859b8f",
   "metadata": {},
   "outputs": [
    {
     "data": {
      "text/html": [
       "<div>\n",
       "<style scoped>\n",
       "    .dataframe tbody tr th:only-of-type {\n",
       "        vertical-align: middle;\n",
       "    }\n",
       "\n",
       "    .dataframe tbody tr th {\n",
       "        vertical-align: top;\n",
       "    }\n",
       "\n",
       "    .dataframe thead th {\n",
       "        text-align: right;\n",
       "    }\n",
       "</style>\n",
       "<table border=\"1\" class=\"dataframe\">\n",
       "  <thead>\n",
       "    <tr style=\"text-align: right;\">\n",
       "      <th></th>\n",
       "      <th>Year of Birth</th>\n",
       "      <th>Gender</th>\n",
       "      <th>Ethnicity</th>\n",
       "      <th>Child's First Name</th>\n",
       "      <th>Count</th>\n",
       "      <th>Rank</th>\n",
       "    </tr>\n",
       "  </thead>\n",
       "  <tbody>\n",
       "    <tr>\n",
       "      <th>0</th>\n",
       "      <td>2011</td>\n",
       "      <td>FEMALE</td>\n",
       "      <td>ASIAN AND PACIFIC ISLANDER</td>\n",
       "      <td>SOPHIA</td>\n",
       "      <td>119</td>\n",
       "      <td>1</td>\n",
       "    </tr>\n",
       "    <tr>\n",
       "      <th>1</th>\n",
       "      <td>2011</td>\n",
       "      <td>FEMALE</td>\n",
       "      <td>ASIAN AND PACIFIC ISLANDER</td>\n",
       "      <td>CHLOE</td>\n",
       "      <td>106</td>\n",
       "      <td>2</td>\n",
       "    </tr>\n",
       "    <tr>\n",
       "      <th>2</th>\n",
       "      <td>2011</td>\n",
       "      <td>FEMALE</td>\n",
       "      <td>ASIAN AND PACIFIC ISLANDER</td>\n",
       "      <td>EMILY</td>\n",
       "      <td>93</td>\n",
       "      <td>3</td>\n",
       "    </tr>\n",
       "    <tr>\n",
       "      <th>3</th>\n",
       "      <td>2011</td>\n",
       "      <td>FEMALE</td>\n",
       "      <td>ASIAN AND PACIFIC ISLANDER</td>\n",
       "      <td>OLIVIA</td>\n",
       "      <td>89</td>\n",
       "      <td>4</td>\n",
       "    </tr>\n",
       "    <tr>\n",
       "      <th>4</th>\n",
       "      <td>2011</td>\n",
       "      <td>FEMALE</td>\n",
       "      <td>ASIAN AND PACIFIC ISLANDER</td>\n",
       "      <td>EMMA</td>\n",
       "      <td>75</td>\n",
       "      <td>5</td>\n",
       "    </tr>\n",
       "  </tbody>\n",
       "</table>\n",
       "</div>"
      ],
      "text/plain": [
       "   Year of Birth  Gender                   Ethnicity Child's First Name  \\\n",
       "0           2011  FEMALE  ASIAN AND PACIFIC ISLANDER             SOPHIA   \n",
       "1           2011  FEMALE  ASIAN AND PACIFIC ISLANDER              CHLOE   \n",
       "2           2011  FEMALE  ASIAN AND PACIFIC ISLANDER              EMILY   \n",
       "3           2011  FEMALE  ASIAN AND PACIFIC ISLANDER             OLIVIA   \n",
       "4           2011  FEMALE  ASIAN AND PACIFIC ISLANDER               EMMA   \n",
       "\n",
       "   Count  Rank  \n",
       "0    119     1  \n",
       "1    106     2  \n",
       "2     93     3  \n",
       "3     89     4  \n",
       "4     75     5  "
      ]
     },
     "execution_count": 76,
     "metadata": {},
     "output_type": "execute_result"
    }
   ],
   "source": [
    "baby_names.head(5)"
   ]
  },
  {
   "cell_type": "code",
   "execution_count": 77,
   "id": "fe1d8fe4-ed31-4dfc-9801-f0f730d920c6",
   "metadata": {},
   "outputs": [
    {
     "data": {
      "text/plain": [
       "array(['ASIAN AND PACIFIC ISLANDER', 'BLACK NON HISPANIC', 'HISPANIC',\n",
       "       'WHITE NON HISPANIC', 'ASIAN AND PACI', 'BLACK NON HISP',\n",
       "       'WHITE NON HISP'], dtype=object)"
      ]
     },
     "execution_count": 77,
     "metadata": {},
     "output_type": "execute_result"
    }
   ],
   "source": [
    "baby_names['Ethnicity'].unique()"
   ]
  },
  {
   "cell_type": "code",
   "execution_count": 81,
   "id": "f9928c31-f49f-475b-90e0-2d2a5832cfd9",
   "metadata": {},
   "outputs": [
    {
     "data": {
      "text/html": [
       "<div>\n",
       "<style scoped>\n",
       "    .dataframe tbody tr th:only-of-type {\n",
       "        vertical-align: middle;\n",
       "    }\n",
       "\n",
       "    .dataframe tbody tr th {\n",
       "        vertical-align: top;\n",
       "    }\n",
       "\n",
       "    .dataframe thead th {\n",
       "        text-align: right;\n",
       "    }\n",
       "</style>\n",
       "<table border=\"1\" class=\"dataframe\">\n",
       "  <thead>\n",
       "    <tr style=\"text-align: right;\">\n",
       "      <th></th>\n",
       "      <th>Year of Birth</th>\n",
       "      <th>Gender</th>\n",
       "      <th>Ethnicity</th>\n",
       "      <th>Child's First Name</th>\n",
       "      <th>Count</th>\n",
       "      <th>Rank</th>\n",
       "    </tr>\n",
       "  </thead>\n",
       "  <tbody>\n",
       "    <tr>\n",
       "      <th>0</th>\n",
       "      <td>2011</td>\n",
       "      <td>FEMALE</td>\n",
       "      <td>ASIAN AND PACIFIC ISLANDER</td>\n",
       "      <td>SOPHIA</td>\n",
       "      <td>119</td>\n",
       "      <td>1</td>\n",
       "    </tr>\n",
       "    <tr>\n",
       "      <th>1</th>\n",
       "      <td>2011</td>\n",
       "      <td>FEMALE</td>\n",
       "      <td>ASIAN AND PACIFIC ISLANDER</td>\n",
       "      <td>CHLOE</td>\n",
       "      <td>106</td>\n",
       "      <td>2</td>\n",
       "    </tr>\n",
       "    <tr>\n",
       "      <th>2</th>\n",
       "      <td>2011</td>\n",
       "      <td>FEMALE</td>\n",
       "      <td>ASIAN AND PACIFIC ISLANDER</td>\n",
       "      <td>EMILY</td>\n",
       "      <td>93</td>\n",
       "      <td>3</td>\n",
       "    </tr>\n",
       "    <tr>\n",
       "      <th>3</th>\n",
       "      <td>2011</td>\n",
       "      <td>FEMALE</td>\n",
       "      <td>ASIAN AND PACIFIC ISLANDER</td>\n",
       "      <td>OLIVIA</td>\n",
       "      <td>89</td>\n",
       "      <td>4</td>\n",
       "    </tr>\n",
       "    <tr>\n",
       "      <th>4</th>\n",
       "      <td>2011</td>\n",
       "      <td>FEMALE</td>\n",
       "      <td>ASIAN AND PACIFIC ISLANDER</td>\n",
       "      <td>EMMA</td>\n",
       "      <td>75</td>\n",
       "      <td>5</td>\n",
       "    </tr>\n",
       "    <tr>\n",
       "      <th>...</th>\n",
       "      <td>...</td>\n",
       "      <td>...</td>\n",
       "      <td>...</td>\n",
       "      <td>...</td>\n",
       "      <td>...</td>\n",
       "      <td>...</td>\n",
       "    </tr>\n",
       "    <tr>\n",
       "      <th>11340</th>\n",
       "      <td>2016</td>\n",
       "      <td>FEMALE</td>\n",
       "      <td>BLACK NON HISPANIC</td>\n",
       "      <td>Saniyah</td>\n",
       "      <td>10</td>\n",
       "      <td>43</td>\n",
       "    </tr>\n",
       "    <tr>\n",
       "      <th>11341</th>\n",
       "      <td>2016</td>\n",
       "      <td>FEMALE</td>\n",
       "      <td>BLACK NON HISPANIC</td>\n",
       "      <td>Skye</td>\n",
       "      <td>10</td>\n",
       "      <td>43</td>\n",
       "    </tr>\n",
       "    <tr>\n",
       "      <th>11342</th>\n",
       "      <td>2016</td>\n",
       "      <td>FEMALE</td>\n",
       "      <td>BLACK NON HISPANIC</td>\n",
       "      <td>Tiana</td>\n",
       "      <td>10</td>\n",
       "      <td>43</td>\n",
       "    </tr>\n",
       "    <tr>\n",
       "      <th>11343</th>\n",
       "      <td>2016</td>\n",
       "      <td>FEMALE</td>\n",
       "      <td>BLACK NON HISPANIC</td>\n",
       "      <td>Violet</td>\n",
       "      <td>10</td>\n",
       "      <td>43</td>\n",
       "    </tr>\n",
       "    <tr>\n",
       "      <th>11344</th>\n",
       "      <td>2016</td>\n",
       "      <td>FEMALE</td>\n",
       "      <td>BLACK NON HISPANIC</td>\n",
       "      <td>Zahra</td>\n",
       "      <td>10</td>\n",
       "      <td>43</td>\n",
       "    </tr>\n",
       "  </tbody>\n",
       "</table>\n",
       "<p>11295 rows × 6 columns</p>\n",
       "</div>"
      ],
      "text/plain": [
       "       Year of Birth  Gender                   Ethnicity Child's First Name  \\\n",
       "0               2011  FEMALE  ASIAN AND PACIFIC ISLANDER             SOPHIA   \n",
       "1               2011  FEMALE  ASIAN AND PACIFIC ISLANDER              CHLOE   \n",
       "2               2011  FEMALE  ASIAN AND PACIFIC ISLANDER              EMILY   \n",
       "3               2011  FEMALE  ASIAN AND PACIFIC ISLANDER             OLIVIA   \n",
       "4               2011  FEMALE  ASIAN AND PACIFIC ISLANDER               EMMA   \n",
       "...              ...     ...                         ...                ...   \n",
       "11340           2016  FEMALE          BLACK NON HISPANIC            Saniyah   \n",
       "11341           2016  FEMALE          BLACK NON HISPANIC               Skye   \n",
       "11342           2016  FEMALE          BLACK NON HISPANIC              Tiana   \n",
       "11343           2016  FEMALE          BLACK NON HISPANIC             Violet   \n",
       "11344           2016  FEMALE          BLACK NON HISPANIC              Zahra   \n",
       "\n",
       "       Count  Rank  \n",
       "0        119     1  \n",
       "1        106     2  \n",
       "2         93     3  \n",
       "3         89     4  \n",
       "4         75     5  \n",
       "...      ...   ...  \n",
       "11340     10    43  \n",
       "11341     10    43  \n",
       "11342     10    43  \n",
       "11343     10    43  \n",
       "11344     10    43  \n",
       "\n",
       "[11295 rows x 6 columns]"
      ]
     },
     "execution_count": 81,
     "metadata": {},
     "output_type": "execute_result"
    }
   ],
   "source": [
    "baby_names_gender=baby_names.groupby('Gender')\n",
    "filter_transform = lambda x: x['Count'].mean()>20\n",
    "baby_names_gender.filter(filter_transform)"
   ]
  },
  {
   "cell_type": "markdown",
   "id": "6ca996fc-51fe-4b11-9006-27f8d41eecee",
   "metadata": {},
   "source": [
    "#### 5. Writing Efficient python code\n",
    "\n",
    "- Use generator to return list:\n",
    "\n",
    "Generators are a type of iterable in Python that allow you to iterate over a sequence of values without storing the entire sequence in memory at once. They are defined using functions and the yield keyword, which allows the function to return a value and pause its state, resuming when the next value is requested. This makes generators an efficient way to handle large data sets or streams of data.\n",
    "\n",
    "**Why using Generators:**\n",
    "\n",
    "- Memory Efficient: Generators produce items one at a time and only when required, which means they don’t need to store the entire sequence in memory. This is especially useful for large datasets. Performance: Since generators yield items on the fly, they can provide a performance boost by avoiding the overhead of creating and storing large data structures.\n",
    "- Lazy Evaluation: Generators compute values as needed, which can lead to more efficient and responsive programs.\n",
    "- Simpler Code: Generators can simplify the code needed to create iterators, making it easier to read and maintain.\n"
   ]
  },
  {
   "cell_type": "code",
   "execution_count": 83,
   "id": "d52cf79a-ea6d-4616-bbf4-0c3dd7728168",
   "metadata": {},
   "outputs": [
    {
     "data": {
      "text/plain": [
       "[0, 1, 4, 9, 16, 25, 36, 49, 64, 81]"
      ]
     },
     "execution_count": 83,
     "metadata": {},
     "output_type": "execute_result"
    }
   ],
   "source": [
    "def get_squares(n):\n",
    "    squares=[]\n",
    "    for i in range(n):\n",
    "        squares.append(i*i)\n",
    "    return squares\n",
    "\n",
    "get_squares(10)"
   ]
  },
  {
   "cell_type": "markdown",
   "id": "b1d85d41-dd77-4040-85ac-e2f1f5381c21",
   "metadata": {},
   "source": [
    "Use generator instead:"
   ]
  },
  {
   "cell_type": "code",
   "execution_count": 85,
   "id": "d03d85ee-2507-48ea-93ad-e5a50e3faff5",
   "metadata": {},
   "outputs": [],
   "source": [
    "def get_squares(n):\n",
    "    for i in range(n):\n",
    "        yield i*i\n",
    "\n",
    "generator_squares=get_squares(10)"
   ]
  },
  {
   "cell_type": "code",
   "execution_count": 87,
   "id": "47a74d9c-a6b9-47ba-9738-6a6bc6c0726b",
   "metadata": {},
   "outputs": [
    {
     "data": {
      "text/plain": [
       "[0, 1, 4, 9, 16, 25, 36, 49, 64, 81]"
      ]
     },
     "execution_count": 87,
     "metadata": {},
     "output_type": "execute_result"
    }
   ],
   "source": [
    "list(generator_squares)"
   ]
  },
  {
   "cell_type": "markdown",
   "id": "7171e2ee-6e2c-43fc-9f9c-e5e9d3d2d6cc",
   "metadata": {},
   "source": [
    "- Using generators to return lists in Python provides significant advantages in terms of **memory efficiency, performance, and lazy evaluation**. By generating values on the fly, you can handle **large datasets** more effectively and write cleaner, more maintainable code.\n",
    "\n",
    "**kwargs** in Python\n",
    "\n",
    "- **kwargs**: allows you to pass a variable number of keyword arguments to a function. \n",
    "- This feature is useful when you want to handle named arguments that you may not know ahead of time or want to provide default values for some arguments while still allowing flexibility."
   ]
  },
  {
   "cell_type": "code",
   "execution_count": 90,
   "id": "61f9c22c-db3c-4d75-ad09-964983506b28",
   "metadata": {},
   "outputs": [
    {
     "name": "stdout",
     "output_type": "stream",
     "text": [
      "key: name, value: Nancy\n",
      "key: familyname, value: Bou Kamel\n",
      "key: Job, value: Data Scientist\n"
     ]
    }
   ],
   "source": [
    "def greet(**kwargs):\n",
    "    for key,value in kwargs.items():\n",
    "        print(f'key: {key}, value: {value}')\n",
    "\n",
    "greet(name='Nancy',familyname='Bou Kamel',Job='Data Scientist')"
   ]
  },
  {
   "cell_type": "markdown",
   "id": "37b612cd-efbb-486d-b8a6-5c49079e440b",
   "metadata": {},
   "source": [
    "### Selecting & Replacing Values In Pandas Effectively\n",
    "\n",
    "- Selecting Rows & Columns Efficiently using .iloc[] & .loc[]"
   ]
  },
  {
   "cell_type": "code",
   "execution_count": 92,
   "id": "2268d0c4-d2f7-439a-8aaf-4f46115b7d23",
   "metadata": {},
   "outputs": [
    {
     "name": "stdout",
     "output_type": "stream",
     "text": [
      "Time using .loc[] : 0.007197856903076172 sec\n"
     ]
    }
   ],
   "source": [
    "import time\n",
    "\n",
    "rows = range(0, 500)\n",
    "# Time selecting rows using .loc[]\n",
    "loc_start_time = time.time()\n",
    "baby_names.loc[rows]\n",
    "loc_end_time = time.time()\n",
    "print(\"Time using .loc[] : {} sec\".format(loc_end_time - loc_start_time))"
   ]
  },
  {
   "cell_type": "code",
   "execution_count": 94,
   "id": "85833652-53e1-4a6b-aaa5-55e3552fa965",
   "metadata": {},
   "outputs": [
    {
     "data": {
      "text/plain": [
       "Year of Birth                               2011\n",
       "Gender                                    FEMALE\n",
       "Ethnicity             ASIAN AND PACIFIC ISLANDER\n",
       "Child's First Name                         CHLOE\n",
       "Count                                        106\n",
       "Rank                                           2\n",
       "Name: 1, dtype: object"
      ]
     },
     "execution_count": 94,
     "metadata": {},
     "output_type": "execute_result"
    }
   ],
   "source": [
    "baby_names.loc[1]"
   ]
  },
  {
   "cell_type": "code",
   "execution_count": 96,
   "id": "0c1cf300-a5ca-4e71-8975-17cdff94e22c",
   "metadata": {},
   "outputs": [
    {
     "data": {
      "text/plain": [
       "Year of Birth                               2011\n",
       "Gender                                    FEMALE\n",
       "Ethnicity             ASIAN AND PACIFIC ISLANDER\n",
       "Child's First Name                         CHLOE\n",
       "Count                                        106\n",
       "Rank                                           2\n",
       "Name: 1, dtype: object"
      ]
     },
     "execution_count": 96,
     "metadata": {},
     "output_type": "execute_result"
    }
   ],
   "source": [
    "baby_names.iloc[1]"
   ]
  },
  {
   "cell_type": "code",
   "execution_count": 98,
   "id": "c09b2648-0cdd-4824-a420-38ff97acfc84",
   "metadata": {},
   "outputs": [
    {
     "name": "stdout",
     "output_type": "stream",
     "text": [
      "Time using .iloc[]: 0.0011758804321289062 sec\n"
     ]
    }
   ],
   "source": [
    "# Specify the range of rows to select\n",
    "rows = range(0, 500)\n",
    "# Time selecting rows using .iloc[]\n",
    "iloc_start_time = time.time()\n",
    "baby_names.iloc[rows]\n",
    "iloc_end_time = time.time()\n",
    "print(\"Time using .iloc[]: {} sec\".format(iloc_end_time - iloc_start_time))"
   ]
  },
  {
   "cell_type": "markdown",
   "id": "19305606-51b4-458c-90a1-95edfcf2e45b",
   "metadata": {},
   "source": [
    "- iloc[] is 70% fatser than loc[]\n",
    "- The .iloc[] function takes advantage of the order of the indices, which are already sorted, and is therefore faster.\n",
    "\n",
    "- Replacing values in Dataframe effectively:\n",
    "\n",
    "Important step in data cleaning"
   ]
  },
  {
   "cell_type": "code",
   "execution_count": 100,
   "id": "067d6857-74e8-4870-8e40-80610e726338",
   "metadata": {},
   "outputs": [
    {
     "data": {
      "text/plain": [
       "array(['FEMALE', 'female', 'MALE'], dtype=object)"
      ]
     },
     "execution_count": 100,
     "metadata": {},
     "output_type": "execute_result"
    }
   ],
   "source": [
    "baby_names['Gender'].unique()"
   ]
  },
  {
   "cell_type": "code",
   "execution_count": 104,
   "id": "3bce8835-f2e4-4fbe-a73f-abed6f6320b2",
   "metadata": {},
   "outputs": [
    {
     "name": "stdout",
     "output_type": "stream",
     "text": [
      "Replace values using .loc[]: 0.010368108749389648 sec\n"
     ]
    },
    {
     "name": "stderr",
     "output_type": "stream",
     "text": [
      "/var/folders/r7/xbd75fl13wvf24ktcp53cf1h0000gn/T/ipykernel_85517/4227535251.py:4: SettingWithCopyWarning: \n",
      "A value is trying to be set on a copy of a slice from a DataFrame\n",
      "\n",
      "See the caveats in the documentation: https://pandas.pydata.org/pandas-docs/stable/user_guide/indexing.html#returning-a-view-versus-a-copy\n",
      "  baby_name_copy['Gender'].loc[baby_name_copy['Gender']=='female']='FEMALE'\n"
     ]
    }
   ],
   "source": [
    "# Assuming 'names' is your DataFrame\n",
    "start_time = time.time()\n",
    "baby_name_copy=baby_names.copy()\n",
    "baby_name_copy['Gender'].loc[baby_name_copy['Gender']=='female']='FEMALE'\n",
    "end_time = time.time()\n",
    "\n",
    "pandas_time = end_time - start_time\n",
    "print(\"Replace values using .loc[]: {} sec\".format(pandas_time))"
   ]
  },
  {
   "cell_type": "code",
   "execution_count": 103,
   "id": "da607272-68b9-4c4d-b069-2c91259bfc3e",
   "metadata": {},
   "outputs": [
    {
     "data": {
      "text/plain": [
       "array(['FEMALE', 'MALE'], dtype=object)"
      ]
     },
     "execution_count": 103,
     "metadata": {},
     "output_type": "execute_result"
    }
   ],
   "source": [
    "baby_name_copy['Gender'].unique()"
   ]
  },
  {
   "cell_type": "code",
   "execution_count": 105,
   "id": "04d3a9a4-2ef4-4327-a606-8d01edb1f84b",
   "metadata": {},
   "outputs": [
    {
     "name": "stdout",
     "output_type": "stream",
     "text": [
      "Replace values using .loc[]: 0.004869222640991211 sec\n"
     ]
    }
   ],
   "source": [
    "# Assuming 'names' is your DataFrame\n",
    "start_time = time.time()\n",
    "baby_name_copy=baby_names.copy()\n",
    "baby_name_copy['Gender'].replace('female','FEMALE',inplace=True)\n",
    "end_time = time.time()\n",
    "\n",
    "pandas_time = end_time - start_time\n",
    "print(\"Replace values using .loc[]: {} sec\".format(pandas_time))\n"
   ]
  },
  {
   "cell_type": "markdown",
   "id": "37130b31-75d0-4dff-a4bb-685e5d0c04fd",
   "metadata": {},
   "source": [
    "- replace is faster than loc[]\n",
    "- What about Ethnicity?"
   ]
  },
  {
   "cell_type": "code",
   "execution_count": 106,
   "id": "2e95a237-4284-48ad-9b36-408aa3a18b85",
   "metadata": {},
   "outputs": [
    {
     "data": {
      "text/plain": [
       "array(['ASIAN AND PACIFIC ISLANDER', 'BLACK NON HISPANIC', 'HISPANIC',\n",
       "       'WHITE NON HISPANIC', 'ASIAN AND PACI', 'BLACK NON HISP',\n",
       "       'WHITE NON HISP'], dtype=object)"
      ]
     },
     "execution_count": 106,
     "metadata": {},
     "output_type": "execute_result"
    }
   ],
   "source": [
    "baby_names['Ethnicity'].unique()"
   ]
  },
  {
   "cell_type": "markdown",
   "id": "5f742fd5-b285-4e64-8592-a793c757e396",
   "metadata": {},
   "source": [
    "- we can replace WHITE NON HISPANIC and WHITE NON HISP by WNH and compare the run time"
   ]
  },
  {
   "cell_type": "code",
   "execution_count": 107,
   "id": "e4b60f3e-8a80-40c5-b8bd-dbc269998ca3",
   "metadata": {},
   "outputs": [
    {
     "name": "stdout",
     "output_type": "stream",
     "text": [
      "Results from the above operation calculated in 0.020170927047729492 seconds\n"
     ]
    },
    {
     "name": "stderr",
     "output_type": "stream",
     "text": [
      "/var/folders/r7/xbd75fl13wvf24ktcp53cf1h0000gn/T/ipykernel_85517/3466309810.py:3: FutureWarning: Setting an item of incompatible dtype is deprecated and will raise in a future error of pandas. Value 'WNH' has dtype incompatible with int64, please explicitly cast to a compatible dtype first.\n",
      "  baby_names_copy.loc[(baby_names_copy['Ethnicity']=='WHITE NON HISPANIC') | (baby_names_copy['Ethnicity']=='WHITE NON HISP')]='WNH'\n"
     ]
    }
   ],
   "source": [
    "start_time = time.time()\n",
    "baby_names_copy=baby_names.copy()\n",
    "baby_names_copy.loc[(baby_names_copy['Ethnicity']=='WHITE NON HISPANIC') | (baby_names_copy['Ethnicity']=='WHITE NON HISP')]='WNH'\n",
    "end_time = time.time()\n",
    "pandas_time= end_time - start_time\n",
    "print(\"Results from the above operation calculated in %s seconds\" %(pandas_time))"
   ]
  },
  {
   "cell_type": "code",
   "execution_count": 108,
   "id": "a356aa68-2f19-4041-b0cd-3f2558c9b391",
   "metadata": {},
   "outputs": [
    {
     "name": "stdout",
     "output_type": "stream",
     "text": [
      "Time using .replace(): 0.00763702392578125 sec\n"
     ]
    }
   ],
   "source": [
    "start_time = time.time()\n",
    "baby_names['Ethnicity'].replace(['WHITE NON HISPANIC','WHITE NON HISP'],'WHN',inplace=True)\n",
    "end_time = time.time()\n",
    "replace_time = end_time - start_time\n",
    "\n",
    "print(\"Time using .replace(): {} sec\".format(replace_time))"
   ]
  },
  {
   "cell_type": "markdown",
   "id": "60a6bd41-14f2-43c3-9251-c48f85b97eff",
   "metadata": {},
   "source": [
    "- Replace is more faster than loc[]\n",
    "-  If your data is huge and need a lot of cleaning this tip will decrease the computational time of your data cleaning and makes your pandas code much faster and hence more efficient.\n",
    "-  Use dictionaries to replace single and multiple values in your dataframe. Useful if you need multiple replace functions in one command. "
   ]
  },
  {
   "cell_type": "code",
   "execution_count": 109,
   "id": "13d77e95-0d63-4fc8-a21c-26b4a177cc56",
   "metadata": {},
   "outputs": [
    {
     "name": "stdout",
     "output_type": "stream",
     "text": [
      "Time using .replace() with dictionary: 0.012640953063964844 sec\n"
     ]
    }
   ],
   "source": [
    "start_time = time.time()\n",
    "baby_names_copy=baby_names.copy()\n",
    "baby_names_copy['Gender'].replace({'MALE':'BOY','FEMALE':'GIRL','female':'girl'},inplace=True)\n",
    "end_time = time.time()\n",
    "dict_time = end_time - start_time\n",
    "print(\"Time using .replace() with dictionary: {} sec\".format(dict_time))"
   ]
  },
  {
   "cell_type": "code",
   "execution_count": 110,
   "id": "ff15ccc1-c08e-4f33-8c7f-4fc6d620d314",
   "metadata": {},
   "outputs": [
    {
     "name": "stdout",
     "output_type": "stream",
     "text": [
      "Time using .replace() with dictionary: 0.014242887496948242 sec\n"
     ]
    }
   ],
   "source": [
    "start_time = time.time()\n",
    "baby_names_copy=baby_names.copy()\n",
    "baby_name_copy['Gender'].replace('MALE','BOY',inplace=True)\n",
    "baby_name_copy['Gender'].replace('FEMALE','GIRL',inplace=True)\n",
    "baby_name_copy['Gender'].replace('female','girl',inplace=True)\n",
    "end_time = time.time()\n",
    "dict_time = end_time - start_time\n",
    "print(\"Time using .replace() with dictionary: {} sec\".format(dict_time))"
   ]
  },
  {
   "cell_type": "markdown",
   "id": "4e7b8b42-5e6e-4f45-bde3-6d217cbb6302",
   "metadata": {},
   "source": [
    "- Dictionary is much faster than replace for multiple values. "
   ]
  },
  {
   "cell_type": "code",
   "execution_count": 112,
   "id": "d6bc415f-b61f-4c21-ae84-5254159a50b3",
   "metadata": {},
   "outputs": [
    {
     "name": "stdout",
     "output_type": "stream",
     "text": [
      "Time using .replace() with dictionary: 0.012551069259643555 sec\n"
     ]
    }
   ],
   "source": [
    "start_time = time.time()\n",
    "baby_names.replace({'Ethnicity': {'ASIAN AND PACI': 'ASIAN', 'ASIAN AND PACIFIC ISLANDER': 'ASIAN',\n",
    "'BLACK NON HISPANIC': 'BLACK', 'BLACK NON HISP': 'BLACK',\n",
    "'WHITE NON HISPANIC': 'WHITE', 'WHITE NON HISP': 'WHITE'}})\n",
    "print(\"Time using .replace() with dictionary: {} sec\".format (time.time() - start_time))"
   ]
  },
  {
   "cell_type": "markdown",
   "id": "9b42eaa4-c8e0-4252-9186-150b8d3925cf",
   "metadata": {},
   "source": [
    "### Summary best practices for selecting and replacing values:\n",
    "- Selecting rows and columns is faster using the .iloc[] function. So it is better to use unless it is easier or more convenient to use .loc[] and the speed is not a priority or you are just doing it once.\n",
    "- Using the built-in replace() function is much faster than just using conventional methods.\n",
    "- Replacing multiple values using python dictionaries is faster than using lists."
   ]
  },
  {
   "cell_type": "markdown",
   "id": "66f4ff8d-d68d-4f83-9dfd-15dbca443dce",
   "metadata": {},
   "source": [
    "## Make pandas code 1000 times faster\n"
   ]
  },
  {
   "cell_type": "code",
   "execution_count": 195,
   "id": "32b1e1c8-cb8d-4067-9ff2-37599fca27d8",
   "metadata": {},
   "outputs": [],
   "source": [
    "import pandas as pd\n",
    "import numpy as np\n",
    "def get_data(size= 10000):\n",
    "    df = pd.DataFrame()\n",
    "    size = 10000\n",
    "    df['age'] = np.random.randint(0,100,size)\n",
    "    df['time_in_bed'] = np.random.randint(0,9,size)\n",
    "    df['pct_sleeping'] = np.random.randint(size)\n",
    "    df['favorite_food'] = np.random.choice(['pizza','ice-cream','burger','rice'], size)\n",
    "    df['hate_food'] = np.random.choice(['milk','vegetables','eggs'])\n",
    "    return df"
   ]
  },
  {
   "cell_type": "code",
   "execution_count": 196,
   "id": "9ac70328-f519-416e-80ab-517e48cea9cd",
   "metadata": {},
   "outputs": [
    {
     "data": {
      "text/html": [
       "<div>\n",
       "<style scoped>\n",
       "    .dataframe tbody tr th:only-of-type {\n",
       "        vertical-align: middle;\n",
       "    }\n",
       "\n",
       "    .dataframe tbody tr th {\n",
       "        vertical-align: top;\n",
       "    }\n",
       "\n",
       "    .dataframe thead th {\n",
       "        text-align: right;\n",
       "    }\n",
       "</style>\n",
       "<table border=\"1\" class=\"dataframe\">\n",
       "  <thead>\n",
       "    <tr style=\"text-align: right;\">\n",
       "      <th></th>\n",
       "      <th>age</th>\n",
       "      <th>time_in_bed</th>\n",
       "      <th>pct_sleeping</th>\n",
       "      <th>favorite_food</th>\n",
       "      <th>hate_food</th>\n",
       "    </tr>\n",
       "  </thead>\n",
       "  <tbody>\n",
       "    <tr>\n",
       "      <th>0</th>\n",
       "      <td>31</td>\n",
       "      <td>6</td>\n",
       "      <td>9928</td>\n",
       "      <td>ice-cream</td>\n",
       "      <td>eggs</td>\n",
       "    </tr>\n",
       "    <tr>\n",
       "      <th>1</th>\n",
       "      <td>8</td>\n",
       "      <td>8</td>\n",
       "      <td>9928</td>\n",
       "      <td>pizza</td>\n",
       "      <td>eggs</td>\n",
       "    </tr>\n",
       "    <tr>\n",
       "      <th>2</th>\n",
       "      <td>39</td>\n",
       "      <td>7</td>\n",
       "      <td>9928</td>\n",
       "      <td>ice-cream</td>\n",
       "      <td>eggs</td>\n",
       "    </tr>\n",
       "    <tr>\n",
       "      <th>3</th>\n",
       "      <td>87</td>\n",
       "      <td>6</td>\n",
       "      <td>9928</td>\n",
       "      <td>pizza</td>\n",
       "      <td>eggs</td>\n",
       "    </tr>\n",
       "    <tr>\n",
       "      <th>4</th>\n",
       "      <td>1</td>\n",
       "      <td>3</td>\n",
       "      <td>9928</td>\n",
       "      <td>ice-cream</td>\n",
       "      <td>eggs</td>\n",
       "    </tr>\n",
       "  </tbody>\n",
       "</table>\n",
       "</div>"
      ],
      "text/plain": [
       "   age  time_in_bed  pct_sleeping favorite_food hate_food\n",
       "0   31            6          9928     ice-cream      eggs\n",
       "1    8            8          9928         pizza      eggs\n",
       "2   39            7          9928     ice-cream      eggs\n",
       "3   87            6          9928         pizza      eggs\n",
       "4    1            3          9928     ice-cream      eggs"
      ]
     },
     "execution_count": 196,
     "metadata": {},
     "output_type": "execute_result"
    }
   ],
   "source": [
    "df = get_data()\n",
    "df.head()"
   ]
  },
  {
   "cell_type": "code",
   "execution_count": 115,
   "id": "cde7d2dd-a4c5-45bf-93d0-8506541705ba",
   "metadata": {},
   "outputs": [],
   "source": [
    "def reward_cal(row):\n",
    "    if row['age'] >=90:\n",
    "        return row['favorite_food'] \n",
    "    if (row['time_in_bed'] > 5) & (row['pct_sleeping']>0.5):\n",
    "        return row['favorite_food']\n",
    "    return row['hate_food']"
   ]
  },
  {
   "cell_type": "markdown",
   "id": "29d259be-a880-4a6a-ba8f-5d071092cd53",
   "metadata": {},
   "source": [
    "1. iterrows():"
   ]
  },
  {
   "cell_type": "code",
   "execution_count": 116,
   "id": "8363cb1b-f562-41da-b7ce-4b14d54b87f7",
   "metadata": {},
   "outputs": [
    {
     "name": "stdout",
     "output_type": "stream",
     "text": [
      "848 ms ± 9.48 ms per loop (mean ± std. dev. of 7 runs, 1 loop each)\n"
     ]
    }
   ],
   "source": [
    "%%timeit\n",
    "\n",
    "for index,row in df.iterrows():\n",
    "    df.loc[index,'reward']=reward_cal(row)"
   ]
  },
  {
   "cell_type": "markdown",
   "id": "0489d95f-9069-465d-b0c5-2e40555b8305",
   "metadata": {},
   "source": [
    "- In small dataset it takes 848ms to complete as the dataset becomes larger then it needs more time\n",
    "\n",
    "2. Apply function:\n",
    "to apply a function to **each element in a pandas dataframe**."
   ]
  },
  {
   "cell_type": "code",
   "execution_count": 117,
   "id": "43ad7fe9-400d-4ece-8956-190ec2b9292a",
   "metadata": {},
   "outputs": [
    {
     "name": "stdout",
     "output_type": "stream",
     "text": [
      "112 ms ± 2.2 ms per loop (mean ± std. dev. of 7 runs, 10 loops each)\n"
     ]
    }
   ],
   "source": [
    "%%timeit\n",
    "df['reward'] = df.apply(reward_cal, axis = 1)"
   ]
  },
  {
   "cell_type": "markdown",
   "id": "2b4b704a-e667-438f-8b63-3e3e36532395",
   "metadata": {},
   "source": [
    "The average time to apply the function to the 10000 rows of the data frame is only 268 ms which is 0.26 seconds. This is around 10 times faster than using the loops. However, we are still not done. We can still improve the speed and make it 1000 times faster. Let's see how!"
   ]
  },
  {
   "cell_type": "markdown",
   "id": "deaa49e7-5c33-4109-83fa-041575d2ada8",
   "metadata": {},
   "source": [
    "3. Vectorization\n",
    "Vectorization in pandas refers to the **process of applying operations to entire arrays or sequences of data**, as opposed to applying them to individual elements one by one.\n",
    "\n",
    "**Difference between list comprehensive and vectorization:**\n",
    "- List Comprehension: Use when working with small to moderately large lists in pure Python. It's simple and can be quite efficient for non-numeric data.\n",
    "\n",
    "- Vectorization: Use when dealing with large datasets or arrays and performing mathematical operations. Libraries like NumPy, Pandas, and others provide vectorized operations that are optimized for performance."
   ]
  },
  {
   "cell_type": "code",
   "execution_count": 118,
   "id": "6947428a-5b6e-4bd9-8fc5-af538492d2ec",
   "metadata": {},
   "outputs": [
    {
     "name": "stdout",
     "output_type": "stream",
     "text": [
      "991 µs ± 15.6 µs per loop (mean ± std. dev. of 7 runs, 1,000 loops each)\n"
     ]
    }
   ],
   "source": [
    "%%timeit\n",
    "\n",
    "df['reward'] = df['hate_food']\n",
    "df.loc[((df['pct_sleeping']>0.5) &(df['time_in_bed']>5))| (df['age']>90), 'reward'] = df['favorite_food']"
   ]
  },
  {
   "cell_type": "markdown",
   "id": "562410ff-03e5-457b-a7c2-7031ac5007c4",
   "metadata": {},
   "source": [
    "- Tremendous decrease in the computation time compared to the previous two methods."
   ]
  },
  {
   "cell_type": "code",
   "execution_count": 119,
   "id": "0e0fd7ff-bc50-4b51-abef-aaaf49cfef02",
   "metadata": {},
   "outputs": [
    {
     "data": {
      "text/plain": [
       "<Axes: xlabel='method'>"
      ]
     },
     "execution_count": 119,
     "metadata": {},
     "output_type": "execute_result"
    },
    {
     "data": {
      "image/png": "[encoded data removed]",
      "text/plain": [
       "<Figure size 640x480 with 1 Axes>"
      ]
     },
     "metadata": {},
     "output_type": "display_data"
    }
   ],
   "source": [
    "results = pd.DataFrame(\n",
    "    [\n",
    "        [\"Loop\", 2690 ],\n",
    "        [\"apply\", 268],\n",
    "        ['vectorized', 2.32]\n",
    "        \n",
    "    ],\n",
    "    columns = ['method', 'run_time']\n",
    "\n",
    ")\n",
    "\n",
    "results.set_index('method')['run_time'].plot(kind='bar')"
   ]
  },
  {
   "cell_type": "markdown",
   "id": "6b7a1a4c-52f8-4c37-a9f2-44d9b35330b8",
   "metadata": {},
   "source": [
    "### Pandas functions\n",
    "\n",
    "1. df.iloc\n",
    "\n",
    "Pandas’ .iloc() function is used to select rows and columns by their integer-based index in a DataFrame. It is used to select rows and columns by their integer-based location."
   ]
  },
  {
   "cell_type": "code",
   "execution_count": 120,
   "id": "a8dfed46-3428-4079-a97a-1a1ccd9453de",
   "metadata": {},
   "outputs": [
    {
     "data": {
      "text/plain": [
       "age                      53\n",
       "time_in_bed               1\n",
       "pct_sleeping           9564\n",
       "favorite_food        burger\n",
       "hate_food        vegetables\n",
       "reward           vegetables\n",
       "Name: 0, dtype: object"
      ]
     },
     "execution_count": 120,
     "metadata": {},
     "output_type": "execute_result"
    }
   ],
   "source": [
    "df.loc[0]"
   ]
  },
  {
   "cell_type": "code",
   "execution_count": 121,
   "id": "7ef50aec-449e-4af8-8340-1a71560036b6",
   "metadata": {},
   "outputs": [
    {
     "data": {
      "text/html": [
       "<div>\n",
       "<style scoped>\n",
       "    .dataframe tbody tr th:only-of-type {\n",
       "        vertical-align: middle;\n",
       "    }\n",
       "\n",
       "    .dataframe tbody tr th {\n",
       "        vertical-align: top;\n",
       "    }\n",
       "\n",
       "    .dataframe thead th {\n",
       "        text-align: right;\n",
       "    }\n",
       "</style>\n",
       "<table border=\"1\" class=\"dataframe\">\n",
       "  <thead>\n",
       "    <tr style=\"text-align: right;\">\n",
       "      <th></th>\n",
       "      <th>age</th>\n",
       "      <th>time_in_bed</th>\n",
       "      <th>pct_sleeping</th>\n",
       "      <th>favorite_food</th>\n",
       "      <th>hate_food</th>\n",
       "      <th>reward</th>\n",
       "    </tr>\n",
       "  </thead>\n",
       "  <tbody>\n",
       "    <tr>\n",
       "      <th>0</th>\n",
       "      <td>53</td>\n",
       "      <td>1</td>\n",
       "      <td>9564</td>\n",
       "      <td>burger</td>\n",
       "      <td>vegetables</td>\n",
       "      <td>vegetables</td>\n",
       "    </tr>\n",
       "    <tr>\n",
       "      <th>1</th>\n",
       "      <td>56</td>\n",
       "      <td>4</td>\n",
       "      <td>9564</td>\n",
       "      <td>burger</td>\n",
       "      <td>vegetables</td>\n",
       "      <td>vegetables</td>\n",
       "    </tr>\n",
       "    <tr>\n",
       "      <th>2</th>\n",
       "      <td>74</td>\n",
       "      <td>4</td>\n",
       "      <td>9564</td>\n",
       "      <td>pizza</td>\n",
       "      <td>vegetables</td>\n",
       "      <td>vegetables</td>\n",
       "    </tr>\n",
       "  </tbody>\n",
       "</table>\n",
       "</div>"
      ],
      "text/plain": [
       "   age  time_in_bed  pct_sleeping favorite_food   hate_food      reward\n",
       "0   53            1          9564        burger  vegetables  vegetables\n",
       "1   56            4          9564        burger  vegetables  vegetables\n",
       "2   74            4          9564         pizza  vegetables  vegetables"
      ]
     },
     "execution_count": 121,
     "metadata": {},
     "output_type": "execute_result"
    }
   ],
   "source": [
    "df.loc[:2]"
   ]
  },
  {
   "cell_type": "code",
   "execution_count": 123,
   "id": "6d8f9a43-b009-47bb-8c7c-1d8c4a4c54ed",
   "metadata": {},
   "outputs": [
    {
     "data": {
      "text/plain": [
       "54    80\n",
       "55    14\n",
       "56    60\n",
       "57    81\n",
       "58    61\n",
       "59     0\n",
       "Name: age, dtype: int64"
      ]
     },
     "execution_count": 123,
     "metadata": {},
     "output_type": "execute_result"
    }
   ],
   "source": [
    "df.iloc[54:60,0]"
   ]
  },
  {
   "cell_type": "code",
   "execution_count": 124,
   "id": "8ec73ad3-142a-421e-8c15-9a1ff75fe0b8",
   "metadata": {},
   "outputs": [
    {
     "data": {
      "text/html": [
       "<div>\n",
       "<style scoped>\n",
       "    .dataframe tbody tr th:only-of-type {\n",
       "        vertical-align: middle;\n",
       "    }\n",
       "\n",
       "    .dataframe tbody tr th {\n",
       "        vertical-align: top;\n",
       "    }\n",
       "\n",
       "    .dataframe thead th {\n",
       "        text-align: right;\n",
       "    }\n",
       "</style>\n",
       "<table border=\"1\" class=\"dataframe\">\n",
       "  <thead>\n",
       "    <tr style=\"text-align: right;\">\n",
       "      <th></th>\n",
       "      <th>age</th>\n",
       "      <th>time_in_bed</th>\n",
       "    </tr>\n",
       "  </thead>\n",
       "  <tbody>\n",
       "    <tr>\n",
       "      <th>54</th>\n",
       "      <td>80</td>\n",
       "      <td>3</td>\n",
       "    </tr>\n",
       "    <tr>\n",
       "      <th>55</th>\n",
       "      <td>14</td>\n",
       "      <td>7</td>\n",
       "    </tr>\n",
       "    <tr>\n",
       "      <th>56</th>\n",
       "      <td>60</td>\n",
       "      <td>3</td>\n",
       "    </tr>\n",
       "    <tr>\n",
       "      <th>57</th>\n",
       "      <td>81</td>\n",
       "      <td>2</td>\n",
       "    </tr>\n",
       "    <tr>\n",
       "      <th>58</th>\n",
       "      <td>61</td>\n",
       "      <td>1</td>\n",
       "    </tr>\n",
       "    <tr>\n",
       "      <th>59</th>\n",
       "      <td>0</td>\n",
       "      <td>0</td>\n",
       "    </tr>\n",
       "  </tbody>\n",
       "</table>\n",
       "</div>"
      ],
      "text/plain": [
       "    age  time_in_bed\n",
       "54   80            3\n",
       "55   14            7\n",
       "56   60            3\n",
       "57   81            2\n",
       "58   61            1\n",
       "59    0            0"
      ]
     },
     "execution_count": 124,
     "metadata": {},
     "output_type": "execute_result"
    }
   ],
   "source": [
    "df.iloc[54:60,:2]"
   ]
  },
  {
   "cell_type": "markdown",
   "id": "b9f0234d-bce7-4d01-8a66-d35d6c0e053e",
   "metadata": {},
   "source": [
    "2. df.loc():\n",
    "   \n",
    "Pandas’ .loc() function is used to select rows and columns by their label-based index in a DataFrame. It is used to select rows and columns by their label-based location."
   ]
  },
  {
   "cell_type": "code",
   "execution_count": 126,
   "id": "40f580cf-d7b6-4861-8095-50f945e26519",
   "metadata": {},
   "outputs": [
    {
     "data": {
      "text/plain": [
       "0       53\n",
       "1       56\n",
       "2       74\n",
       "3       19\n",
       "4       36\n",
       "        ..\n",
       "9995    94\n",
       "9996    31\n",
       "9997    73\n",
       "9998    39\n",
       "9999    94\n",
       "Name: age, Length: 10000, dtype: int64"
      ]
     },
     "execution_count": 126,
     "metadata": {},
     "output_type": "execute_result"
    }
   ],
   "source": [
    "df.loc[:,'age']"
   ]
  },
  {
   "cell_type": "code",
   "execution_count": 128,
   "id": "c160f91c-e728-4181-bf83-3b8a19072433",
   "metadata": {},
   "outputs": [
    {
     "data": {
      "text/html": [
       "<div>\n",
       "<style scoped>\n",
       "    .dataframe tbody tr th:only-of-type {\n",
       "        vertical-align: middle;\n",
       "    }\n",
       "\n",
       "    .dataframe tbody tr th {\n",
       "        vertical-align: top;\n",
       "    }\n",
       "\n",
       "    .dataframe thead th {\n",
       "        text-align: right;\n",
       "    }\n",
       "</style>\n",
       "<table border=\"1\" class=\"dataframe\">\n",
       "  <thead>\n",
       "    <tr style=\"text-align: right;\">\n",
       "      <th></th>\n",
       "      <th>age</th>\n",
       "      <th>time_in_bed</th>\n",
       "      <th>hate_food</th>\n",
       "    </tr>\n",
       "  </thead>\n",
       "  <tbody>\n",
       "    <tr>\n",
       "      <th>0</th>\n",
       "      <td>53</td>\n",
       "      <td>1</td>\n",
       "      <td>vegetables</td>\n",
       "    </tr>\n",
       "    <tr>\n",
       "      <th>1</th>\n",
       "      <td>56</td>\n",
       "      <td>4</td>\n",
       "      <td>vegetables</td>\n",
       "    </tr>\n",
       "    <tr>\n",
       "      <th>2</th>\n",
       "      <td>74</td>\n",
       "      <td>4</td>\n",
       "      <td>vegetables</td>\n",
       "    </tr>\n",
       "    <tr>\n",
       "      <th>3</th>\n",
       "      <td>19</td>\n",
       "      <td>2</td>\n",
       "      <td>vegetables</td>\n",
       "    </tr>\n",
       "    <tr>\n",
       "      <th>4</th>\n",
       "      <td>36</td>\n",
       "      <td>6</td>\n",
       "      <td>vegetables</td>\n",
       "    </tr>\n",
       "    <tr>\n",
       "      <th>...</th>\n",
       "      <td>...</td>\n",
       "      <td>...</td>\n",
       "      <td>...</td>\n",
       "    </tr>\n",
       "    <tr>\n",
       "      <th>9995</th>\n",
       "      <td>94</td>\n",
       "      <td>7</td>\n",
       "      <td>vegetables</td>\n",
       "    </tr>\n",
       "    <tr>\n",
       "      <th>9996</th>\n",
       "      <td>31</td>\n",
       "      <td>4</td>\n",
       "      <td>vegetables</td>\n",
       "    </tr>\n",
       "    <tr>\n",
       "      <th>9997</th>\n",
       "      <td>73</td>\n",
       "      <td>7</td>\n",
       "      <td>vegetables</td>\n",
       "    </tr>\n",
       "    <tr>\n",
       "      <th>9998</th>\n",
       "      <td>39</td>\n",
       "      <td>8</td>\n",
       "      <td>vegetables</td>\n",
       "    </tr>\n",
       "    <tr>\n",
       "      <th>9999</th>\n",
       "      <td>94</td>\n",
       "      <td>4</td>\n",
       "      <td>vegetables</td>\n",
       "    </tr>\n",
       "  </tbody>\n",
       "</table>\n",
       "<p>10000 rows × 3 columns</p>\n",
       "</div>"
      ],
      "text/plain": [
       "      age  time_in_bed   hate_food\n",
       "0      53            1  vegetables\n",
       "1      56            4  vegetables\n",
       "2      74            4  vegetables\n",
       "3      19            2  vegetables\n",
       "4      36            6  vegetables\n",
       "...   ...          ...         ...\n",
       "9995   94            7  vegetables\n",
       "9996   31            4  vegetables\n",
       "9997   73            7  vegetables\n",
       "9998   39            8  vegetables\n",
       "9999   94            4  vegetables\n",
       "\n",
       "[10000 rows x 3 columns]"
      ]
     },
     "execution_count": 128,
     "metadata": {},
     "output_type": "execute_result"
    }
   ],
   "source": [
    "df.loc[:,['age','time_in_bed','hate_food']]"
   ]
  },
  {
   "cell_type": "markdown",
   "id": "efc4270f-7ca5-4745-ad38-96799927eb3f",
   "metadata": {},
   "source": [
    "3. df.assign()\n",
    "\n",
    "Pandas’ .assign() function is used to add new columns to a DataFrame, based on the computation of existing columns. It allows you to add new columns to a DataFrame without modifying the original dataframe. The function returns a new DataFrame with the added columns."
   ]
  },
  {
   "cell_type": "code",
   "execution_count": 130,
   "id": "b769aa9c-4073-4c44-b86c-931cff4c89cc",
   "metadata": {},
   "outputs": [
    {
     "data": {
      "text/html": [
       "<div>\n",
       "<style scoped>\n",
       "    .dataframe tbody tr th:only-of-type {\n",
       "        vertical-align: middle;\n",
       "    }\n",
       "\n",
       "    .dataframe tbody tr th {\n",
       "        vertical-align: top;\n",
       "    }\n",
       "\n",
       "    .dataframe thead th {\n",
       "        text-align: right;\n",
       "    }\n",
       "</style>\n",
       "<table border=\"1\" class=\"dataframe\">\n",
       "  <thead>\n",
       "    <tr style=\"text-align: right;\">\n",
       "      <th></th>\n",
       "      <th>age</th>\n",
       "      <th>time_in_bed</th>\n",
       "      <th>pct_sleeping</th>\n",
       "      <th>favorite_food</th>\n",
       "      <th>hate_food</th>\n",
       "      <th>reward</th>\n",
       "      <th>count_df_5</th>\n",
       "    </tr>\n",
       "  </thead>\n",
       "  <tbody>\n",
       "    <tr>\n",
       "      <th>0</th>\n",
       "      <td>53</td>\n",
       "      <td>1</td>\n",
       "      <td>9564</td>\n",
       "      <td>burger</td>\n",
       "      <td>vegetables</td>\n",
       "      <td>vegetables</td>\n",
       "      <td>6</td>\n",
       "    </tr>\n",
       "    <tr>\n",
       "      <th>1</th>\n",
       "      <td>56</td>\n",
       "      <td>4</td>\n",
       "      <td>9564</td>\n",
       "      <td>burger</td>\n",
       "      <td>vegetables</td>\n",
       "      <td>vegetables</td>\n",
       "      <td>9</td>\n",
       "    </tr>\n",
       "    <tr>\n",
       "      <th>2</th>\n",
       "      <td>74</td>\n",
       "      <td>4</td>\n",
       "      <td>9564</td>\n",
       "      <td>pizza</td>\n",
       "      <td>vegetables</td>\n",
       "      <td>vegetables</td>\n",
       "      <td>9</td>\n",
       "    </tr>\n",
       "    <tr>\n",
       "      <th>3</th>\n",
       "      <td>19</td>\n",
       "      <td>2</td>\n",
       "      <td>9564</td>\n",
       "      <td>burger</td>\n",
       "      <td>vegetables</td>\n",
       "      <td>vegetables</td>\n",
       "      <td>7</td>\n",
       "    </tr>\n",
       "    <tr>\n",
       "      <th>4</th>\n",
       "      <td>36</td>\n",
       "      <td>6</td>\n",
       "      <td>9564</td>\n",
       "      <td>burger</td>\n",
       "      <td>vegetables</td>\n",
       "      <td>burger</td>\n",
       "      <td>11</td>\n",
       "    </tr>\n",
       "  </tbody>\n",
       "</table>\n",
       "</div>"
      ],
      "text/plain": [
       "   age  time_in_bed  pct_sleeping favorite_food   hate_food      reward  \\\n",
       "0   53            1          9564        burger  vegetables  vegetables   \n",
       "1   56            4          9564        burger  vegetables  vegetables   \n",
       "2   74            4          9564         pizza  vegetables  vegetables   \n",
       "3   19            2          9564        burger  vegetables  vegetables   \n",
       "4   36            6          9564        burger  vegetables      burger   \n",
       "\n",
       "   count_df_5  \n",
       "0           6  \n",
       "1           9  \n",
       "2           9  \n",
       "3           7  \n",
       "4          11  "
      ]
     },
     "execution_count": 130,
     "metadata": {},
     "output_type": "execute_result"
    }
   ],
   "source": [
    "df_new=df.assign(count_df_5=df['time_in_bed']+5)\n",
    "df_new.head(5)"
   ]
  },
  {
   "cell_type": "markdown",
   "id": "2f01bcc1-f453-489e-b4b5-359ef82a3286",
   "metadata": {},
   "source": [
    "4. df.query()\n",
    "\n",
    "Pandas’ .query() function allows you to filter a DataFrame based on a Boolean expression. It allows you to select rows from a DataFrame using a query string similar to SQL. The function returns a new DataFrame containing only the rows that satisfy the Boolean expression."
   ]
  },
  {
   "cell_type": "code",
   "execution_count": 135,
   "id": "ae785aa7-8ea4-4d23-9ee0-990acce2ee7e",
   "metadata": {},
   "outputs": [],
   "source": [
    "df_query=df.query('time_in_bed>5 and favorite_food==\"burger\" ')"
   ]
  },
  {
   "cell_type": "code",
   "execution_count": 136,
   "id": "de435970-b8d6-4411-aa22-a9598b338aa6",
   "metadata": {},
   "outputs": [
    {
     "data": {
      "text/html": [
       "<div>\n",
       "<style scoped>\n",
       "    .dataframe tbody tr th:only-of-type {\n",
       "        vertical-align: middle;\n",
       "    }\n",
       "\n",
       "    .dataframe tbody tr th {\n",
       "        vertical-align: top;\n",
       "    }\n",
       "\n",
       "    .dataframe thead th {\n",
       "        text-align: right;\n",
       "    }\n",
       "</style>\n",
       "<table border=\"1\" class=\"dataframe\">\n",
       "  <thead>\n",
       "    <tr style=\"text-align: right;\">\n",
       "      <th></th>\n",
       "      <th>age</th>\n",
       "      <th>time_in_bed</th>\n",
       "      <th>pct_sleeping</th>\n",
       "      <th>favorite_food</th>\n",
       "      <th>hate_food</th>\n",
       "      <th>reward</th>\n",
       "    </tr>\n",
       "  </thead>\n",
       "  <tbody>\n",
       "    <tr>\n",
       "      <th>4</th>\n",
       "      <td>36</td>\n",
       "      <td>6</td>\n",
       "      <td>9564</td>\n",
       "      <td>burger</td>\n",
       "      <td>vegetables</td>\n",
       "      <td>burger</td>\n",
       "    </tr>\n",
       "    <tr>\n",
       "      <th>19</th>\n",
       "      <td>88</td>\n",
       "      <td>6</td>\n",
       "      <td>9564</td>\n",
       "      <td>burger</td>\n",
       "      <td>vegetables</td>\n",
       "      <td>burger</td>\n",
       "    </tr>\n",
       "    <tr>\n",
       "      <th>35</th>\n",
       "      <td>84</td>\n",
       "      <td>8</td>\n",
       "      <td>9564</td>\n",
       "      <td>burger</td>\n",
       "      <td>vegetables</td>\n",
       "      <td>burger</td>\n",
       "    </tr>\n",
       "    <tr>\n",
       "      <th>42</th>\n",
       "      <td>29</td>\n",
       "      <td>8</td>\n",
       "      <td>9564</td>\n",
       "      <td>burger</td>\n",
       "      <td>vegetables</td>\n",
       "      <td>burger</td>\n",
       "    </tr>\n",
       "    <tr>\n",
       "      <th>43</th>\n",
       "      <td>89</td>\n",
       "      <td>8</td>\n",
       "      <td>9564</td>\n",
       "      <td>burger</td>\n",
       "      <td>vegetables</td>\n",
       "      <td>burger</td>\n",
       "    </tr>\n",
       "  </tbody>\n",
       "</table>\n",
       "</div>"
      ],
      "text/plain": [
       "    age  time_in_bed  pct_sleeping favorite_food   hate_food  reward\n",
       "4    36            6          9564        burger  vegetables  burger\n",
       "19   88            6          9564        burger  vegetables  burger\n",
       "35   84            8          9564        burger  vegetables  burger\n",
       "42   29            8          9564        burger  vegetables  burger\n",
       "43   89            8          9564        burger  vegetables  burger"
      ]
     },
     "execution_count": 136,
     "metadata": {},
     "output_type": "execute_result"
    }
   ],
   "source": [
    "df_query.head()"
   ]
  },
  {
   "cell_type": "markdown",
   "id": "e5d5fa1f-b999-4053-a72e-15261a660954",
   "metadata": {},
   "source": [
    "It’s important to note that the original DataFrame df remains unchanged and the new DataFrame df_query is returned with the filtered rows."
   ]
  },
  {
   "cell_type": "markdown",
   "id": "dfeddc49-d67d-43fb-96f4-c44cf6a2d18d",
   "metadata": {},
   "source": [
    "5. df.sort_values()+\n",
    "\n",
    "Pandas’ .sort_values() function allows you to sort a DataFrame by one or multiple columns. It sorts the DataFrame based on the values of one or more columns, in ascending or descending order. The function returns a new DataFrame sorted by the specified column(s)."
   ]
  },
  {
   "cell_type": "code",
   "execution_count": 138,
   "id": "9778efce-244b-4a9a-90b9-b58e86bd4292",
   "metadata": {},
   "outputs": [
    {
     "data": {
      "text/html": [
       "<div>\n",
       "<style scoped>\n",
       "    .dataframe tbody tr th:only-of-type {\n",
       "        vertical-align: middle;\n",
       "    }\n",
       "\n",
       "    .dataframe tbody tr th {\n",
       "        vertical-align: top;\n",
       "    }\n",
       "\n",
       "    .dataframe thead th {\n",
       "        text-align: right;\n",
       "    }\n",
       "</style>\n",
       "<table border=\"1\" class=\"dataframe\">\n",
       "  <thead>\n",
       "    <tr style=\"text-align: right;\">\n",
       "      <th></th>\n",
       "      <th>age</th>\n",
       "      <th>time_in_bed</th>\n",
       "      <th>pct_sleeping</th>\n",
       "      <th>favorite_food</th>\n",
       "      <th>hate_food</th>\n",
       "      <th>reward</th>\n",
       "    </tr>\n",
       "  </thead>\n",
       "  <tbody>\n",
       "    <tr>\n",
       "      <th>2482</th>\n",
       "      <td>15</td>\n",
       "      <td>0</td>\n",
       "      <td>9564</td>\n",
       "      <td>pizza</td>\n",
       "      <td>vegetables</td>\n",
       "      <td>vegetables</td>\n",
       "    </tr>\n",
       "    <tr>\n",
       "      <th>3055</th>\n",
       "      <td>51</td>\n",
       "      <td>0</td>\n",
       "      <td>9564</td>\n",
       "      <td>pizza</td>\n",
       "      <td>vegetables</td>\n",
       "      <td>vegetables</td>\n",
       "    </tr>\n",
       "    <tr>\n",
       "      <th>3057</th>\n",
       "      <td>69</td>\n",
       "      <td>0</td>\n",
       "      <td>9564</td>\n",
       "      <td>pizza</td>\n",
       "      <td>vegetables</td>\n",
       "      <td>vegetables</td>\n",
       "    </tr>\n",
       "    <tr>\n",
       "      <th>1065</th>\n",
       "      <td>15</td>\n",
       "      <td>0</td>\n",
       "      <td>9564</td>\n",
       "      <td>pizza</td>\n",
       "      <td>vegetables</td>\n",
       "      <td>vegetables</td>\n",
       "    </tr>\n",
       "    <tr>\n",
       "      <th>6926</th>\n",
       "      <td>74</td>\n",
       "      <td>0</td>\n",
       "      <td>9564</td>\n",
       "      <td>ice-cream</td>\n",
       "      <td>vegetables</td>\n",
       "      <td>vegetables</td>\n",
       "    </tr>\n",
       "    <tr>\n",
       "      <th>...</th>\n",
       "      <td>...</td>\n",
       "      <td>...</td>\n",
       "      <td>...</td>\n",
       "      <td>...</td>\n",
       "      <td>...</td>\n",
       "      <td>...</td>\n",
       "    </tr>\n",
       "    <tr>\n",
       "      <th>6672</th>\n",
       "      <td>26</td>\n",
       "      <td>8</td>\n",
       "      <td>9564</td>\n",
       "      <td>burger</td>\n",
       "      <td>vegetables</td>\n",
       "      <td>burger</td>\n",
       "    </tr>\n",
       "    <tr>\n",
       "      <th>9032</th>\n",
       "      <td>22</td>\n",
       "      <td>8</td>\n",
       "      <td>9564</td>\n",
       "      <td>burger</td>\n",
       "      <td>vegetables</td>\n",
       "      <td>burger</td>\n",
       "    </tr>\n",
       "    <tr>\n",
       "      <th>7940</th>\n",
       "      <td>13</td>\n",
       "      <td>8</td>\n",
       "      <td>9564</td>\n",
       "      <td>ice-cream</td>\n",
       "      <td>vegetables</td>\n",
       "      <td>ice-cream</td>\n",
       "    </tr>\n",
       "    <tr>\n",
       "      <th>5747</th>\n",
       "      <td>30</td>\n",
       "      <td>8</td>\n",
       "      <td>9564</td>\n",
       "      <td>ice-cream</td>\n",
       "      <td>vegetables</td>\n",
       "      <td>ice-cream</td>\n",
       "    </tr>\n",
       "    <tr>\n",
       "      <th>2746</th>\n",
       "      <td>34</td>\n",
       "      <td>8</td>\n",
       "      <td>9564</td>\n",
       "      <td>ice-cream</td>\n",
       "      <td>vegetables</td>\n",
       "      <td>ice-cream</td>\n",
       "    </tr>\n",
       "  </tbody>\n",
       "</table>\n",
       "<p>10000 rows × 6 columns</p>\n",
       "</div>"
      ],
      "text/plain": [
       "      age  time_in_bed  pct_sleeping favorite_food   hate_food      reward\n",
       "2482   15            0          9564         pizza  vegetables  vegetables\n",
       "3055   51            0          9564         pizza  vegetables  vegetables\n",
       "3057   69            0          9564         pizza  vegetables  vegetables\n",
       "1065   15            0          9564         pizza  vegetables  vegetables\n",
       "6926   74            0          9564     ice-cream  vegetables  vegetables\n",
       "...   ...          ...           ...           ...         ...         ...\n",
       "6672   26            8          9564        burger  vegetables      burger\n",
       "9032   22            8          9564        burger  vegetables      burger\n",
       "7940   13            8          9564     ice-cream  vegetables   ice-cream\n",
       "5747   30            8          9564     ice-cream  vegetables   ice-cream\n",
       "2746   34            8          9564     ice-cream  vegetables   ice-cream\n",
       "\n",
       "[10000 rows x 6 columns]"
      ]
     },
     "execution_count": 138,
     "metadata": {},
     "output_type": "execute_result"
    }
   ],
   "source": [
    "df.sort_values(by='time_in_bed')"
   ]
  },
  {
   "cell_type": "code",
   "execution_count": 143,
   "id": "fdbc4dc1-8ba3-4cf8-8029-5030a02c6b73",
   "metadata": {},
   "outputs": [
    {
     "data": {
      "text/html": [
       "<div>\n",
       "<style scoped>\n",
       "    .dataframe tbody tr th:only-of-type {\n",
       "        vertical-align: middle;\n",
       "    }\n",
       "\n",
       "    .dataframe tbody tr th {\n",
       "        vertical-align: top;\n",
       "    }\n",
       "\n",
       "    .dataframe thead th {\n",
       "        text-align: right;\n",
       "    }\n",
       "</style>\n",
       "<table border=\"1\" class=\"dataframe\">\n",
       "  <thead>\n",
       "    <tr style=\"text-align: right;\">\n",
       "      <th></th>\n",
       "      <th>age</th>\n",
       "      <th>time_in_bed</th>\n",
       "      <th>pct_sleeping</th>\n",
       "      <th>favorite_food</th>\n",
       "      <th>hate_food</th>\n",
       "      <th>reward</th>\n",
       "    </tr>\n",
       "  </thead>\n",
       "  <tbody>\n",
       "    <tr>\n",
       "      <th>2482</th>\n",
       "      <td>15</td>\n",
       "      <td>0</td>\n",
       "      <td>9564</td>\n",
       "      <td>pizza</td>\n",
       "      <td>vegetables</td>\n",
       "      <td>vegetables</td>\n",
       "    </tr>\n",
       "    <tr>\n",
       "      <th>3055</th>\n",
       "      <td>51</td>\n",
       "      <td>0</td>\n",
       "      <td>9564</td>\n",
       "      <td>pizza</td>\n",
       "      <td>vegetables</td>\n",
       "      <td>vegetables</td>\n",
       "    </tr>\n",
       "    <tr>\n",
       "      <th>3057</th>\n",
       "      <td>69</td>\n",
       "      <td>0</td>\n",
       "      <td>9564</td>\n",
       "      <td>pizza</td>\n",
       "      <td>vegetables</td>\n",
       "      <td>vegetables</td>\n",
       "    </tr>\n",
       "    <tr>\n",
       "      <th>1065</th>\n",
       "      <td>15</td>\n",
       "      <td>0</td>\n",
       "      <td>9564</td>\n",
       "      <td>pizza</td>\n",
       "      <td>vegetables</td>\n",
       "      <td>vegetables</td>\n",
       "    </tr>\n",
       "    <tr>\n",
       "      <th>6926</th>\n",
       "      <td>74</td>\n",
       "      <td>0</td>\n",
       "      <td>9564</td>\n",
       "      <td>ice-cream</td>\n",
       "      <td>vegetables</td>\n",
       "      <td>vegetables</td>\n",
       "    </tr>\n",
       "    <tr>\n",
       "      <th>...</th>\n",
       "      <td>...</td>\n",
       "      <td>...</td>\n",
       "      <td>...</td>\n",
       "      <td>...</td>\n",
       "      <td>...</td>\n",
       "      <td>...</td>\n",
       "    </tr>\n",
       "    <tr>\n",
       "      <th>6672</th>\n",
       "      <td>26</td>\n",
       "      <td>8</td>\n",
       "      <td>9564</td>\n",
       "      <td>burger</td>\n",
       "      <td>vegetables</td>\n",
       "      <td>burger</td>\n",
       "    </tr>\n",
       "    <tr>\n",
       "      <th>9032</th>\n",
       "      <td>22</td>\n",
       "      <td>8</td>\n",
       "      <td>9564</td>\n",
       "      <td>burger</td>\n",
       "      <td>vegetables</td>\n",
       "      <td>burger</td>\n",
       "    </tr>\n",
       "    <tr>\n",
       "      <th>7940</th>\n",
       "      <td>13</td>\n",
       "      <td>8</td>\n",
       "      <td>9564</td>\n",
       "      <td>ice-cream</td>\n",
       "      <td>vegetables</td>\n",
       "      <td>ice-cream</td>\n",
       "    </tr>\n",
       "    <tr>\n",
       "      <th>5747</th>\n",
       "      <td>30</td>\n",
       "      <td>8</td>\n",
       "      <td>9564</td>\n",
       "      <td>ice-cream</td>\n",
       "      <td>vegetables</td>\n",
       "      <td>ice-cream</td>\n",
       "    </tr>\n",
       "    <tr>\n",
       "      <th>2746</th>\n",
       "      <td>34</td>\n",
       "      <td>8</td>\n",
       "      <td>9564</td>\n",
       "      <td>ice-cream</td>\n",
       "      <td>vegetables</td>\n",
       "      <td>ice-cream</td>\n",
       "    </tr>\n",
       "  </tbody>\n",
       "</table>\n",
       "<p>10000 rows × 6 columns</p>\n",
       "</div>"
      ],
      "text/plain": [
       "      age  time_in_bed  pct_sleeping favorite_food   hate_food      reward\n",
       "2482   15            0          9564         pizza  vegetables  vegetables\n",
       "3055   51            0          9564         pizza  vegetables  vegetables\n",
       "3057   69            0          9564         pizza  vegetables  vegetables\n",
       "1065   15            0          9564         pizza  vegetables  vegetables\n",
       "6926   74            0          9564     ice-cream  vegetables  vegetables\n",
       "...   ...          ...           ...           ...         ...         ...\n",
       "6672   26            8          9564        burger  vegetables      burger\n",
       "9032   22            8          9564        burger  vegetables      burger\n",
       "7940   13            8          9564     ice-cream  vegetables   ice-cream\n",
       "5747   30            8          9564     ice-cream  vegetables   ice-cream\n",
       "2746   34            8          9564     ice-cream  vegetables   ice-cream\n",
       "\n",
       "[10000 rows x 6 columns]"
      ]
     },
     "execution_count": 143,
     "metadata": {},
     "output_type": "execute_result"
    }
   ],
   "source": [
    "df.sort_values('time_in_bed',ascending=True)"
   ]
  },
  {
   "cell_type": "code",
   "execution_count": 142,
   "id": "6036dbbf-f8dc-434c-b5ab-c21cf917c2f4",
   "metadata": {},
   "outputs": [
    {
     "data": {
      "text/html": [
       "<div>\n",
       "<style scoped>\n",
       "    .dataframe tbody tr th:only-of-type {\n",
       "        vertical-align: middle;\n",
       "    }\n",
       "\n",
       "    .dataframe tbody tr th {\n",
       "        vertical-align: top;\n",
       "    }\n",
       "\n",
       "    .dataframe thead th {\n",
       "        text-align: right;\n",
       "    }\n",
       "</style>\n",
       "<table border=\"1\" class=\"dataframe\">\n",
       "  <thead>\n",
       "    <tr style=\"text-align: right;\">\n",
       "      <th></th>\n",
       "      <th>age</th>\n",
       "      <th>time_in_bed</th>\n",
       "      <th>pct_sleeping</th>\n",
       "      <th>favorite_food</th>\n",
       "      <th>hate_food</th>\n",
       "      <th>reward</th>\n",
       "    </tr>\n",
       "  </thead>\n",
       "  <tbody>\n",
       "    <tr>\n",
       "      <th>21</th>\n",
       "      <td>93</td>\n",
       "      <td>0</td>\n",
       "      <td>9564</td>\n",
       "      <td>burger</td>\n",
       "      <td>vegetables</td>\n",
       "      <td>burger</td>\n",
       "    </tr>\n",
       "    <tr>\n",
       "      <th>26</th>\n",
       "      <td>39</td>\n",
       "      <td>0</td>\n",
       "      <td>9564</td>\n",
       "      <td>burger</td>\n",
       "      <td>vegetables</td>\n",
       "      <td>vegetables</td>\n",
       "    </tr>\n",
       "    <tr>\n",
       "      <th>110</th>\n",
       "      <td>25</td>\n",
       "      <td>0</td>\n",
       "      <td>9564</td>\n",
       "      <td>burger</td>\n",
       "      <td>vegetables</td>\n",
       "      <td>vegetables</td>\n",
       "    </tr>\n",
       "    <tr>\n",
       "      <th>181</th>\n",
       "      <td>94</td>\n",
       "      <td>0</td>\n",
       "      <td>9564</td>\n",
       "      <td>burger</td>\n",
       "      <td>vegetables</td>\n",
       "      <td>burger</td>\n",
       "    </tr>\n",
       "    <tr>\n",
       "      <th>214</th>\n",
       "      <td>37</td>\n",
       "      <td>0</td>\n",
       "      <td>9564</td>\n",
       "      <td>burger</td>\n",
       "      <td>vegetables</td>\n",
       "      <td>vegetables</td>\n",
       "    </tr>\n",
       "    <tr>\n",
       "      <th>...</th>\n",
       "      <td>...</td>\n",
       "      <td>...</td>\n",
       "      <td>...</td>\n",
       "      <td>...</td>\n",
       "      <td>...</td>\n",
       "      <td>...</td>\n",
       "    </tr>\n",
       "    <tr>\n",
       "      <th>9706</th>\n",
       "      <td>72</td>\n",
       "      <td>8</td>\n",
       "      <td>9564</td>\n",
       "      <td>rice</td>\n",
       "      <td>vegetables</td>\n",
       "      <td>rice</td>\n",
       "    </tr>\n",
       "    <tr>\n",
       "      <th>9843</th>\n",
       "      <td>68</td>\n",
       "      <td>8</td>\n",
       "      <td>9564</td>\n",
       "      <td>rice</td>\n",
       "      <td>vegetables</td>\n",
       "      <td>rice</td>\n",
       "    </tr>\n",
       "    <tr>\n",
       "      <th>9872</th>\n",
       "      <td>67</td>\n",
       "      <td>8</td>\n",
       "      <td>9564</td>\n",
       "      <td>rice</td>\n",
       "      <td>vegetables</td>\n",
       "      <td>rice</td>\n",
       "    </tr>\n",
       "    <tr>\n",
       "      <th>9921</th>\n",
       "      <td>92</td>\n",
       "      <td>8</td>\n",
       "      <td>9564</td>\n",
       "      <td>rice</td>\n",
       "      <td>vegetables</td>\n",
       "      <td>rice</td>\n",
       "    </tr>\n",
       "    <tr>\n",
       "      <th>9988</th>\n",
       "      <td>90</td>\n",
       "      <td>8</td>\n",
       "      <td>9564</td>\n",
       "      <td>rice</td>\n",
       "      <td>vegetables</td>\n",
       "      <td>rice</td>\n",
       "    </tr>\n",
       "  </tbody>\n",
       "</table>\n",
       "<p>10000 rows × 6 columns</p>\n",
       "</div>"
      ],
      "text/plain": [
       "      age  time_in_bed  pct_sleeping favorite_food   hate_food      reward\n",
       "21     93            0          9564        burger  vegetables      burger\n",
       "26     39            0          9564        burger  vegetables  vegetables\n",
       "110    25            0          9564        burger  vegetables  vegetables\n",
       "181    94            0          9564        burger  vegetables      burger\n",
       "214    37            0          9564        burger  vegetables  vegetables\n",
       "...   ...          ...           ...           ...         ...         ...\n",
       "9706   72            8          9564          rice  vegetables        rice\n",
       "9843   68            8          9564          rice  vegetables        rice\n",
       "9872   67            8          9564          rice  vegetables        rice\n",
       "9921   92            8          9564          rice  vegetables        rice\n",
       "9988   90            8          9564          rice  vegetables        rice\n",
       "\n",
       "[10000 rows x 6 columns]"
      ]
     },
     "execution_count": 142,
     "metadata": {},
     "output_type": "execute_result"
    }
   ],
   "source": [
    "df.sort_values(by=['time_in_bed', 'favorite_food'])"
   ]
  },
  {
   "cell_type": "markdown",
   "id": "e739a346-0b32-439a-b3b2-becbdd409d32",
   "metadata": {},
   "source": [
    "6. df.sample()\n",
    "\n",
    "Pandas’ .sample() function allows you to randomly select rows from a DataFrame. It returns a new DataFrame containing the randomly selected rows. The function takes several parameters that allow you to control the sampling process, such as the number of rows to return, and whether or not to sample with replacement and seed for reproducibility.\n",
    "\n"
   ]
  },
  {
   "cell_type": "code",
   "execution_count": 144,
   "id": "1660c125-9661-41b9-8175-4c5953283275",
   "metadata": {},
   "outputs": [
    {
     "data": {
      "text/html": [
       "<div>\n",
       "<style scoped>\n",
       "    .dataframe tbody tr th:only-of-type {\n",
       "        vertical-align: middle;\n",
       "    }\n",
       "\n",
       "    .dataframe tbody tr th {\n",
       "        vertical-align: top;\n",
       "    }\n",
       "\n",
       "    .dataframe thead th {\n",
       "        text-align: right;\n",
       "    }\n",
       "</style>\n",
       "<table border=\"1\" class=\"dataframe\">\n",
       "  <thead>\n",
       "    <tr style=\"text-align: right;\">\n",
       "      <th></th>\n",
       "      <th>age</th>\n",
       "      <th>time_in_bed</th>\n",
       "      <th>pct_sleeping</th>\n",
       "      <th>favorite_food</th>\n",
       "      <th>hate_food</th>\n",
       "      <th>reward</th>\n",
       "    </tr>\n",
       "  </thead>\n",
       "  <tbody>\n",
       "    <tr>\n",
       "      <th>9953</th>\n",
       "      <td>15</td>\n",
       "      <td>6</td>\n",
       "      <td>9564</td>\n",
       "      <td>ice-cream</td>\n",
       "      <td>vegetables</td>\n",
       "      <td>ice-cream</td>\n",
       "    </tr>\n",
       "    <tr>\n",
       "      <th>3850</th>\n",
       "      <td>50</td>\n",
       "      <td>3</td>\n",
       "      <td>9564</td>\n",
       "      <td>ice-cream</td>\n",
       "      <td>vegetables</td>\n",
       "      <td>vegetables</td>\n",
       "    </tr>\n",
       "  </tbody>\n",
       "</table>\n",
       "</div>"
      ],
      "text/plain": [
       "      age  time_in_bed  pct_sleeping favorite_food   hate_food      reward\n",
       "9953   15            6          9564     ice-cream  vegetables   ice-cream\n",
       "3850   50            3          9564     ice-cream  vegetables  vegetables"
      ]
     },
     "execution_count": 144,
     "metadata": {},
     "output_type": "execute_result"
    }
   ],
   "source": [
    "# Sample 2 rows without replacement\n",
    "df_sample = df.sample(n=2, replace=False, random_state=1) ## replace= False --> no replacement\n",
    "df_sample"
   ]
  },
  {
   "cell_type": "code",
   "execution_count": 145,
   "id": "00cb305e-3b8e-4062-aee3-52bd4d886aff",
   "metadata": {},
   "outputs": [
    {
     "data": {
      "text/html": [
       "<div>\n",
       "<style scoped>\n",
       "    .dataframe tbody tr th:only-of-type {\n",
       "        vertical-align: middle;\n",
       "    }\n",
       "\n",
       "    .dataframe tbody tr th {\n",
       "        vertical-align: top;\n",
       "    }\n",
       "\n",
       "    .dataframe thead th {\n",
       "        text-align: right;\n",
       "    }\n",
       "</style>\n",
       "<table border=\"1\" class=\"dataframe\">\n",
       "  <thead>\n",
       "    <tr style=\"text-align: right;\">\n",
       "      <th></th>\n",
       "      <th>pct_sleeping</th>\n",
       "      <th>time_in_bed</th>\n",
       "    </tr>\n",
       "  </thead>\n",
       "  <tbody>\n",
       "    <tr>\n",
       "      <th>0</th>\n",
       "      <td>9564</td>\n",
       "      <td>1</td>\n",
       "    </tr>\n",
       "    <tr>\n",
       "      <th>1</th>\n",
       "      <td>9564</td>\n",
       "      <td>4</td>\n",
       "    </tr>\n",
       "    <tr>\n",
       "      <th>2</th>\n",
       "      <td>9564</td>\n",
       "      <td>4</td>\n",
       "    </tr>\n",
       "    <tr>\n",
       "      <th>3</th>\n",
       "      <td>9564</td>\n",
       "      <td>2</td>\n",
       "    </tr>\n",
       "    <tr>\n",
       "      <th>4</th>\n",
       "      <td>9564</td>\n",
       "      <td>6</td>\n",
       "    </tr>\n",
       "    <tr>\n",
       "      <th>...</th>\n",
       "      <td>...</td>\n",
       "      <td>...</td>\n",
       "    </tr>\n",
       "    <tr>\n",
       "      <th>9995</th>\n",
       "      <td>9564</td>\n",
       "      <td>7</td>\n",
       "    </tr>\n",
       "    <tr>\n",
       "      <th>9996</th>\n",
       "      <td>9564</td>\n",
       "      <td>4</td>\n",
       "    </tr>\n",
       "    <tr>\n",
       "      <th>9997</th>\n",
       "      <td>9564</td>\n",
       "      <td>7</td>\n",
       "    </tr>\n",
       "    <tr>\n",
       "      <th>9998</th>\n",
       "      <td>9564</td>\n",
       "      <td>8</td>\n",
       "    </tr>\n",
       "    <tr>\n",
       "      <th>9999</th>\n",
       "      <td>9564</td>\n",
       "      <td>4</td>\n",
       "    </tr>\n",
       "  </tbody>\n",
       "</table>\n",
       "<p>10000 rows × 2 columns</p>\n",
       "</div>"
      ],
      "text/plain": [
       "      pct_sleeping  time_in_bed\n",
       "0             9564            1\n",
       "1             9564            4\n",
       "2             9564            4\n",
       "3             9564            2\n",
       "4             9564            6\n",
       "...            ...          ...\n",
       "9995          9564            7\n",
       "9996          9564            4\n",
       "9997          9564            7\n",
       "9998          9564            8\n",
       "9999          9564            4\n",
       "\n",
       "[10000 rows x 2 columns]"
      ]
     },
     "execution_count": 145,
     "metadata": {},
     "output_type": "execute_result"
    }
   ],
   "source": [
    "df.sample(n=2,replace=False,random_state=1,axis=1)"
   ]
  },
  {
   "cell_type": "markdown",
   "id": "6f8b7020-6390-4bf9-aac0-8c83b97560cf",
   "metadata": {},
   "source": [
    "7. df.isnull()\n",
    "\n",
    "The isnull() method in Pandas returns a DataFrame of the same shape as the original DataFrame, but with True or False values indicating whether each value in the original DataFrame is missing or not. Missing values, such as NaN or None, will be True in the resulting DataFrame, while non-missing values will be False."
   ]
  },
  {
   "cell_type": "code",
   "execution_count": 146,
   "id": "05cfb9f9-b41d-40c9-a4a8-1ddcbadc1533",
   "metadata": {},
   "outputs": [
    {
     "data": {
      "text/html": [
       "<div>\n",
       "<style scoped>\n",
       "    .dataframe tbody tr th:only-of-type {\n",
       "        vertical-align: middle;\n",
       "    }\n",
       "\n",
       "    .dataframe tbody tr th {\n",
       "        vertical-align: top;\n",
       "    }\n",
       "\n",
       "    .dataframe thead th {\n",
       "        text-align: right;\n",
       "    }\n",
       "</style>\n",
       "<table border=\"1\" class=\"dataframe\">\n",
       "  <thead>\n",
       "    <tr style=\"text-align: right;\">\n",
       "      <th></th>\n",
       "      <th>age</th>\n",
       "      <th>time_in_bed</th>\n",
       "      <th>pct_sleeping</th>\n",
       "      <th>favorite_food</th>\n",
       "      <th>hate_food</th>\n",
       "      <th>reward</th>\n",
       "    </tr>\n",
       "  </thead>\n",
       "  <tbody>\n",
       "    <tr>\n",
       "      <th>0</th>\n",
       "      <td>False</td>\n",
       "      <td>False</td>\n",
       "      <td>False</td>\n",
       "      <td>False</td>\n",
       "      <td>False</td>\n",
       "      <td>False</td>\n",
       "    </tr>\n",
       "    <tr>\n",
       "      <th>1</th>\n",
       "      <td>False</td>\n",
       "      <td>False</td>\n",
       "      <td>False</td>\n",
       "      <td>False</td>\n",
       "      <td>False</td>\n",
       "      <td>False</td>\n",
       "    </tr>\n",
       "    <tr>\n",
       "      <th>2</th>\n",
       "      <td>False</td>\n",
       "      <td>False</td>\n",
       "      <td>False</td>\n",
       "      <td>False</td>\n",
       "      <td>False</td>\n",
       "      <td>False</td>\n",
       "    </tr>\n",
       "    <tr>\n",
       "      <th>3</th>\n",
       "      <td>False</td>\n",
       "      <td>False</td>\n",
       "      <td>False</td>\n",
       "      <td>False</td>\n",
       "      <td>False</td>\n",
       "      <td>False</td>\n",
       "    </tr>\n",
       "    <tr>\n",
       "      <th>4</th>\n",
       "      <td>False</td>\n",
       "      <td>False</td>\n",
       "      <td>False</td>\n",
       "      <td>False</td>\n",
       "      <td>False</td>\n",
       "      <td>False</td>\n",
       "    </tr>\n",
       "    <tr>\n",
       "      <th>...</th>\n",
       "      <td>...</td>\n",
       "      <td>...</td>\n",
       "      <td>...</td>\n",
       "      <td>...</td>\n",
       "      <td>...</td>\n",
       "      <td>...</td>\n",
       "    </tr>\n",
       "    <tr>\n",
       "      <th>9995</th>\n",
       "      <td>False</td>\n",
       "      <td>False</td>\n",
       "      <td>False</td>\n",
       "      <td>False</td>\n",
       "      <td>False</td>\n",
       "      <td>False</td>\n",
       "    </tr>\n",
       "    <tr>\n",
       "      <th>9996</th>\n",
       "      <td>False</td>\n",
       "      <td>False</td>\n",
       "      <td>False</td>\n",
       "      <td>False</td>\n",
       "      <td>False</td>\n",
       "      <td>False</td>\n",
       "    </tr>\n",
       "    <tr>\n",
       "      <th>9997</th>\n",
       "      <td>False</td>\n",
       "      <td>False</td>\n",
       "      <td>False</td>\n",
       "      <td>False</td>\n",
       "      <td>False</td>\n",
       "      <td>False</td>\n",
       "    </tr>\n",
       "    <tr>\n",
       "      <th>9998</th>\n",
       "      <td>False</td>\n",
       "      <td>False</td>\n",
       "      <td>False</td>\n",
       "      <td>False</td>\n",
       "      <td>False</td>\n",
       "      <td>False</td>\n",
       "    </tr>\n",
       "    <tr>\n",
       "      <th>9999</th>\n",
       "      <td>False</td>\n",
       "      <td>False</td>\n",
       "      <td>False</td>\n",
       "      <td>False</td>\n",
       "      <td>False</td>\n",
       "      <td>False</td>\n",
       "    </tr>\n",
       "  </tbody>\n",
       "</table>\n",
       "<p>10000 rows × 6 columns</p>\n",
       "</div>"
      ],
      "text/plain": [
       "        age  time_in_bed  pct_sleeping  favorite_food  hate_food  reward\n",
       "0     False        False         False          False      False   False\n",
       "1     False        False         False          False      False   False\n",
       "2     False        False         False          False      False   False\n",
       "3     False        False         False          False      False   False\n",
       "4     False        False         False          False      False   False\n",
       "...     ...          ...           ...            ...        ...     ...\n",
       "9995  False        False         False          False      False   False\n",
       "9996  False        False         False          False      False   False\n",
       "9997  False        False         False          False      False   False\n",
       "9998  False        False         False          False      False   False\n",
       "9999  False        False         False          False      False   False\n",
       "\n",
       "[10000 rows x 6 columns]"
      ]
     },
     "execution_count": 146,
     "metadata": {},
     "output_type": "execute_result"
    }
   ],
   "source": [
    "df.isnull()"
   ]
  },
  {
   "cell_type": "code",
   "execution_count": 147,
   "id": "07011bbc-fc74-4e0c-9388-baccae397913",
   "metadata": {},
   "outputs": [
    {
     "data": {
      "text/html": [
       "<div>\n",
       "<style scoped>\n",
       "    .dataframe tbody tr th:only-of-type {\n",
       "        vertical-align: middle;\n",
       "    }\n",
       "\n",
       "    .dataframe tbody tr th {\n",
       "        vertical-align: top;\n",
       "    }\n",
       "\n",
       "    .dataframe thead th {\n",
       "        text-align: right;\n",
       "    }\n",
       "</style>\n",
       "<table border=\"1\" class=\"dataframe\">\n",
       "  <thead>\n",
       "    <tr style=\"text-align: right;\">\n",
       "      <th></th>\n",
       "      <th>age</th>\n",
       "      <th>time_in_bed</th>\n",
       "      <th>pct_sleeping</th>\n",
       "      <th>favorite_food</th>\n",
       "      <th>hate_food</th>\n",
       "      <th>reward</th>\n",
       "    </tr>\n",
       "  </thead>\n",
       "  <tbody>\n",
       "    <tr>\n",
       "      <th>0</th>\n",
       "      <td>False</td>\n",
       "      <td>False</td>\n",
       "      <td>False</td>\n",
       "      <td>False</td>\n",
       "      <td>False</td>\n",
       "      <td>False</td>\n",
       "    </tr>\n",
       "    <tr>\n",
       "      <th>1</th>\n",
       "      <td>False</td>\n",
       "      <td>False</td>\n",
       "      <td>False</td>\n",
       "      <td>False</td>\n",
       "      <td>False</td>\n",
       "      <td>False</td>\n",
       "    </tr>\n",
       "    <tr>\n",
       "      <th>2</th>\n",
       "      <td>False</td>\n",
       "      <td>False</td>\n",
       "      <td>False</td>\n",
       "      <td>False</td>\n",
       "      <td>False</td>\n",
       "      <td>False</td>\n",
       "    </tr>\n",
       "    <tr>\n",
       "      <th>3</th>\n",
       "      <td>False</td>\n",
       "      <td>False</td>\n",
       "      <td>False</td>\n",
       "      <td>False</td>\n",
       "      <td>False</td>\n",
       "      <td>False</td>\n",
       "    </tr>\n",
       "    <tr>\n",
       "      <th>4</th>\n",
       "      <td>False</td>\n",
       "      <td>False</td>\n",
       "      <td>False</td>\n",
       "      <td>False</td>\n",
       "      <td>False</td>\n",
       "      <td>False</td>\n",
       "    </tr>\n",
       "    <tr>\n",
       "      <th>...</th>\n",
       "      <td>...</td>\n",
       "      <td>...</td>\n",
       "      <td>...</td>\n",
       "      <td>...</td>\n",
       "      <td>...</td>\n",
       "      <td>...</td>\n",
       "    </tr>\n",
       "    <tr>\n",
       "      <th>9995</th>\n",
       "      <td>False</td>\n",
       "      <td>False</td>\n",
       "      <td>False</td>\n",
       "      <td>False</td>\n",
       "      <td>False</td>\n",
       "      <td>False</td>\n",
       "    </tr>\n",
       "    <tr>\n",
       "      <th>9996</th>\n",
       "      <td>False</td>\n",
       "      <td>False</td>\n",
       "      <td>False</td>\n",
       "      <td>False</td>\n",
       "      <td>False</td>\n",
       "      <td>False</td>\n",
       "    </tr>\n",
       "    <tr>\n",
       "      <th>9997</th>\n",
       "      <td>False</td>\n",
       "      <td>False</td>\n",
       "      <td>False</td>\n",
       "      <td>False</td>\n",
       "      <td>False</td>\n",
       "      <td>False</td>\n",
       "    </tr>\n",
       "    <tr>\n",
       "      <th>9998</th>\n",
       "      <td>False</td>\n",
       "      <td>False</td>\n",
       "      <td>False</td>\n",
       "      <td>False</td>\n",
       "      <td>False</td>\n",
       "      <td>False</td>\n",
       "    </tr>\n",
       "    <tr>\n",
       "      <th>9999</th>\n",
       "      <td>False</td>\n",
       "      <td>False</td>\n",
       "      <td>False</td>\n",
       "      <td>False</td>\n",
       "      <td>False</td>\n",
       "      <td>False</td>\n",
       "    </tr>\n",
       "  </tbody>\n",
       "</table>\n",
       "<p>10000 rows × 6 columns</p>\n",
       "</div>"
      ],
      "text/plain": [
       "        age  time_in_bed  pct_sleeping  favorite_food  hate_food  reward\n",
       "0     False        False         False          False      False   False\n",
       "1     False        False         False          False      False   False\n",
       "2     False        False         False          False      False   False\n",
       "3     False        False         False          False      False   False\n",
       "4     False        False         False          False      False   False\n",
       "...     ...          ...           ...            ...        ...     ...\n",
       "9995  False        False         False          False      False   False\n",
       "9996  False        False         False          False      False   False\n",
       "9997  False        False         False          False      False   False\n",
       "9998  False        False         False          False      False   False\n",
       "9999  False        False         False          False      False   False\n",
       "\n",
       "[10000 rows x 6 columns]"
      ]
     },
     "execution_count": 147,
     "metadata": {},
     "output_type": "execute_result"
    }
   ],
   "source": [
    "df.isnull()"
   ]
  },
  {
   "cell_type": "markdown",
   "id": "5822977c-01ec-42c6-bfe1-82724d8ab763",
   "metadata": {},
   "source": [
    "8. df.fillna()\n",
    "\n",
    "The fillna() method in Pandas is used to fill in missing values in a DataFrame with a specified value or method. By default, it replaces missing values with NaN, but you can specify a different value to use instead as shown below:\n",
    "- value: Specifies the value to use to fill in the missing values. Can be a scalar value or a dict of values for different columns.\n",
    "- method: Specifies the method to use for filling in missing values. Can be 'ffill' (forward-fill) or 'bfill' (backward-fill) or 'interpolate'(interpolate - values) or 'pad' or 'backfill'\n",
    "- axis: Specifies the axis along which to fill in missing values. It can be 0 (rows) or 1 (columns).\n",
    "- inplace: Whether to fill in the missing values in place (modifying the original DataFrame) or to return a new DataFrame with the missing values filled in.\n",
    "- limit: Specifies the maximum number of consecutive missing values to fill.\n",
    "- downcast: Specifies a dictionary of values to use to downcast the data types of columns."
   ]
  },
  {
   "cell_type": "code",
   "execution_count": 148,
   "id": "4029eff9-338c-4f74-9aa7-6c3936004f19",
   "metadata": {},
   "outputs": [
    {
     "name": "stderr",
     "output_type": "stream",
     "text": [
      "/var/folders/r7/xbd75fl13wvf24ktcp53cf1h0000gn/T/ipykernel_85517/1233849633.py:4: FutureWarning: DataFrame.fillna with 'method' is deprecated and will raise in a future version. Use obj.ffill() or obj.bfill() instead.\n",
      "  df.fillna(method='ffill')\n",
      "/var/folders/r7/xbd75fl13wvf24ktcp53cf1h0000gn/T/ipykernel_85517/1233849633.py:7: FutureWarning: DataFrame.fillna with 'method' is deprecated and will raise in a future version. Use obj.ffill() or obj.bfill() instead.\n",
      "  df.fillna(method='bfill')\n",
      "/var/folders/r7/xbd75fl13wvf24ktcp53cf1h0000gn/T/ipykernel_85517/1233849633.py:10: FutureWarning: DataFrame.interpolate with object dtype is deprecated and will raise in a future version. Call obj.infer_objects(copy=False) before interpolating instead.\n",
      "  df.interpolate()\n"
     ]
    },
    {
     "data": {
      "text/html": [
       "<div>\n",
       "<style scoped>\n",
       "    .dataframe tbody tr th:only-of-type {\n",
       "        vertical-align: middle;\n",
       "    }\n",
       "\n",
       "    .dataframe tbody tr th {\n",
       "        vertical-align: top;\n",
       "    }\n",
       "\n",
       "    .dataframe thead th {\n",
       "        text-align: right;\n",
       "    }\n",
       "</style>\n",
       "<table border=\"1\" class=\"dataframe\">\n",
       "  <thead>\n",
       "    <tr style=\"text-align: right;\">\n",
       "      <th></th>\n",
       "      <th>age</th>\n",
       "      <th>time_in_bed</th>\n",
       "      <th>pct_sleeping</th>\n",
       "      <th>favorite_food</th>\n",
       "      <th>hate_food</th>\n",
       "      <th>reward</th>\n",
       "    </tr>\n",
       "  </thead>\n",
       "  <tbody>\n",
       "    <tr>\n",
       "      <th>0</th>\n",
       "      <td>53</td>\n",
       "      <td>1</td>\n",
       "      <td>9564</td>\n",
       "      <td>burger</td>\n",
       "      <td>vegetables</td>\n",
       "      <td>vegetables</td>\n",
       "    </tr>\n",
       "    <tr>\n",
       "      <th>1</th>\n",
       "      <td>56</td>\n",
       "      <td>4</td>\n",
       "      <td>9564</td>\n",
       "      <td>burger</td>\n",
       "      <td>vegetables</td>\n",
       "      <td>vegetables</td>\n",
       "    </tr>\n",
       "    <tr>\n",
       "      <th>2</th>\n",
       "      <td>74</td>\n",
       "      <td>4</td>\n",
       "      <td>9564</td>\n",
       "      <td>pizza</td>\n",
       "      <td>vegetables</td>\n",
       "      <td>vegetables</td>\n",
       "    </tr>\n",
       "    <tr>\n",
       "      <th>3</th>\n",
       "      <td>19</td>\n",
       "      <td>2</td>\n",
       "      <td>9564</td>\n",
       "      <td>burger</td>\n",
       "      <td>vegetables</td>\n",
       "      <td>vegetables</td>\n",
       "    </tr>\n",
       "    <tr>\n",
       "      <th>4</th>\n",
       "      <td>36</td>\n",
       "      <td>6</td>\n",
       "      <td>9564</td>\n",
       "      <td>burger</td>\n",
       "      <td>vegetables</td>\n",
       "      <td>burger</td>\n",
       "    </tr>\n",
       "    <tr>\n",
       "      <th>...</th>\n",
       "      <td>...</td>\n",
       "      <td>...</td>\n",
       "      <td>...</td>\n",
       "      <td>...</td>\n",
       "      <td>...</td>\n",
       "      <td>...</td>\n",
       "    </tr>\n",
       "    <tr>\n",
       "      <th>9995</th>\n",
       "      <td>94</td>\n",
       "      <td>7</td>\n",
       "      <td>9564</td>\n",
       "      <td>ice-cream</td>\n",
       "      <td>vegetables</td>\n",
       "      <td>ice-cream</td>\n",
       "    </tr>\n",
       "    <tr>\n",
       "      <th>9996</th>\n",
       "      <td>31</td>\n",
       "      <td>4</td>\n",
       "      <td>9564</td>\n",
       "      <td>pizza</td>\n",
       "      <td>vegetables</td>\n",
       "      <td>vegetables</td>\n",
       "    </tr>\n",
       "    <tr>\n",
       "      <th>9997</th>\n",
       "      <td>73</td>\n",
       "      <td>7</td>\n",
       "      <td>9564</td>\n",
       "      <td>rice</td>\n",
       "      <td>vegetables</td>\n",
       "      <td>rice</td>\n",
       "    </tr>\n",
       "    <tr>\n",
       "      <th>9998</th>\n",
       "      <td>39</td>\n",
       "      <td>8</td>\n",
       "      <td>9564</td>\n",
       "      <td>ice-cream</td>\n",
       "      <td>vegetables</td>\n",
       "      <td>ice-cream</td>\n",
       "    </tr>\n",
       "    <tr>\n",
       "      <th>9999</th>\n",
       "      <td>94</td>\n",
       "      <td>4</td>\n",
       "      <td>9564</td>\n",
       "      <td>pizza</td>\n",
       "      <td>vegetables</td>\n",
       "      <td>pizza</td>\n",
       "    </tr>\n",
       "  </tbody>\n",
       "</table>\n",
       "<p>10000 rows × 6 columns</p>\n",
       "</div>"
      ],
      "text/plain": [
       "      age  time_in_bed  pct_sleeping favorite_food   hate_food      reward\n",
       "0      53            1          9564        burger  vegetables  vegetables\n",
       "1      56            4          9564        burger  vegetables  vegetables\n",
       "2      74            4          9564         pizza  vegetables  vegetables\n",
       "3      19            2          9564        burger  vegetables  vegetables\n",
       "4      36            6          9564        burger  vegetables      burger\n",
       "...   ...          ...           ...           ...         ...         ...\n",
       "9995   94            7          9564     ice-cream  vegetables   ice-cream\n",
       "9996   31            4          9564         pizza  vegetables  vegetables\n",
       "9997   73            7          9564          rice  vegetables        rice\n",
       "9998   39            8          9564     ice-cream  vegetables   ice-cream\n",
       "9999   94            4          9564         pizza  vegetables       pizza\n",
       "\n",
       "[10000 rows x 6 columns]"
      ]
     },
     "execution_count": 148,
     "metadata": {},
     "output_type": "execute_result"
    }
   ],
   "source": [
    "df.fillna(0)\n",
    "\n",
    "# forward-fill missing values (propagates last valid observation forward to next)\n",
    "df.fillna(method='ffill')\n",
    "\n",
    "# backward-fill missing values (propagates next valid observation backward to last)\n",
    "df.fillna(method='bfill')\n",
    "\n",
    "# fill missing values using interpolation\n",
    "df.interpolate()"
   ]
  },
  {
   "cell_type": "markdown",
   "id": "9a921af9-76fa-4470-bcb2-c27b81be7bbc",
   "metadata": {},
   "source": [
    "It is important to note that the fillna() method returns a new DataFrame with the missing values filled in and does not modify the original DataFrame in place. If you want to modify the original DataFrame, you can use the inplace parameter and set it to True."
   ]
  },
  {
   "cell_type": "code",
   "execution_count": null,
   "id": "a9a061ca-d812-4367-8eb3-63ffbff8671e",
   "metadata": {},
   "outputs": [],
   "source": [
    "# fill missing values in place\n",
    "df.fillna(0, inplace=True)"
   ]
  },
  {
   "cell_type": "markdown",
   "id": "592d0914-b430-4bd2-8ca2-886ae37b5e25",
   "metadata": {},
   "source": [
    "9. df.dropna()\n",
    "\n",
    "df.dropna() is a method used in the Pandas library to remove missing or null values from a DataFrame. It removes rows or columns from the DataFrame where at least one element is missing. "
   ]
  },
  {
   "cell_type": "code",
   "execution_count": 149,
   "id": "5a341722-875c-46d1-a634-259c42b8edaa",
   "metadata": {},
   "outputs": [
    {
     "data": {
      "text/html": [
       "<div>\n",
       "<style scoped>\n",
       "    .dataframe tbody tr th:only-of-type {\n",
       "        vertical-align: middle;\n",
       "    }\n",
       "\n",
       "    .dataframe tbody tr th {\n",
       "        vertical-align: top;\n",
       "    }\n",
       "\n",
       "    .dataframe thead th {\n",
       "        text-align: right;\n",
       "    }\n",
       "</style>\n",
       "<table border=\"1\" class=\"dataframe\">\n",
       "  <thead>\n",
       "    <tr style=\"text-align: right;\">\n",
       "      <th></th>\n",
       "      <th>age</th>\n",
       "      <th>time_in_bed</th>\n",
       "      <th>pct_sleeping</th>\n",
       "      <th>favorite_food</th>\n",
       "      <th>hate_food</th>\n",
       "      <th>reward</th>\n",
       "    </tr>\n",
       "  </thead>\n",
       "  <tbody>\n",
       "    <tr>\n",
       "      <th>0</th>\n",
       "      <td>53</td>\n",
       "      <td>1</td>\n",
       "      <td>9564</td>\n",
       "      <td>burger</td>\n",
       "      <td>vegetables</td>\n",
       "      <td>vegetables</td>\n",
       "    </tr>\n",
       "    <tr>\n",
       "      <th>1</th>\n",
       "      <td>56</td>\n",
       "      <td>4</td>\n",
       "      <td>9564</td>\n",
       "      <td>burger</td>\n",
       "      <td>vegetables</td>\n",
       "      <td>vegetables</td>\n",
       "    </tr>\n",
       "    <tr>\n",
       "      <th>2</th>\n",
       "      <td>74</td>\n",
       "      <td>4</td>\n",
       "      <td>9564</td>\n",
       "      <td>pizza</td>\n",
       "      <td>vegetables</td>\n",
       "      <td>vegetables</td>\n",
       "    </tr>\n",
       "    <tr>\n",
       "      <th>3</th>\n",
       "      <td>19</td>\n",
       "      <td>2</td>\n",
       "      <td>9564</td>\n",
       "      <td>burger</td>\n",
       "      <td>vegetables</td>\n",
       "      <td>vegetables</td>\n",
       "    </tr>\n",
       "    <tr>\n",
       "      <th>4</th>\n",
       "      <td>36</td>\n",
       "      <td>6</td>\n",
       "      <td>9564</td>\n",
       "      <td>burger</td>\n",
       "      <td>vegetables</td>\n",
       "      <td>burger</td>\n",
       "    </tr>\n",
       "    <tr>\n",
       "      <th>...</th>\n",
       "      <td>...</td>\n",
       "      <td>...</td>\n",
       "      <td>...</td>\n",
       "      <td>...</td>\n",
       "      <td>...</td>\n",
       "      <td>...</td>\n",
       "    </tr>\n",
       "    <tr>\n",
       "      <th>9995</th>\n",
       "      <td>94</td>\n",
       "      <td>7</td>\n",
       "      <td>9564</td>\n",
       "      <td>ice-cream</td>\n",
       "      <td>vegetables</td>\n",
       "      <td>ice-cream</td>\n",
       "    </tr>\n",
       "    <tr>\n",
       "      <th>9996</th>\n",
       "      <td>31</td>\n",
       "      <td>4</td>\n",
       "      <td>9564</td>\n",
       "      <td>pizza</td>\n",
       "      <td>vegetables</td>\n",
       "      <td>vegetables</td>\n",
       "    </tr>\n",
       "    <tr>\n",
       "      <th>9997</th>\n",
       "      <td>73</td>\n",
       "      <td>7</td>\n",
       "      <td>9564</td>\n",
       "      <td>rice</td>\n",
       "      <td>vegetables</td>\n",
       "      <td>rice</td>\n",
       "    </tr>\n",
       "    <tr>\n",
       "      <th>9998</th>\n",
       "      <td>39</td>\n",
       "      <td>8</td>\n",
       "      <td>9564</td>\n",
       "      <td>ice-cream</td>\n",
       "      <td>vegetables</td>\n",
       "      <td>ice-cream</td>\n",
       "    </tr>\n",
       "    <tr>\n",
       "      <th>9999</th>\n",
       "      <td>94</td>\n",
       "      <td>4</td>\n",
       "      <td>9564</td>\n",
       "      <td>pizza</td>\n",
       "      <td>vegetables</td>\n",
       "      <td>pizza</td>\n",
       "    </tr>\n",
       "  </tbody>\n",
       "</table>\n",
       "<p>10000 rows × 6 columns</p>\n",
       "</div>"
      ],
      "text/plain": [
       "      age  time_in_bed  pct_sleeping favorite_food   hate_food      reward\n",
       "0      53            1          9564        burger  vegetables  vegetables\n",
       "1      56            4          9564        burger  vegetables  vegetables\n",
       "2      74            4          9564         pizza  vegetables  vegetables\n",
       "3      19            2          9564        burger  vegetables  vegetables\n",
       "4      36            6          9564        burger  vegetables      burger\n",
       "...   ...          ...           ...           ...         ...         ...\n",
       "9995   94            7          9564     ice-cream  vegetables   ice-cream\n",
       "9996   31            4          9564         pizza  vegetables  vegetables\n",
       "9997   73            7          9564          rice  vegetables        rice\n",
       "9998   39            8          9564     ice-cream  vegetables   ice-cream\n",
       "9999   94            4          9564         pizza  vegetables       pizza\n",
       "\n",
       "[10000 rows x 6 columns]"
      ]
     },
     "execution_count": 149,
     "metadata": {},
     "output_type": "execute_result"
    }
   ],
   "source": [
    "df.dropna()"
   ]
  },
  {
   "cell_type": "markdown",
   "id": "e70814ae-7663-4850-adb9-07abbefa60d5",
   "metadata": {},
   "source": [
    "If you want to remove only the columns that contain at least one missing value you can use df.dropna(axis=1)"
   ]
  },
  {
   "cell_type": "code",
   "execution_count": 150,
   "id": "1e03b487-8cdf-463c-ab66-b5eea4f50ed3",
   "metadata": {},
   "outputs": [
    {
     "data": {
      "text/html": [
       "<div>\n",
       "<style scoped>\n",
       "    .dataframe tbody tr th:only-of-type {\n",
       "        vertical-align: middle;\n",
       "    }\n",
       "\n",
       "    .dataframe tbody tr th {\n",
       "        vertical-align: top;\n",
       "    }\n",
       "\n",
       "    .dataframe thead th {\n",
       "        text-align: right;\n",
       "    }\n",
       "</style>\n",
       "<table border=\"1\" class=\"dataframe\">\n",
       "  <thead>\n",
       "    <tr style=\"text-align: right;\">\n",
       "      <th></th>\n",
       "      <th>age</th>\n",
       "      <th>time_in_bed</th>\n",
       "      <th>pct_sleeping</th>\n",
       "      <th>favorite_food</th>\n",
       "      <th>hate_food</th>\n",
       "      <th>reward</th>\n",
       "    </tr>\n",
       "  </thead>\n",
       "  <tbody>\n",
       "    <tr>\n",
       "      <th>0</th>\n",
       "      <td>53</td>\n",
       "      <td>1</td>\n",
       "      <td>9564</td>\n",
       "      <td>burger</td>\n",
       "      <td>vegetables</td>\n",
       "      <td>vegetables</td>\n",
       "    </tr>\n",
       "    <tr>\n",
       "      <th>1</th>\n",
       "      <td>56</td>\n",
       "      <td>4</td>\n",
       "      <td>9564</td>\n",
       "      <td>burger</td>\n",
       "      <td>vegetables</td>\n",
       "      <td>vegetables</td>\n",
       "    </tr>\n",
       "    <tr>\n",
       "      <th>2</th>\n",
       "      <td>74</td>\n",
       "      <td>4</td>\n",
       "      <td>9564</td>\n",
       "      <td>pizza</td>\n",
       "      <td>vegetables</td>\n",
       "      <td>vegetables</td>\n",
       "    </tr>\n",
       "    <tr>\n",
       "      <th>3</th>\n",
       "      <td>19</td>\n",
       "      <td>2</td>\n",
       "      <td>9564</td>\n",
       "      <td>burger</td>\n",
       "      <td>vegetables</td>\n",
       "      <td>vegetables</td>\n",
       "    </tr>\n",
       "    <tr>\n",
       "      <th>4</th>\n",
       "      <td>36</td>\n",
       "      <td>6</td>\n",
       "      <td>9564</td>\n",
       "      <td>burger</td>\n",
       "      <td>vegetables</td>\n",
       "      <td>burger</td>\n",
       "    </tr>\n",
       "    <tr>\n",
       "      <th>...</th>\n",
       "      <td>...</td>\n",
       "      <td>...</td>\n",
       "      <td>...</td>\n",
       "      <td>...</td>\n",
       "      <td>...</td>\n",
       "      <td>...</td>\n",
       "    </tr>\n",
       "    <tr>\n",
       "      <th>9995</th>\n",
       "      <td>94</td>\n",
       "      <td>7</td>\n",
       "      <td>9564</td>\n",
       "      <td>ice-cream</td>\n",
       "      <td>vegetables</td>\n",
       "      <td>ice-cream</td>\n",
       "    </tr>\n",
       "    <tr>\n",
       "      <th>9996</th>\n",
       "      <td>31</td>\n",
       "      <td>4</td>\n",
       "      <td>9564</td>\n",
       "      <td>pizza</td>\n",
       "      <td>vegetables</td>\n",
       "      <td>vegetables</td>\n",
       "    </tr>\n",
       "    <tr>\n",
       "      <th>9997</th>\n",
       "      <td>73</td>\n",
       "      <td>7</td>\n",
       "      <td>9564</td>\n",
       "      <td>rice</td>\n",
       "      <td>vegetables</td>\n",
       "      <td>rice</td>\n",
       "    </tr>\n",
       "    <tr>\n",
       "      <th>9998</th>\n",
       "      <td>39</td>\n",
       "      <td>8</td>\n",
       "      <td>9564</td>\n",
       "      <td>ice-cream</td>\n",
       "      <td>vegetables</td>\n",
       "      <td>ice-cream</td>\n",
       "    </tr>\n",
       "    <tr>\n",
       "      <th>9999</th>\n",
       "      <td>94</td>\n",
       "      <td>4</td>\n",
       "      <td>9564</td>\n",
       "      <td>pizza</td>\n",
       "      <td>vegetables</td>\n",
       "      <td>pizza</td>\n",
       "    </tr>\n",
       "  </tbody>\n",
       "</table>\n",
       "<p>10000 rows × 6 columns</p>\n",
       "</div>"
      ],
      "text/plain": [
       "      age  time_in_bed  pct_sleeping favorite_food   hate_food      reward\n",
       "0      53            1          9564        burger  vegetables  vegetables\n",
       "1      56            4          9564        burger  vegetables  vegetables\n",
       "2      74            4          9564         pizza  vegetables  vegetables\n",
       "3      19            2          9564        burger  vegetables  vegetables\n",
       "4      36            6          9564        burger  vegetables      burger\n",
       "...   ...          ...           ...           ...         ...         ...\n",
       "9995   94            7          9564     ice-cream  vegetables   ice-cream\n",
       "9996   31            4          9564         pizza  vegetables  vegetables\n",
       "9997   73            7          9564          rice  vegetables        rice\n",
       "9998   39            8          9564     ice-cream  vegetables   ice-cream\n",
       "9999   94            4          9564         pizza  vegetables       pizza\n",
       "\n",
       "[10000 rows x 6 columns]"
      ]
     },
     "execution_count": 150,
     "metadata": {},
     "output_type": "execute_result"
    }
   ],
   "source": [
    "df.dropna(axis=1)"
   ]
  },
  {
   "cell_type": "markdown",
   "id": "d3853730-b434-4ce9-acb5-98b9bf45d347",
   "metadata": {},
   "source": [
    "You can also set thresh parameter to keep only the rows/columns that have at least thresh non-NA/null values."
   ]
  },
  {
   "cell_type": "code",
   "execution_count": 151,
   "id": "dd31eb58-715b-4ff2-b8b0-0a4888008f98",
   "metadata": {},
   "outputs": [],
   "source": [
    "df_drop_na = df.dropna(thresh=2)"
   ]
  },
  {
   "cell_type": "markdown",
   "id": "c69203ab-e946-4d43-8721-11c8641d5e59",
   "metadata": {},
   "source": [
    "10. df.drop()\n",
    "\n",
    "df.drop() is a method used in the Pandas library to remove rows or columns from a DataFrame by specifying the corresponding labels. It can be used to drop one or multiple rows or columns based on their labels.\n",
    "\n",
    "You can remove a specific row by calling df.drop() and passing the index label of the row you want to remove, and the axis parameter set to 0 (default is 0)"
   ]
  },
  {
   "cell_type": "code",
   "execution_count": 152,
   "id": "9dee4f2d-828b-4dda-bf70-649b98d204bc",
   "metadata": {},
   "outputs": [],
   "source": [
    "## remove first row of na\n",
    "df_drop = df.drop(0)"
   ]
  },
  {
   "cell_type": "code",
   "execution_count": 153,
   "id": "038bea1f-b0c1-4100-970e-6ee18a0e515a",
   "metadata": {},
   "outputs": [],
   "source": [
    "df_drop = df.drop([0,1]) ## drop multiple rows by passsing their indexes"
   ]
  },
  {
   "cell_type": "code",
   "execution_count": 155,
   "id": "13c13347-7e30-46d0-9c4c-ddfd13165e4f",
   "metadata": {},
   "outputs": [
    {
     "data": {
      "text/html": [
       "<div>\n",
       "<style scoped>\n",
       "    .dataframe tbody tr th:only-of-type {\n",
       "        vertical-align: middle;\n",
       "    }\n",
       "\n",
       "    .dataframe tbody tr th {\n",
       "        vertical-align: top;\n",
       "    }\n",
       "\n",
       "    .dataframe thead th {\n",
       "        text-align: right;\n",
       "    }\n",
       "</style>\n",
       "<table border=\"1\" class=\"dataframe\">\n",
       "  <thead>\n",
       "    <tr style=\"text-align: right;\">\n",
       "      <th></th>\n",
       "      <th>age</th>\n",
       "      <th>pct_sleeping</th>\n",
       "      <th>hate_food</th>\n",
       "      <th>reward</th>\n",
       "    </tr>\n",
       "  </thead>\n",
       "  <tbody>\n",
       "    <tr>\n",
       "      <th>0</th>\n",
       "      <td>53</td>\n",
       "      <td>9564</td>\n",
       "      <td>vegetables</td>\n",
       "      <td>vegetables</td>\n",
       "    </tr>\n",
       "    <tr>\n",
       "      <th>1</th>\n",
       "      <td>56</td>\n",
       "      <td>9564</td>\n",
       "      <td>vegetables</td>\n",
       "      <td>vegetables</td>\n",
       "    </tr>\n",
       "    <tr>\n",
       "      <th>2</th>\n",
       "      <td>74</td>\n",
       "      <td>9564</td>\n",
       "      <td>vegetables</td>\n",
       "      <td>vegetables</td>\n",
       "    </tr>\n",
       "    <tr>\n",
       "      <th>3</th>\n",
       "      <td>19</td>\n",
       "      <td>9564</td>\n",
       "      <td>vegetables</td>\n",
       "      <td>vegetables</td>\n",
       "    </tr>\n",
       "    <tr>\n",
       "      <th>4</th>\n",
       "      <td>36</td>\n",
       "      <td>9564</td>\n",
       "      <td>vegetables</td>\n",
       "      <td>burger</td>\n",
       "    </tr>\n",
       "    <tr>\n",
       "      <th>...</th>\n",
       "      <td>...</td>\n",
       "      <td>...</td>\n",
       "      <td>...</td>\n",
       "      <td>...</td>\n",
       "    </tr>\n",
       "    <tr>\n",
       "      <th>9995</th>\n",
       "      <td>94</td>\n",
       "      <td>9564</td>\n",
       "      <td>vegetables</td>\n",
       "      <td>ice-cream</td>\n",
       "    </tr>\n",
       "    <tr>\n",
       "      <th>9996</th>\n",
       "      <td>31</td>\n",
       "      <td>9564</td>\n",
       "      <td>vegetables</td>\n",
       "      <td>vegetables</td>\n",
       "    </tr>\n",
       "    <tr>\n",
       "      <th>9997</th>\n",
       "      <td>73</td>\n",
       "      <td>9564</td>\n",
       "      <td>vegetables</td>\n",
       "      <td>rice</td>\n",
       "    </tr>\n",
       "    <tr>\n",
       "      <th>9998</th>\n",
       "      <td>39</td>\n",
       "      <td>9564</td>\n",
       "      <td>vegetables</td>\n",
       "      <td>ice-cream</td>\n",
       "    </tr>\n",
       "    <tr>\n",
       "      <th>9999</th>\n",
       "      <td>94</td>\n",
       "      <td>9564</td>\n",
       "      <td>vegetables</td>\n",
       "      <td>pizza</td>\n",
       "    </tr>\n",
       "  </tbody>\n",
       "</table>\n",
       "<p>10000 rows × 4 columns</p>\n",
       "</div>"
      ],
      "text/plain": [
       "      age  pct_sleeping   hate_food      reward\n",
       "0      53          9564  vegetables  vegetables\n",
       "1      56          9564  vegetables  vegetables\n",
       "2      74          9564  vegetables  vegetables\n",
       "3      19          9564  vegetables  vegetables\n",
       "4      36          9564  vegetables      burger\n",
       "...   ...           ...         ...         ...\n",
       "9995   94          9564  vegetables   ice-cream\n",
       "9996   31          9564  vegetables  vegetables\n",
       "9997   73          9564  vegetables        rice\n",
       "9998   39          9564  vegetables   ice-cream\n",
       "9999   94          9564  vegetables       pizza\n",
       "\n",
       "[10000 rows x 4 columns]"
      ]
     },
     "execution_count": 155,
     "metadata": {},
     "output_type": "execute_result"
    }
   ],
   "source": [
    "# drop columns by passing the labels of the columns you want to remove and setting the axis parameter to 1:\n",
    "df_drop = df.drop(['time_in_bed', 'favorite_food'], axis=1)\n",
    "df_drop"
   ]
  },
  {
   "cell_type": "markdown",
   "id": "14415389-e820-4413-a151-f6eccbc47a0c",
   "metadata": {},
   "source": [
    "11. df.pivot_table()\n",
    "    \n",
    "pd.pivot_table() is a method in the Pandas library that is used to create a pivot table from a DataFrame. A pivot table is a table that summarizes and aggregates data in a more meaningful and organized way, by creating a new table with one or more columns as the index, one or more columns as values, and one or more columns as attributes.\n",
    "\n",
    "In the example below we will create a pivot table with Ethnicity as the index and aggregate the sum of the count. This is used to know the count of each Ethnicity in the dataset."
   ]
  },
  {
   "cell_type": "code",
   "execution_count": 156,
   "id": "6a8f353c-20c7-4f54-bb01-3eed5015089f",
   "metadata": {},
   "outputs": [
    {
     "data": {
      "text/html": [
       "<div>\n",
       "<style scoped>\n",
       "    .dataframe tbody tr th:only-of-type {\n",
       "        vertical-align: middle;\n",
       "    }\n",
       "\n",
       "    .dataframe tbody tr th {\n",
       "        vertical-align: top;\n",
       "    }\n",
       "\n",
       "    .dataframe thead th {\n",
       "        text-align: right;\n",
       "    }\n",
       "</style>\n",
       "<table border=\"1\" class=\"dataframe\">\n",
       "  <thead>\n",
       "    <tr style=\"text-align: right;\">\n",
       "      <th></th>\n",
       "      <th>time_in_bed</th>\n",
       "    </tr>\n",
       "    <tr>\n",
       "      <th>favorite_food</th>\n",
       "      <th></th>\n",
       "    </tr>\n",
       "  </thead>\n",
       "  <tbody>\n",
       "    <tr>\n",
       "      <th>burger</th>\n",
       "      <td>9948</td>\n",
       "    </tr>\n",
       "    <tr>\n",
       "      <th>ice-cream</th>\n",
       "      <td>9976</td>\n",
       "    </tr>\n",
       "    <tr>\n",
       "      <th>pizza</th>\n",
       "      <td>10214</td>\n",
       "    </tr>\n",
       "    <tr>\n",
       "      <th>rice</th>\n",
       "      <td>9994</td>\n",
       "    </tr>\n",
       "  </tbody>\n",
       "</table>\n",
       "</div>"
      ],
      "text/plain": [
       "               time_in_bed\n",
       "favorite_food             \n",
       "burger                9948\n",
       "ice-cream             9976\n",
       "pizza                10214\n",
       "rice                  9994"
      ]
     },
     "execution_count": 156,
     "metadata": {},
     "output_type": "execute_result"
    }
   ],
   "source": [
    "pd.pivot_table(df,index='favorite_food',values='time_in_bed',aggfunc='sum')"
   ]
  },
  {
   "cell_type": "code",
   "execution_count": 163,
   "id": "c3e13a62-133b-41fd-aab4-fdbde6dd0ae5",
   "metadata": {},
   "outputs": [
    {
     "data": {
      "text/html": [
       "<div>\n",
       "<style scoped>\n",
       "    .dataframe tbody tr th:only-of-type {\n",
       "        vertical-align: middle;\n",
       "    }\n",
       "\n",
       "    .dataframe tbody tr th {\n",
       "        vertical-align: top;\n",
       "    }\n",
       "\n",
       "    .dataframe thead th {\n",
       "        text-align: right;\n",
       "    }\n",
       "</style>\n",
       "<table border=\"1\" class=\"dataframe\">\n",
       "  <thead>\n",
       "    <tr style=\"text-align: right;\">\n",
       "      <th></th>\n",
       "      <th></th>\n",
       "      <th>time_in_bed</th>\n",
       "    </tr>\n",
       "    <tr>\n",
       "      <th>hate_food</th>\n",
       "      <th>favorite_food</th>\n",
       "      <th></th>\n",
       "    </tr>\n",
       "  </thead>\n",
       "  <tbody>\n",
       "    <tr>\n",
       "      <th rowspan=\"4\" valign=\"top\">vegetables</th>\n",
       "      <th>burger</th>\n",
       "      <td>10205</td>\n",
       "    </tr>\n",
       "    <tr>\n",
       "      <th>ice-cream</th>\n",
       "      <td>10171</td>\n",
       "    </tr>\n",
       "    <tr>\n",
       "      <th>pizza</th>\n",
       "      <td>9865</td>\n",
       "    </tr>\n",
       "    <tr>\n",
       "      <th>rice</th>\n",
       "      <td>9973</td>\n",
       "    </tr>\n",
       "  </tbody>\n",
       "</table>\n",
       "</div>"
      ],
      "text/plain": [
       "                          time_in_bed\n",
       "hate_food  favorite_food             \n",
       "vegetables burger               10205\n",
       "           ice-cream            10171\n",
       "           pizza                 9865\n",
       "           rice                  9973"
      ]
     },
     "execution_count": 163,
     "metadata": {},
     "output_type": "execute_result"
    }
   ],
   "source": [
    "pd.pivot_table(df,index=['hate_food','favorite_food'],values='time_in_bed',aggfunc='sum')"
   ]
  },
  {
   "cell_type": "code",
   "execution_count": 165,
   "id": "2a0a1b76-a09a-4f02-a881-946d75c62703",
   "metadata": {},
   "outputs": [
    {
     "data": {
      "text/html": [
       "<div>\n",
       "<style scoped>\n",
       "    .dataframe tbody tr th:only-of-type {\n",
       "        vertical-align: middle;\n",
       "    }\n",
       "\n",
       "    .dataframe tbody tr th {\n",
       "        vertical-align: top;\n",
       "    }\n",
       "\n",
       "    .dataframe thead tr th {\n",
       "        text-align: left;\n",
       "    }\n",
       "\n",
       "    .dataframe thead tr:last-of-type th {\n",
       "        text-align: right;\n",
       "    }\n",
       "</style>\n",
       "<table border=\"1\" class=\"dataframe\">\n",
       "  <thead>\n",
       "    <tr>\n",
       "      <th></th>\n",
       "      <th></th>\n",
       "      <th>sum</th>\n",
       "      <th>count</th>\n",
       "    </tr>\n",
       "    <tr>\n",
       "      <th></th>\n",
       "      <th></th>\n",
       "      <th>time_in_bed</th>\n",
       "      <th>time_in_bed</th>\n",
       "    </tr>\n",
       "    <tr>\n",
       "      <th>hate_food</th>\n",
       "      <th>favorite_food</th>\n",
       "      <th></th>\n",
       "      <th></th>\n",
       "    </tr>\n",
       "  </thead>\n",
       "  <tbody>\n",
       "    <tr>\n",
       "      <th rowspan=\"4\" valign=\"top\">vegetables</th>\n",
       "      <th>burger</th>\n",
       "      <td>10205</td>\n",
       "      <td>2532</td>\n",
       "    </tr>\n",
       "    <tr>\n",
       "      <th>ice-cream</th>\n",
       "      <td>10171</td>\n",
       "      <td>2554</td>\n",
       "    </tr>\n",
       "    <tr>\n",
       "      <th>pizza</th>\n",
       "      <td>9865</td>\n",
       "      <td>2446</td>\n",
       "    </tr>\n",
       "    <tr>\n",
       "      <th>rice</th>\n",
       "      <td>9973</td>\n",
       "      <td>2468</td>\n",
       "    </tr>\n",
       "  </tbody>\n",
       "</table>\n",
       "</div>"
      ],
      "text/plain": [
       "                                 sum       count\n",
       "                         time_in_bed time_in_bed\n",
       "hate_food  favorite_food                        \n",
       "vegetables burger              10205        2532\n",
       "           ice-cream           10171        2554\n",
       "           pizza                9865        2446\n",
       "           rice                 9973        2468"
      ]
     },
     "execution_count": 165,
     "metadata": {},
     "output_type": "execute_result"
    }
   ],
   "source": [
    "pd.pivot_table(df,index=['hate_food','favorite_food'],values='time_in_bed',aggfunc=['sum','count'])"
   ]
  },
  {
   "cell_type": "markdown",
   "id": "7b538076-5f5c-4668-9600-3550fdf543d7",
   "metadata": {},
   "source": [
    "12. df.groupby()\n",
    "\n",
    "df.groupby() is a method in the Pandas library that is used to group rows of a DataFrame based on one or multiple columns. This allows you to perform aggregate operations on the groups, such as calculating the mean, sum, or count of the values in each group."
   ]
  },
  {
   "cell_type": "code",
   "execution_count": 169,
   "id": "e8995bc9-a51a-434d-b7f9-ace6ff83c559",
   "metadata": {},
   "outputs": [
    {
     "name": "stdout",
     "output_type": "stream",
     "text": [
      "              age  pct_sleeping  favorite_food  hate_food\n",
      "time_in_bed                                              \n",
      "0            1080          1080           1080       1080\n",
      "1            1155          1155           1155       1155\n",
      "2            1088          1088           1088       1088\n",
      "3            1061          1061           1061       1061\n",
      "4            1135          1135           1135       1135\n",
      "5            1094          1094           1094       1094\n",
      "6            1163          1163           1163       1163\n",
      "7            1080          1080           1080       1080\n",
      "8            1144          1144           1144       1144\n"
     ]
    }
   ],
   "source": [
    "grouped = df.groupby('time_in_bed')\n",
    "# Print the mean of each group\n",
    "print(grouped.count())"
   ]
  },
  {
   "cell_type": "code",
   "execution_count": 170,
   "id": "196ae2e8-bc91-4157-be68-6eb5b84be8aa",
   "metadata": {},
   "outputs": [
    {
     "data": {
      "text/plain": [
       "(10000, 5)"
      ]
     },
     "execution_count": 170,
     "metadata": {},
     "output_type": "execute_result"
    }
   ],
   "source": [
    "df.shape"
   ]
  },
  {
   "cell_type": "code",
   "execution_count": 172,
   "id": "c4718e21-de9d-4d55-9c5b-a175388d3607",
   "metadata": {},
   "outputs": [
    {
     "data": {
      "text/html": [
       "<div>\n",
       "<style scoped>\n",
       "    .dataframe tbody tr th:only-of-type {\n",
       "        vertical-align: middle;\n",
       "    }\n",
       "\n",
       "    .dataframe tbody tr th {\n",
       "        vertical-align: top;\n",
       "    }\n",
       "\n",
       "    .dataframe thead th {\n",
       "        text-align: right;\n",
       "    }\n",
       "</style>\n",
       "<table border=\"1\" class=\"dataframe\">\n",
       "  <thead>\n",
       "    <tr style=\"text-align: right;\">\n",
       "      <th></th>\n",
       "      <th>age</th>\n",
       "      <th>pct_sleeping</th>\n",
       "      <th>favorite_food</th>\n",
       "      <th>hate_food</th>\n",
       "    </tr>\n",
       "    <tr>\n",
       "      <th>time_in_bed</th>\n",
       "      <th></th>\n",
       "      <th></th>\n",
       "      <th></th>\n",
       "      <th></th>\n",
       "    </tr>\n",
       "  </thead>\n",
       "  <tbody>\n",
       "    <tr>\n",
       "      <th>0</th>\n",
       "      <td>53371</td>\n",
       "      <td>10444680</td>\n",
       "      <td>burgerpizzapizzaricepizzaburgerice-creamice-cr...</td>\n",
       "      <td>vegetablesvegetablesvegetablesvegetablesvegeta...</td>\n",
       "    </tr>\n",
       "    <tr>\n",
       "      <th>1</th>\n",
       "      <td>57848</td>\n",
       "      <td>11170005</td>\n",
       "      <td>riceburgerice-creamburgerpizzaricepizzapizzabu...</td>\n",
       "      <td>vegetablesvegetablesvegetablesvegetablesvegeta...</td>\n",
       "    </tr>\n",
       "    <tr>\n",
       "      <th>2</th>\n",
       "      <td>55345</td>\n",
       "      <td>10522048</td>\n",
       "      <td>pizzaice-creamburgerburgerburgerburgerpizzaric...</td>\n",
       "      <td>vegetablesvegetablesvegetablesvegetablesvegeta...</td>\n",
       "    </tr>\n",
       "    <tr>\n",
       "      <th>3</th>\n",
       "      <td>50605</td>\n",
       "      <td>10260931</td>\n",
       "      <td>ice-creampizzaburgerice-creamice-creamriceburg...</td>\n",
       "      <td>vegetablesvegetablesvegetablesvegetablesvegeta...</td>\n",
       "    </tr>\n",
       "    <tr>\n",
       "      <th>4</th>\n",
       "      <td>54900</td>\n",
       "      <td>10976585</td>\n",
       "      <td>burgerpizzariceburgerburgerburgerpizzaice-crea...</td>\n",
       "      <td>vegetablesvegetablesvegetablesvegetablesvegeta...</td>\n",
       "    </tr>\n",
       "    <tr>\n",
       "      <th>5</th>\n",
       "      <td>55167</td>\n",
       "      <td>10580074</td>\n",
       "      <td>ice-creampizzaice-creamburgerice-creamricerice...</td>\n",
       "      <td>vegetablesvegetablesvegetablesvegetablesvegeta...</td>\n",
       "    </tr>\n",
       "    <tr>\n",
       "      <th>6</th>\n",
       "      <td>57382</td>\n",
       "      <td>11247373</td>\n",
       "      <td>ricericeice-creamice-creampizzapizzariceice-cr...</td>\n",
       "      <td>vegetablesvegetablesvegetablesvegetablesvegeta...</td>\n",
       "    </tr>\n",
       "    <tr>\n",
       "      <th>7</th>\n",
       "      <td>53544</td>\n",
       "      <td>10444680</td>\n",
       "      <td>pizzapizzapizzaricericericepizzaice-creamricer...</td>\n",
       "      <td>vegetablesvegetablesvegetablesvegetablesvegeta...</td>\n",
       "    </tr>\n",
       "    <tr>\n",
       "      <th>8</th>\n",
       "      <td>56437</td>\n",
       "      <td>11063624</td>\n",
       "      <td>pizzaricepizzaricepizzaburgerice-creamriceburg...</td>\n",
       "      <td>vegetablesvegetablesvegetablesvegetablesvegeta...</td>\n",
       "    </tr>\n",
       "  </tbody>\n",
       "</table>\n",
       "</div>"
      ],
      "text/plain": [
       "               age  pct_sleeping  \\\n",
       "time_in_bed                        \n",
       "0            53371      10444680   \n",
       "1            57848      11170005   \n",
       "2            55345      10522048   \n",
       "3            50605      10260931   \n",
       "4            54900      10976585   \n",
       "5            55167      10580074   \n",
       "6            57382      11247373   \n",
       "7            53544      10444680   \n",
       "8            56437      11063624   \n",
       "\n",
       "                                                 favorite_food  \\\n",
       "time_in_bed                                                      \n",
       "0            burgerpizzapizzaricepizzaburgerice-creamice-cr...   \n",
       "1            riceburgerice-creamburgerpizzaricepizzapizzabu...   \n",
       "2            pizzaice-creamburgerburgerburgerburgerpizzaric...   \n",
       "3            ice-creampizzaburgerice-creamice-creamriceburg...   \n",
       "4            burgerpizzariceburgerburgerburgerpizzaice-crea...   \n",
       "5            ice-creampizzaice-creamburgerice-creamricerice...   \n",
       "6            ricericeice-creamice-creampizzapizzariceice-cr...   \n",
       "7            pizzapizzapizzaricericericepizzaice-creamricer...   \n",
       "8            pizzaricepizzaricepizzaburgerice-creamriceburg...   \n",
       "\n",
       "                                                     hate_food  \n",
       "time_in_bed                                                     \n",
       "0            vegetablesvegetablesvegetablesvegetablesvegeta...  \n",
       "1            vegetablesvegetablesvegetablesvegetablesvegeta...  \n",
       "2            vegetablesvegetablesvegetablesvegetablesvegeta...  \n",
       "3            vegetablesvegetablesvegetablesvegetablesvegeta...  \n",
       "4            vegetablesvegetablesvegetablesvegetablesvegeta...  \n",
       "5            vegetablesvegetablesvegetablesvegetablesvegeta...  \n",
       "6            vegetablesvegetablesvegetablesvegetablesvegeta...  \n",
       "7            vegetablesvegetablesvegetablesvegetablesvegeta...  \n",
       "8            vegetablesvegetablesvegetablesvegetablesvegeta...  "
      ]
     },
     "execution_count": 172,
     "metadata": {},
     "output_type": "execute_result"
    }
   ],
   "source": [
    "grouped.sum()"
   ]
  },
  {
   "cell_type": "markdown",
   "id": "8892a345-1d09-4144-b197-f1c96825f1c9",
   "metadata": {},
   "source": [
    "13. df.transpose\n",
    "\n",
    "df.transpose() is a method in the Pandas library used to transpose the rows and columns of a DataFrame? This means that the rows become columns and the columns become rows."
   ]
  },
  {
   "cell_type": "code",
   "execution_count": 173,
   "id": "23458735-289c-485b-bf34-224e545adc49",
   "metadata": {},
   "outputs": [
    {
     "data": {
      "text/html": [
       "<div>\n",
       "<style scoped>\n",
       "    .dataframe tbody tr th:only-of-type {\n",
       "        vertical-align: middle;\n",
       "    }\n",
       "\n",
       "    .dataframe tbody tr th {\n",
       "        vertical-align: top;\n",
       "    }\n",
       "\n",
       "    .dataframe thead th {\n",
       "        text-align: right;\n",
       "    }\n",
       "</style>\n",
       "<table border=\"1\" class=\"dataframe\">\n",
       "  <thead>\n",
       "    <tr style=\"text-align: right;\">\n",
       "      <th></th>\n",
       "      <th>0</th>\n",
       "      <th>1</th>\n",
       "      <th>2</th>\n",
       "      <th>3</th>\n",
       "      <th>4</th>\n",
       "      <th>5</th>\n",
       "      <th>6</th>\n",
       "      <th>7</th>\n",
       "      <th>8</th>\n",
       "      <th>9</th>\n",
       "      <th>...</th>\n",
       "      <th>9990</th>\n",
       "      <th>9991</th>\n",
       "      <th>9992</th>\n",
       "      <th>9993</th>\n",
       "      <th>9994</th>\n",
       "      <th>9995</th>\n",
       "      <th>9996</th>\n",
       "      <th>9997</th>\n",
       "      <th>9998</th>\n",
       "      <th>9999</th>\n",
       "    </tr>\n",
       "  </thead>\n",
       "  <tbody>\n",
       "    <tr>\n",
       "      <th>age</th>\n",
       "      <td>87</td>\n",
       "      <td>46</td>\n",
       "      <td>63</td>\n",
       "      <td>53</td>\n",
       "      <td>36</td>\n",
       "      <td>19</td>\n",
       "      <td>28</td>\n",
       "      <td>22</td>\n",
       "      <td>11</td>\n",
       "      <td>83</td>\n",
       "      <td>...</td>\n",
       "      <td>27</td>\n",
       "      <td>8</td>\n",
       "      <td>26</td>\n",
       "      <td>36</td>\n",
       "      <td>83</td>\n",
       "      <td>12</td>\n",
       "      <td>82</td>\n",
       "      <td>34</td>\n",
       "      <td>14</td>\n",
       "      <td>69</td>\n",
       "    </tr>\n",
       "    <tr>\n",
       "      <th>time_in_bed</th>\n",
       "      <td>6</td>\n",
       "      <td>7</td>\n",
       "      <td>4</td>\n",
       "      <td>0</td>\n",
       "      <td>4</td>\n",
       "      <td>1</td>\n",
       "      <td>2</td>\n",
       "      <td>8</td>\n",
       "      <td>7</td>\n",
       "      <td>3</td>\n",
       "      <td>...</td>\n",
       "      <td>4</td>\n",
       "      <td>5</td>\n",
       "      <td>6</td>\n",
       "      <td>2</td>\n",
       "      <td>3</td>\n",
       "      <td>3</td>\n",
       "      <td>4</td>\n",
       "      <td>7</td>\n",
       "      <td>1</td>\n",
       "      <td>3</td>\n",
       "    </tr>\n",
       "    <tr>\n",
       "      <th>pct_sleeping</th>\n",
       "      <td>9671</td>\n",
       "      <td>9671</td>\n",
       "      <td>9671</td>\n",
       "      <td>9671</td>\n",
       "      <td>9671</td>\n",
       "      <td>9671</td>\n",
       "      <td>9671</td>\n",
       "      <td>9671</td>\n",
       "      <td>9671</td>\n",
       "      <td>9671</td>\n",
       "      <td>...</td>\n",
       "      <td>9671</td>\n",
       "      <td>9671</td>\n",
       "      <td>9671</td>\n",
       "      <td>9671</td>\n",
       "      <td>9671</td>\n",
       "      <td>9671</td>\n",
       "      <td>9671</td>\n",
       "      <td>9671</td>\n",
       "      <td>9671</td>\n",
       "      <td>9671</td>\n",
       "    </tr>\n",
       "    <tr>\n",
       "      <th>favorite_food</th>\n",
       "      <td>rice</td>\n",
       "      <td>pizza</td>\n",
       "      <td>burger</td>\n",
       "      <td>burger</td>\n",
       "      <td>pizza</td>\n",
       "      <td>rice</td>\n",
       "      <td>pizza</td>\n",
       "      <td>pizza</td>\n",
       "      <td>pizza</td>\n",
       "      <td>ice-cream</td>\n",
       "      <td>...</td>\n",
       "      <td>rice</td>\n",
       "      <td>burger</td>\n",
       "      <td>burger</td>\n",
       "      <td>ice-cream</td>\n",
       "      <td>pizza</td>\n",
       "      <td>rice</td>\n",
       "      <td>rice</td>\n",
       "      <td>ice-cream</td>\n",
       "      <td>pizza</td>\n",
       "      <td>ice-cream</td>\n",
       "    </tr>\n",
       "    <tr>\n",
       "      <th>hate_food</th>\n",
       "      <td>vegetables</td>\n",
       "      <td>vegetables</td>\n",
       "      <td>vegetables</td>\n",
       "      <td>vegetables</td>\n",
       "      <td>vegetables</td>\n",
       "      <td>vegetables</td>\n",
       "      <td>vegetables</td>\n",
       "      <td>vegetables</td>\n",
       "      <td>vegetables</td>\n",
       "      <td>vegetables</td>\n",
       "      <td>...</td>\n",
       "      <td>vegetables</td>\n",
       "      <td>vegetables</td>\n",
       "      <td>vegetables</td>\n",
       "      <td>vegetables</td>\n",
       "      <td>vegetables</td>\n",
       "      <td>vegetables</td>\n",
       "      <td>vegetables</td>\n",
       "      <td>vegetables</td>\n",
       "      <td>vegetables</td>\n",
       "      <td>vegetables</td>\n",
       "    </tr>\n",
       "  </tbody>\n",
       "</table>\n",
       "<p>5 rows × 10000 columns</p>\n",
       "</div>"
      ],
      "text/plain": [
       "                     0           1           2           3           4     \\\n",
       "age                    87          46          63          53          36   \n",
       "time_in_bed             6           7           4           0           4   \n",
       "pct_sleeping         9671        9671        9671        9671        9671   \n",
       "favorite_food        rice       pizza      burger      burger       pizza   \n",
       "hate_food      vegetables  vegetables  vegetables  vegetables  vegetables   \n",
       "\n",
       "                     5           6           7           8           9     \\\n",
       "age                    19          28          22          11          83   \n",
       "time_in_bed             1           2           8           7           3   \n",
       "pct_sleeping         9671        9671        9671        9671        9671   \n",
       "favorite_food        rice       pizza       pizza       pizza   ice-cream   \n",
       "hate_food      vegetables  vegetables  vegetables  vegetables  vegetables   \n",
       "\n",
       "               ...        9990        9991        9992        9993  \\\n",
       "age            ...          27           8          26          36   \n",
       "time_in_bed    ...           4           5           6           2   \n",
       "pct_sleeping   ...        9671        9671        9671        9671   \n",
       "favorite_food  ...        rice      burger      burger   ice-cream   \n",
       "hate_food      ...  vegetables  vegetables  vegetables  vegetables   \n",
       "\n",
       "                     9994        9995        9996        9997        9998  \\\n",
       "age                    83          12          82          34          14   \n",
       "time_in_bed             3           3           4           7           1   \n",
       "pct_sleeping         9671        9671        9671        9671        9671   \n",
       "favorite_food       pizza        rice        rice   ice-cream       pizza   \n",
       "hate_food      vegetables  vegetables  vegetables  vegetables  vegetables   \n",
       "\n",
       "                     9999  \n",
       "age                    69  \n",
       "time_in_bed             3  \n",
       "pct_sleeping         9671  \n",
       "favorite_food   ice-cream  \n",
       "hate_food      vegetables  \n",
       "\n",
       "[5 rows x 10000 columns]"
      ]
     },
     "execution_count": 173,
     "metadata": {},
     "output_type": "execute_result"
    }
   ],
   "source": [
    "# Transpose the DataFrame\n",
    "df_transposed = df.transpose()\n",
    "\n",
    "# Print the transposed DataFrame\n",
    "df_transposed.head()"
   ]
  },
  {
   "cell_type": "code",
   "execution_count": 174,
   "id": "858cb3cc-3577-4c06-9019-18bddf4b2883",
   "metadata": {},
   "outputs": [
    {
     "data": {
      "text/html": [
       "<div>\n",
       "<style scoped>\n",
       "    .dataframe tbody tr th:only-of-type {\n",
       "        vertical-align: middle;\n",
       "    }\n",
       "\n",
       "    .dataframe tbody tr th {\n",
       "        vertical-align: top;\n",
       "    }\n",
       "\n",
       "    .dataframe thead th {\n",
       "        text-align: right;\n",
       "    }\n",
       "</style>\n",
       "<table border=\"1\" class=\"dataframe\">\n",
       "  <thead>\n",
       "    <tr style=\"text-align: right;\">\n",
       "      <th></th>\n",
       "      <th>0</th>\n",
       "      <th>1</th>\n",
       "      <th>2</th>\n",
       "      <th>3</th>\n",
       "      <th>4</th>\n",
       "      <th>5</th>\n",
       "      <th>6</th>\n",
       "      <th>7</th>\n",
       "      <th>8</th>\n",
       "      <th>9</th>\n",
       "      <th>...</th>\n",
       "      <th>9990</th>\n",
       "      <th>9991</th>\n",
       "      <th>9992</th>\n",
       "      <th>9993</th>\n",
       "      <th>9994</th>\n",
       "      <th>9995</th>\n",
       "      <th>9996</th>\n",
       "      <th>9997</th>\n",
       "      <th>9998</th>\n",
       "      <th>9999</th>\n",
       "    </tr>\n",
       "  </thead>\n",
       "  <tbody>\n",
       "    <tr>\n",
       "      <th>age</th>\n",
       "      <td>87</td>\n",
       "      <td>46</td>\n",
       "      <td>63</td>\n",
       "      <td>53</td>\n",
       "      <td>36</td>\n",
       "      <td>19</td>\n",
       "      <td>28</td>\n",
       "      <td>22</td>\n",
       "      <td>11</td>\n",
       "      <td>83</td>\n",
       "      <td>...</td>\n",
       "      <td>27</td>\n",
       "      <td>8</td>\n",
       "      <td>26</td>\n",
       "      <td>36</td>\n",
       "      <td>83</td>\n",
       "      <td>12</td>\n",
       "      <td>82</td>\n",
       "      <td>34</td>\n",
       "      <td>14</td>\n",
       "      <td>69</td>\n",
       "    </tr>\n",
       "    <tr>\n",
       "      <th>time_in_bed</th>\n",
       "      <td>6</td>\n",
       "      <td>7</td>\n",
       "      <td>4</td>\n",
       "      <td>0</td>\n",
       "      <td>4</td>\n",
       "      <td>1</td>\n",
       "      <td>2</td>\n",
       "      <td>8</td>\n",
       "      <td>7</td>\n",
       "      <td>3</td>\n",
       "      <td>...</td>\n",
       "      <td>4</td>\n",
       "      <td>5</td>\n",
       "      <td>6</td>\n",
       "      <td>2</td>\n",
       "      <td>3</td>\n",
       "      <td>3</td>\n",
       "      <td>4</td>\n",
       "      <td>7</td>\n",
       "      <td>1</td>\n",
       "      <td>3</td>\n",
       "    </tr>\n",
       "    <tr>\n",
       "      <th>pct_sleeping</th>\n",
       "      <td>9671</td>\n",
       "      <td>9671</td>\n",
       "      <td>9671</td>\n",
       "      <td>9671</td>\n",
       "      <td>9671</td>\n",
       "      <td>9671</td>\n",
       "      <td>9671</td>\n",
       "      <td>9671</td>\n",
       "      <td>9671</td>\n",
       "      <td>9671</td>\n",
       "      <td>...</td>\n",
       "      <td>9671</td>\n",
       "      <td>9671</td>\n",
       "      <td>9671</td>\n",
       "      <td>9671</td>\n",
       "      <td>9671</td>\n",
       "      <td>9671</td>\n",
       "      <td>9671</td>\n",
       "      <td>9671</td>\n",
       "      <td>9671</td>\n",
       "      <td>9671</td>\n",
       "    </tr>\n",
       "    <tr>\n",
       "      <th>favorite_food</th>\n",
       "      <td>rice</td>\n",
       "      <td>pizza</td>\n",
       "      <td>burger</td>\n",
       "      <td>burger</td>\n",
       "      <td>pizza</td>\n",
       "      <td>rice</td>\n",
       "      <td>pizza</td>\n",
       "      <td>pizza</td>\n",
       "      <td>pizza</td>\n",
       "      <td>ice-cream</td>\n",
       "      <td>...</td>\n",
       "      <td>rice</td>\n",
       "      <td>burger</td>\n",
       "      <td>burger</td>\n",
       "      <td>ice-cream</td>\n",
       "      <td>pizza</td>\n",
       "      <td>rice</td>\n",
       "      <td>rice</td>\n",
       "      <td>ice-cream</td>\n",
       "      <td>pizza</td>\n",
       "      <td>ice-cream</td>\n",
       "    </tr>\n",
       "    <tr>\n",
       "      <th>hate_food</th>\n",
       "      <td>vegetables</td>\n",
       "      <td>vegetables</td>\n",
       "      <td>vegetables</td>\n",
       "      <td>vegetables</td>\n",
       "      <td>vegetables</td>\n",
       "      <td>vegetables</td>\n",
       "      <td>vegetables</td>\n",
       "      <td>vegetables</td>\n",
       "      <td>vegetables</td>\n",
       "      <td>vegetables</td>\n",
       "      <td>...</td>\n",
       "      <td>vegetables</td>\n",
       "      <td>vegetables</td>\n",
       "      <td>vegetables</td>\n",
       "      <td>vegetables</td>\n",
       "      <td>vegetables</td>\n",
       "      <td>vegetables</td>\n",
       "      <td>vegetables</td>\n",
       "      <td>vegetables</td>\n",
       "      <td>vegetables</td>\n",
       "      <td>vegetables</td>\n",
       "    </tr>\n",
       "  </tbody>\n",
       "</table>\n",
       "<p>5 rows × 10000 columns</p>\n",
       "</div>"
      ],
      "text/plain": [
       "                     0           1           2           3           4     \\\n",
       "age                    87          46          63          53          36   \n",
       "time_in_bed             6           7           4           0           4   \n",
       "pct_sleeping         9671        9671        9671        9671        9671   \n",
       "favorite_food        rice       pizza      burger      burger       pizza   \n",
       "hate_food      vegetables  vegetables  vegetables  vegetables  vegetables   \n",
       "\n",
       "                     5           6           7           8           9     \\\n",
       "age                    19          28          22          11          83   \n",
       "time_in_bed             1           2           8           7           3   \n",
       "pct_sleeping         9671        9671        9671        9671        9671   \n",
       "favorite_food        rice       pizza       pizza       pizza   ice-cream   \n",
       "hate_food      vegetables  vegetables  vegetables  vegetables  vegetables   \n",
       "\n",
       "               ...        9990        9991        9992        9993  \\\n",
       "age            ...          27           8          26          36   \n",
       "time_in_bed    ...           4           5           6           2   \n",
       "pct_sleeping   ...        9671        9671        9671        9671   \n",
       "favorite_food  ...        rice      burger      burger   ice-cream   \n",
       "hate_food      ...  vegetables  vegetables  vegetables  vegetables   \n",
       "\n",
       "                     9994        9995        9996        9997        9998  \\\n",
       "age                    83          12          82          34          14   \n",
       "time_in_bed             3           3           4           7           1   \n",
       "pct_sleeping         9671        9671        9671        9671        9671   \n",
       "favorite_food       pizza        rice        rice   ice-cream       pizza   \n",
       "hate_food      vegetables  vegetables  vegetables  vegetables  vegetables   \n",
       "\n",
       "                     9999  \n",
       "age                    69  \n",
       "time_in_bed             3  \n",
       "pct_sleeping         9671  \n",
       "favorite_food   ice-cream  \n",
       "hate_food      vegetables  \n",
       "\n",
       "[5 rows x 10000 columns]"
      ]
     },
     "execution_count": 174,
     "metadata": {},
     "output_type": "execute_result"
    }
   ],
   "source": [
    "df_transposed = df.T\n",
    "df_transposed.head()"
   ]
  },
  {
   "cell_type": "markdown",
   "id": "4b782370-bfae-4c5b-ab35-05049d611571",
   "metadata": {},
   "source": [
    "14. df.merge()\n",
    "\n",
    "df.merge() is a pandas function that allows you to combine two DataFrames based on one or more common columns. It is similar to SQL JOINs. The function returns a new DataFrame that contains only the rows where the values in the specified columns match between the two DataFrames.\n"
   ]
  },
  {
   "cell_type": "code",
   "execution_count": 175,
   "id": "e0528eec-5ea6-425e-b022-6c1d8b392433",
   "metadata": {},
   "outputs": [
    {
     "name": "stdout",
     "output_type": "stream",
     "text": [
      "  key  value_x  value_y\n",
      "0   B        2        5\n",
      "1   D        4        6\n"
     ]
    }
   ],
   "source": [
    "# Create the first DataFrame\n",
    "df1 = pd.DataFrame({'key': ['A', 'B', 'C', 'D'],\n",
    "                   'value': [1, 2, 3, 4]})\n",
    "\n",
    "# Create the second DataFrame\n",
    "df2 = pd.DataFrame({'key': ['B', 'D', 'E', 'F'],\n",
    "                   'value': [5, 6, 7, 8]})\n",
    "\n",
    "# Merge the two DataFrames on the 'key' column\n",
    "merged_df = df1.merge(df2, on='key')\n",
    "\n",
    "# Print the merged DataFrame\n",
    "print(merged_df)"
   ]
  },
  {
   "cell_type": "markdown",
   "id": "09c0c076-e46e-48a9-8993-fa71b742f777",
   "metadata": {},
   "source": [
    "15. def.rename()\n",
    "\n",
    "df.rename() is a pandas function that allows you to change the name of one or more columns or rows in a DataFrame. You can use the columns parameter to change the column names, and the index parameter to change the row names."
   ]
  },
  {
   "cell_type": "code",
   "execution_count": 176,
   "id": "7dea4b66-88ad-42d9-871f-52a079302b08",
   "metadata": {},
   "outputs": [
    {
     "data": {
      "text/html": [
       "<div>\n",
       "<style scoped>\n",
       "    .dataframe tbody tr th:only-of-type {\n",
       "        vertical-align: middle;\n",
       "    }\n",
       "\n",
       "    .dataframe tbody tr th {\n",
       "        vertical-align: top;\n",
       "    }\n",
       "\n",
       "    .dataframe thead th {\n",
       "        text-align: right;\n",
       "    }\n",
       "</style>\n",
       "<table border=\"1\" class=\"dataframe\">\n",
       "  <thead>\n",
       "    <tr style=\"text-align: right;\">\n",
       "      <th></th>\n",
       "      <th>age</th>\n",
       "      <th>time_in_bed</th>\n",
       "      <th>pct_sleeping</th>\n",
       "      <th>favorite</th>\n",
       "      <th>hate</th>\n",
       "    </tr>\n",
       "  </thead>\n",
       "  <tbody>\n",
       "    <tr>\n",
       "      <th>0</th>\n",
       "      <td>87</td>\n",
       "      <td>6</td>\n",
       "      <td>9671</td>\n",
       "      <td>rice</td>\n",
       "      <td>vegetables</td>\n",
       "    </tr>\n",
       "    <tr>\n",
       "      <th>1</th>\n",
       "      <td>46</td>\n",
       "      <td>7</td>\n",
       "      <td>9671</td>\n",
       "      <td>pizza</td>\n",
       "      <td>vegetables</td>\n",
       "    </tr>\n",
       "    <tr>\n",
       "      <th>2</th>\n",
       "      <td>63</td>\n",
       "      <td>4</td>\n",
       "      <td>9671</td>\n",
       "      <td>burger</td>\n",
       "      <td>vegetables</td>\n",
       "    </tr>\n",
       "    <tr>\n",
       "      <th>3</th>\n",
       "      <td>53</td>\n",
       "      <td>0</td>\n",
       "      <td>9671</td>\n",
       "      <td>burger</td>\n",
       "      <td>vegetables</td>\n",
       "    </tr>\n",
       "    <tr>\n",
       "      <th>4</th>\n",
       "      <td>36</td>\n",
       "      <td>4</td>\n",
       "      <td>9671</td>\n",
       "      <td>pizza</td>\n",
       "      <td>vegetables</td>\n",
       "    </tr>\n",
       "  </tbody>\n",
       "</table>\n",
       "</div>"
      ],
      "text/plain": [
       "   age  time_in_bed  pct_sleeping favorite        hate\n",
       "0   87            6          9671     rice  vegetables\n",
       "1   46            7          9671    pizza  vegetables\n",
       "2   63            4          9671   burger  vegetables\n",
       "3   53            0          9671   burger  vegetables\n",
       "4   36            4          9671    pizza  vegetables"
      ]
     },
     "execution_count": 176,
     "metadata": {},
     "output_type": "execute_result"
    }
   ],
   "source": [
    "df_rename = df.rename(columns={'favorite_food': 'favorite', 'hate_food':'hate'})\n",
    "df_rename.head()"
   ]
  },
  {
   "cell_type": "code",
   "execution_count": 177,
   "id": "b7f92155-1012-4072-b1d2-84e2c9e1cd17",
   "metadata": {},
   "outputs": [
    {
     "data": {
      "text/html": [
       "<div>\n",
       "<style scoped>\n",
       "    .dataframe tbody tr th:only-of-type {\n",
       "        vertical-align: middle;\n",
       "    }\n",
       "\n",
       "    .dataframe tbody tr th {\n",
       "        vertical-align: top;\n",
       "    }\n",
       "\n",
       "    .dataframe thead th {\n",
       "        text-align: right;\n",
       "    }\n",
       "</style>\n",
       "<table border=\"1\" class=\"dataframe\">\n",
       "  <thead>\n",
       "    <tr style=\"text-align: right;\">\n",
       "      <th></th>\n",
       "      <th>age</th>\n",
       "      <th>time_in_bed</th>\n",
       "      <th>pct_sleeping</th>\n",
       "      <th>favorite_food</th>\n",
       "      <th>hate_food</th>\n",
       "    </tr>\n",
       "  </thead>\n",
       "  <tbody>\n",
       "    <tr>\n",
       "      <th>0</th>\n",
       "      <td>87</td>\n",
       "      <td>6</td>\n",
       "      <td>9671</td>\n",
       "      <td>rice</td>\n",
       "      <td>vegetables</td>\n",
       "    </tr>\n",
       "    <tr>\n",
       "      <th>1</th>\n",
       "      <td>46</td>\n",
       "      <td>7</td>\n",
       "      <td>9671</td>\n",
       "      <td>pizza</td>\n",
       "      <td>vegetables</td>\n",
       "    </tr>\n",
       "    <tr>\n",
       "      <th>2</th>\n",
       "      <td>63</td>\n",
       "      <td>4</td>\n",
       "      <td>9671</td>\n",
       "      <td>burger</td>\n",
       "      <td>vegetables</td>\n",
       "    </tr>\n",
       "    <tr>\n",
       "      <th>Favorite</th>\n",
       "      <td>53</td>\n",
       "      <td>0</td>\n",
       "      <td>9671</td>\n",
       "      <td>burger</td>\n",
       "      <td>vegetables</td>\n",
       "    </tr>\n",
       "    <tr>\n",
       "      <th>Hate</th>\n",
       "      <td>36</td>\n",
       "      <td>4</td>\n",
       "      <td>9671</td>\n",
       "      <td>pizza</td>\n",
       "      <td>vegetables</td>\n",
       "    </tr>\n",
       "  </tbody>\n",
       "</table>\n",
       "</div>"
      ],
      "text/plain": [
       "          age  time_in_bed  pct_sleeping favorite_food   hate_food\n",
       "0          87            6          9671          rice  vegetables\n",
       "1          46            7          9671         pizza  vegetables\n",
       "2          63            4          9671        burger  vegetables\n",
       "Favorite   53            0          9671        burger  vegetables\n",
       "Hate       36            4          9671         pizza  vegetables"
      ]
     },
     "execution_count": 177,
     "metadata": {},
     "output_type": "execute_result"
    }
   ],
   "source": [
    "df_rename = df.rename(index={3:'Favorite',4:'Hate'}) ## renmae index\n",
    "df_rename.head()"
   ]
  },
  {
   "cell_type": "markdown",
   "id": "240c5f75-d203-417e-862e-a5c7db545719",
   "metadata": {},
   "source": [
    "## **Top 10 pandas mistake to avoid:**\n",
    "\n",
    "1. Having Column Names with Spaces ( you xcan't access df.Sales Amount. Instead, you have to access df['Sales Amount']\n",
    "2. Not Using Query Method for Filtering "
   ]
  },
  {
   "cell_type": "code",
   "execution_count": 181,
   "id": "66101c09-e38d-49aa-9968-7f391e134a9f",
   "metadata": {},
   "outputs": [
    {
     "data": {
      "text/html": [
       "<div>\n",
       "<style scoped>\n",
       "    .dataframe tbody tr th:only-of-type {\n",
       "        vertical-align: middle;\n",
       "    }\n",
       "\n",
       "    .dataframe tbody tr th {\n",
       "        vertical-align: top;\n",
       "    }\n",
       "\n",
       "    .dataframe thead th {\n",
       "        text-align: right;\n",
       "    }\n",
       "</style>\n",
       "<table border=\"1\" class=\"dataframe\">\n",
       "  <thead>\n",
       "    <tr style=\"text-align: right;\">\n",
       "      <th></th>\n",
       "      <th>age</th>\n",
       "      <th>time_in_bed</th>\n",
       "      <th>pct_sleeping</th>\n",
       "      <th>favorite_food</th>\n",
       "      <th>hate_food</th>\n",
       "    </tr>\n",
       "  </thead>\n",
       "  <tbody>\n",
       "    <tr>\n",
       "      <th>7</th>\n",
       "      <td>22</td>\n",
       "      <td>8</td>\n",
       "      <td>9671</td>\n",
       "      <td>pizza</td>\n",
       "      <td>vegetables</td>\n",
       "    </tr>\n",
       "    <tr>\n",
       "      <th>11</th>\n",
       "      <td>18</td>\n",
       "      <td>8</td>\n",
       "      <td>9671</td>\n",
       "      <td>rice</td>\n",
       "      <td>vegetables</td>\n",
       "    </tr>\n",
       "    <tr>\n",
       "      <th>33</th>\n",
       "      <td>13</td>\n",
       "      <td>8</td>\n",
       "      <td>9671</td>\n",
       "      <td>pizza</td>\n",
       "      <td>vegetables</td>\n",
       "    </tr>\n",
       "    <tr>\n",
       "      <th>34</th>\n",
       "      <td>50</td>\n",
       "      <td>8</td>\n",
       "      <td>9671</td>\n",
       "      <td>rice</td>\n",
       "      <td>vegetables</td>\n",
       "    </tr>\n",
       "    <tr>\n",
       "      <th>37</th>\n",
       "      <td>46</td>\n",
       "      <td>8</td>\n",
       "      <td>9671</td>\n",
       "      <td>pizza</td>\n",
       "      <td>vegetables</td>\n",
       "    </tr>\n",
       "    <tr>\n",
       "      <th>...</th>\n",
       "      <td>...</td>\n",
       "      <td>...</td>\n",
       "      <td>...</td>\n",
       "      <td>...</td>\n",
       "      <td>...</td>\n",
       "    </tr>\n",
       "    <tr>\n",
       "      <th>9959</th>\n",
       "      <td>87</td>\n",
       "      <td>8</td>\n",
       "      <td>9671</td>\n",
       "      <td>ice-cream</td>\n",
       "      <td>vegetables</td>\n",
       "    </tr>\n",
       "    <tr>\n",
       "      <th>9982</th>\n",
       "      <td>52</td>\n",
       "      <td>8</td>\n",
       "      <td>9671</td>\n",
       "      <td>ice-cream</td>\n",
       "      <td>vegetables</td>\n",
       "    </tr>\n",
       "    <tr>\n",
       "      <th>9983</th>\n",
       "      <td>1</td>\n",
       "      <td>8</td>\n",
       "      <td>9671</td>\n",
       "      <td>burger</td>\n",
       "      <td>vegetables</td>\n",
       "    </tr>\n",
       "    <tr>\n",
       "      <th>9986</th>\n",
       "      <td>79</td>\n",
       "      <td>8</td>\n",
       "      <td>9671</td>\n",
       "      <td>rice</td>\n",
       "      <td>vegetables</td>\n",
       "    </tr>\n",
       "    <tr>\n",
       "      <th>9987</th>\n",
       "      <td>81</td>\n",
       "      <td>8</td>\n",
       "      <td>9671</td>\n",
       "      <td>ice-cream</td>\n",
       "      <td>vegetables</td>\n",
       "    </tr>\n",
       "  </tbody>\n",
       "</table>\n",
       "<p>1144 rows × 5 columns</p>\n",
       "</div>"
      ],
      "text/plain": [
       "      age  time_in_bed  pct_sleeping favorite_food   hate_food\n",
       "7      22            8          9671         pizza  vegetables\n",
       "11     18            8          9671          rice  vegetables\n",
       "33     13            8          9671         pizza  vegetables\n",
       "34     50            8          9671          rice  vegetables\n",
       "37     46            8          9671         pizza  vegetables\n",
       "...   ...          ...           ...           ...         ...\n",
       "9959   87            8          9671     ice-cream  vegetables\n",
       "9982   52            8          9671     ice-cream  vegetables\n",
       "9983    1            8          9671        burger  vegetables\n",
       "9986   79            8          9671          rice  vegetables\n",
       "9987   81            8          9671     ice-cream  vegetables\n",
       "\n",
       "[1144 rows x 5 columns]"
      ]
     },
     "execution_count": 181,
     "metadata": {},
     "output_type": "execute_result"
    }
   ],
   "source": [
    "df.query('time_in_bed>7')"
   ]
  },
  {
   "cell_type": "markdown",
   "id": "f1607fc6-3e04-4a69-b920-f2309bb0737b",
   "metadata": {},
   "source": [
    "3. Not using @ Symbol when writing complex code:"
   ]
  },
  {
   "cell_type": "code",
   "execution_count": 182,
   "id": "0ca179e6-93b6-435d-b71a-8fce58e5461d",
   "metadata": {},
   "outputs": [
    {
     "data": {
      "text/html": [
       "<div>\n",
       "<style scoped>\n",
       "    .dataframe tbody tr th:only-of-type {\n",
       "        vertical-align: middle;\n",
       "    }\n",
       "\n",
       "    .dataframe tbody tr th {\n",
       "        vertical-align: top;\n",
       "    }\n",
       "\n",
       "    .dataframe thead th {\n",
       "        text-align: right;\n",
       "    }\n",
       "</style>\n",
       "<table border=\"1\" class=\"dataframe\">\n",
       "  <thead>\n",
       "    <tr style=\"text-align: right;\">\n",
       "      <th></th>\n",
       "      <th>age</th>\n",
       "      <th>time_in_bed</th>\n",
       "      <th>pct_sleeping</th>\n",
       "      <th>favorite_food</th>\n",
       "      <th>hate_food</th>\n",
       "    </tr>\n",
       "  </thead>\n",
       "  <tbody>\n",
       "    <tr>\n",
       "      <th>0</th>\n",
       "      <td>87</td>\n",
       "      <td>6</td>\n",
       "      <td>9671</td>\n",
       "      <td>rice</td>\n",
       "      <td>vegetables</td>\n",
       "    </tr>\n",
       "    <tr>\n",
       "      <th>1</th>\n",
       "      <td>46</td>\n",
       "      <td>7</td>\n",
       "      <td>9671</td>\n",
       "      <td>pizza</td>\n",
       "      <td>vegetables</td>\n",
       "    </tr>\n",
       "    <tr>\n",
       "      <th>2</th>\n",
       "      <td>63</td>\n",
       "      <td>4</td>\n",
       "      <td>9671</td>\n",
       "      <td>burger</td>\n",
       "      <td>vegetables</td>\n",
       "    </tr>\n",
       "  </tbody>\n",
       "</table>\n",
       "</div>"
      ],
      "text/plain": [
       "   age  time_in_bed  pct_sleeping favorite_food   hate_food\n",
       "0   87            6          9671          rice  vegetables\n",
       "1   46            7          9671         pizza  vegetables\n",
       "2   63            4          9671        burger  vegetables"
      ]
     },
     "execution_count": 182,
     "metadata": {},
     "output_type": "execute_result"
    }
   ],
   "source": [
    "df.head(3)"
   ]
  },
  {
   "cell_type": "code",
   "execution_count": 183,
   "id": "f74a3601-5fa7-424e-8dd3-829165c7a4a7",
   "metadata": {},
   "outputs": [
    {
     "data": {
      "text/html": [
       "<div>\n",
       "<style scoped>\n",
       "    .dataframe tbody tr th:only-of-type {\n",
       "        vertical-align: middle;\n",
       "    }\n",
       "\n",
       "    .dataframe tbody tr th {\n",
       "        vertical-align: top;\n",
       "    }\n",
       "\n",
       "    .dataframe thead th {\n",
       "        text-align: right;\n",
       "    }\n",
       "</style>\n",
       "<table border=\"1\" class=\"dataframe\">\n",
       "  <thead>\n",
       "    <tr style=\"text-align: right;\">\n",
       "      <th></th>\n",
       "      <th>age</th>\n",
       "      <th>time_in_bed</th>\n",
       "      <th>pct_sleeping</th>\n",
       "      <th>favorite_food</th>\n",
       "      <th>hate_food</th>\n",
       "    </tr>\n",
       "  </thead>\n",
       "  <tbody>\n",
       "    <tr>\n",
       "      <th>1</th>\n",
       "      <td>46</td>\n",
       "      <td>7</td>\n",
       "      <td>9671</td>\n",
       "      <td>pizza</td>\n",
       "      <td>vegetables</td>\n",
       "    </tr>\n",
       "    <tr>\n",
       "      <th>4</th>\n",
       "      <td>36</td>\n",
       "      <td>4</td>\n",
       "      <td>9671</td>\n",
       "      <td>pizza</td>\n",
       "      <td>vegetables</td>\n",
       "    </tr>\n",
       "    <tr>\n",
       "      <th>6</th>\n",
       "      <td>28</td>\n",
       "      <td>2</td>\n",
       "      <td>9671</td>\n",
       "      <td>pizza</td>\n",
       "      <td>vegetables</td>\n",
       "    </tr>\n",
       "    <tr>\n",
       "      <th>7</th>\n",
       "      <td>22</td>\n",
       "      <td>8</td>\n",
       "      <td>9671</td>\n",
       "      <td>pizza</td>\n",
       "      <td>vegetables</td>\n",
       "    </tr>\n",
       "    <tr>\n",
       "      <th>8</th>\n",
       "      <td>11</td>\n",
       "      <td>7</td>\n",
       "      <td>9671</td>\n",
       "      <td>pizza</td>\n",
       "      <td>vegetables</td>\n",
       "    </tr>\n",
       "    <tr>\n",
       "      <th>...</th>\n",
       "      <td>...</td>\n",
       "      <td>...</td>\n",
       "      <td>...</td>\n",
       "      <td>...</td>\n",
       "      <td>...</td>\n",
       "    </tr>\n",
       "    <tr>\n",
       "      <th>9942</th>\n",
       "      <td>49</td>\n",
       "      <td>6</td>\n",
       "      <td>9671</td>\n",
       "      <td>pizza</td>\n",
       "      <td>vegetables</td>\n",
       "    </tr>\n",
       "    <tr>\n",
       "      <th>9964</th>\n",
       "      <td>75</td>\n",
       "      <td>6</td>\n",
       "      <td>9671</td>\n",
       "      <td>pizza</td>\n",
       "      <td>vegetables</td>\n",
       "    </tr>\n",
       "    <tr>\n",
       "      <th>9984</th>\n",
       "      <td>26</td>\n",
       "      <td>2</td>\n",
       "      <td>9671</td>\n",
       "      <td>pizza</td>\n",
       "      <td>vegetables</td>\n",
       "    </tr>\n",
       "    <tr>\n",
       "      <th>9994</th>\n",
       "      <td>83</td>\n",
       "      <td>3</td>\n",
       "      <td>9671</td>\n",
       "      <td>pizza</td>\n",
       "      <td>vegetables</td>\n",
       "    </tr>\n",
       "    <tr>\n",
       "      <th>9998</th>\n",
       "      <td>14</td>\n",
       "      <td>1</td>\n",
       "      <td>9671</td>\n",
       "      <td>pizza</td>\n",
       "      <td>vegetables</td>\n",
       "    </tr>\n",
       "  </tbody>\n",
       "</table>\n",
       "<p>2446 rows × 5 columns</p>\n",
       "</div>"
      ],
      "text/plain": [
       "      age  time_in_bed  pct_sleeping favorite_food   hate_food\n",
       "1      46            7          9671         pizza  vegetables\n",
       "4      36            4          9671         pizza  vegetables\n",
       "6      28            2          9671         pizza  vegetables\n",
       "7      22            8          9671         pizza  vegetables\n",
       "8      11            7          9671         pizza  vegetables\n",
       "...   ...          ...           ...           ...         ...\n",
       "9942   49            6          9671         pizza  vegetables\n",
       "9964   75            6          9671         pizza  vegetables\n",
       "9984   26            2          9671         pizza  vegetables\n",
       "9994   83            3          9671         pizza  vegetables\n",
       "9998   14            1          9671         pizza  vegetables\n",
       "\n",
       "[2446 rows x 5 columns]"
      ]
     },
     "execution_count": 183,
     "metadata": {},
     "output_type": "execute_result"
    }
   ],
   "source": [
    "favorite_food='pizza'\n",
    "hate_food='vegetables'\n",
    "df.query('favorite_food==@favorite_food and hate_food==@hate_food')"
   ]
  },
  {
   "cell_type": "markdown",
   "id": "6b8950f8-18a1-47cf-8be9-e3e8b35309f7",
   "metadata": {},
   "source": [
    "4. Iteration over dataframe instead of using vectorization:"
   ]
  },
  {
   "cell_type": "code",
   "execution_count": 184,
   "id": "fda29887-75bc-4ae2-88b3-07691dfe11ac",
   "metadata": {},
   "outputs": [],
   "source": [
    "for index,row in df.iterrows():\n",
    "    df.loc[index,'z']=row['time_in_bed']*row['pct_sleeping']"
   ]
  },
  {
   "cell_type": "code",
   "execution_count": 185,
   "id": "eb12fbf6-ab73-4a33-bf80-a2f8a26be88f",
   "metadata": {},
   "outputs": [
    {
     "data": {
      "text/html": [
       "<div>\n",
       "<style scoped>\n",
       "    .dataframe tbody tr th:only-of-type {\n",
       "        vertical-align: middle;\n",
       "    }\n",
       "\n",
       "    .dataframe tbody tr th {\n",
       "        vertical-align: top;\n",
       "    }\n",
       "\n",
       "    .dataframe thead th {\n",
       "        text-align: right;\n",
       "    }\n",
       "</style>\n",
       "<table border=\"1\" class=\"dataframe\">\n",
       "  <thead>\n",
       "    <tr style=\"text-align: right;\">\n",
       "      <th></th>\n",
       "      <th>age</th>\n",
       "      <th>time_in_bed</th>\n",
       "      <th>pct_sleeping</th>\n",
       "      <th>favorite_food</th>\n",
       "      <th>hate_food</th>\n",
       "      <th>z</th>\n",
       "    </tr>\n",
       "  </thead>\n",
       "  <tbody>\n",
       "    <tr>\n",
       "      <th>0</th>\n",
       "      <td>87</td>\n",
       "      <td>6</td>\n",
       "      <td>9671</td>\n",
       "      <td>rice</td>\n",
       "      <td>vegetables</td>\n",
       "      <td>58026.0</td>\n",
       "    </tr>\n",
       "    <tr>\n",
       "      <th>1</th>\n",
       "      <td>46</td>\n",
       "      <td>7</td>\n",
       "      <td>9671</td>\n",
       "      <td>pizza</td>\n",
       "      <td>vegetables</td>\n",
       "      <td>67697.0</td>\n",
       "    </tr>\n",
       "    <tr>\n",
       "      <th>2</th>\n",
       "      <td>63</td>\n",
       "      <td>4</td>\n",
       "      <td>9671</td>\n",
       "      <td>burger</td>\n",
       "      <td>vegetables</td>\n",
       "      <td>38684.0</td>\n",
       "    </tr>\n",
       "  </tbody>\n",
       "</table>\n",
       "</div>"
      ],
      "text/plain": [
       "   age  time_in_bed  pct_sleeping favorite_food   hate_food        z\n",
       "0   87            6          9671          rice  vegetables  58026.0\n",
       "1   46            7          9671         pizza  vegetables  67697.0\n",
       "2   63            4          9671        burger  vegetables  38684.0"
      ]
     },
     "execution_count": 185,
     "metadata": {},
     "output_type": "execute_result"
    }
   ],
   "source": [
    "df.head(3)"
   ]
  },
  {
   "cell_type": "code",
   "execution_count": 187,
   "id": "3f61e68e-e28e-481b-ab34-5c1d885a3d04",
   "metadata": {},
   "outputs": [
    {
     "data": {
      "text/html": [
       "<div>\n",
       "<style scoped>\n",
       "    .dataframe tbody tr th:only-of-type {\n",
       "        vertical-align: middle;\n",
       "    }\n",
       "\n",
       "    .dataframe tbody tr th {\n",
       "        vertical-align: top;\n",
       "    }\n",
       "\n",
       "    .dataframe thead th {\n",
       "        text-align: right;\n",
       "    }\n",
       "</style>\n",
       "<table border=\"1\" class=\"dataframe\">\n",
       "  <thead>\n",
       "    <tr style=\"text-align: right;\">\n",
       "      <th></th>\n",
       "      <th>age</th>\n",
       "      <th>time_in_bed</th>\n",
       "      <th>pct_sleeping</th>\n",
       "      <th>favorite_food</th>\n",
       "      <th>hate_food</th>\n",
       "      <th>z</th>\n",
       "      <th>z_1</th>\n",
       "    </tr>\n",
       "  </thead>\n",
       "  <tbody>\n",
       "    <tr>\n",
       "      <th>0</th>\n",
       "      <td>87</td>\n",
       "      <td>6</td>\n",
       "      <td>9671</td>\n",
       "      <td>rice</td>\n",
       "      <td>vegetables</td>\n",
       "      <td>58026.0</td>\n",
       "      <td>58026</td>\n",
       "    </tr>\n",
       "    <tr>\n",
       "      <th>1</th>\n",
       "      <td>46</td>\n",
       "      <td>7</td>\n",
       "      <td>9671</td>\n",
       "      <td>pizza</td>\n",
       "      <td>vegetables</td>\n",
       "      <td>67697.0</td>\n",
       "      <td>67697</td>\n",
       "    </tr>\n",
       "    <tr>\n",
       "      <th>2</th>\n",
       "      <td>63</td>\n",
       "      <td>4</td>\n",
       "      <td>9671</td>\n",
       "      <td>burger</td>\n",
       "      <td>vegetables</td>\n",
       "      <td>38684.0</td>\n",
       "      <td>38684</td>\n",
       "    </tr>\n",
       "  </tbody>\n",
       "</table>\n",
       "</div>"
      ],
      "text/plain": [
       "   age  time_in_bed  pct_sleeping favorite_food   hate_food        z    z_1\n",
       "0   87            6          9671          rice  vegetables  58026.0  58026\n",
       "1   46            7          9671         pizza  vegetables  67697.0  67697\n",
       "2   63            4          9671        burger  vegetables  38684.0  38684"
      ]
     },
     "execution_count": 187,
     "metadata": {},
     "output_type": "execute_result"
    }
   ],
   "source": [
    "## Instead use vectorization\n",
    "df['z_1']=df['time_in_bed']*df['pct_sleeping']\n",
    "df.head(3)"
   ]
  },
  {
   "cell_type": "markdown",
   "id": "6857e8d4-3140-43bf-aebf-56bb191d134f",
   "metadata": {},
   "source": [
    "5. Treating slices of dtaaframe as new dataframe (Use copy to not cause a change to the prigional dataframe).\n",
    "6. Not using chain commands for multiple transformations"
   ]
  },
  {
   "cell_type": "code",
   "execution_count": 190,
   "id": "296e1bb8-4d8f-4966-b686-e17e8082e598",
   "metadata": {},
   "outputs": [
    {
     "data": {
      "text/html": [
       "<div>\n",
       "<style scoped>\n",
       "    .dataframe tbody tr th:only-of-type {\n",
       "        vertical-align: middle;\n",
       "    }\n",
       "\n",
       "    .dataframe tbody tr th {\n",
       "        vertical-align: top;\n",
       "    }\n",
       "\n",
       "    .dataframe thead th {\n",
       "        text-align: right;\n",
       "    }\n",
       "</style>\n",
       "<table border=\"1\" class=\"dataframe\">\n",
       "  <thead>\n",
       "    <tr style=\"text-align: right;\">\n",
       "      <th></th>\n",
       "      <th>name</th>\n",
       "      <th>gender</th>\n",
       "      <th>age_plus_5</th>\n",
       "    </tr>\n",
       "  </thead>\n",
       "  <tbody>\n",
       "    <tr>\n",
       "      <th>0</th>\n",
       "      <td>Alice</td>\n",
       "      <td>F</td>\n",
       "      <td>30</td>\n",
       "    </tr>\n",
       "    <tr>\n",
       "      <th>1</th>\n",
       "      <td>Bob</td>\n",
       "      <td>M</td>\n",
       "      <td>37</td>\n",
       "    </tr>\n",
       "    <tr>\n",
       "      <th>3</th>\n",
       "      <td>David</td>\n",
       "      <td>M</td>\n",
       "      <td>52</td>\n",
       "    </tr>\n",
       "    <tr>\n",
       "      <th>4</th>\n",
       "      <td>Emily</td>\n",
       "      <td>F</td>\n",
       "      <td>34</td>\n",
       "    </tr>\n",
       "  </tbody>\n",
       "</table>\n",
       "</div>"
      ],
      "text/plain": [
       "    name gender  age_plus_5\n",
       "0  Alice      F          30\n",
       "1    Bob      M          37\n",
       "3  David      M          52\n",
       "4  Emily      F          34"
      ]
     },
     "execution_count": 190,
     "metadata": {},
     "output_type": "execute_result"
    }
   ],
   "source": [
    "import pandas as pd\n",
    "\n",
    "# Create a sample DataFrame\n",
    "data = {'name': ['Alice', 'Bob', 'Charlie', 'David', 'Emily'],\n",
    "    'age': [25, 32, 18, 47, 29],\n",
    "    'gender': ['F', 'M', 'M', 'M', 'F']}\n",
    "df = pd.DataFrame(data)\n",
    "new_df=df.loc[df['age']>23,['name','gender']].copy().assign(age_plus_5=df.age+5)\n",
    "new_df"
   ]
  },
  {
   "cell_type": "markdown",
   "id": "c07a131d-e41c-4d92-b8ad-da30b8499f23",
   "metadata": {},
   "source": [
    "7. Not setting column dtypes correctly:\n",
    "   \n",
    "Set column dtype correctly because of the following reasons:\n",
    "- Memory Usage: set ciorrect dtype reduce the memory usage. This is especially important when working with large datasets, as it can help avoid running out of memory and crashing your program.\n",
    "- Data Consistency: Setting column dtypes can help ensure that your data is consistent and accurate.\n",
    "- Performance:  Pandas operations can be much faster when the dtypes are set correctly. For example, operations like sorting and filtering can be optimized when Pandas knows the data types of the columns being operated on.\n",
    "\n",
    "8. Not using pandas builtin plotting functions: "
   ]
  },
  {
   "cell_type": "code",
   "execution_count": 191,
   "id": "45ecfc74-65b4-451f-a3d8-c12a2836bfa2",
   "metadata": {},
   "outputs": [
    {
     "data": {
      "image/png": "[encoded data removed]",
      "text/plain": [
       "<Figure size 640x480 with 1 Axes>"
      ]
     },
     "metadata": {},
     "output_type": "display_data"
    }
   ],
   "source": [
    "import matplotlib.pyplot as plt\n",
    "\n",
    "df = pd.DataFrame(np.random.randn(100, 4), columns=list('ABCD'))\n",
    "\n",
    "df['A'].plot(kind='line',color='red',title='LinePlot')\n",
    "plt.xlabel('Index')\n",
    "plt.ylabel('Value')\n",
    "plt.show()"
   ]
  },
  {
   "cell_type": "code",
   "execution_count": 192,
   "id": "280f1df9-e857-448b-b331-3e811003d07e",
   "metadata": {},
   "outputs": [
    {
     "data": {
      "text/plain": [
       "<Axes: title={'center': 'Scatter Plot'}, xlabel='A', ylabel='B'>"
      ]
     },
     "execution_count": 192,
     "metadata": {},
     "output_type": "execute_result"
    },
    {
     "data": {
      "image/png": "[encoded data removed]",
      "text/plain": [
       "<Figure size 640x480 with 1 Axes>"
      ]
     },
     "metadata": {},
     "output_type": "display_data"
    }
   ],
   "source": [
    "df.plot(kind='scatter', x='A', y='B', color='blue', title='Scatter Plot')"
   ]
  },
  {
   "cell_type": "code",
   "execution_count": 193,
   "id": "3cb3219e-31d6-40b8-82c3-e71f3f6f3537",
   "metadata": {},
   "outputs": [
    {
     "data": {
      "text/plain": [
       "<Axes: title={'center': 'Bar Plot'}>"
      ]
     },
     "execution_count": 193,
     "metadata": {},
     "output_type": "execute_result"
    },
    {
     "data": {
      "image/png": "[encoded data removed]",
      "text/plain": [
       "<Figure size 640x480 with 1 Axes>"
      ]
     },
     "metadata": {},
     "output_type": "display_data"
    }
   ],
   "source": [
    "df.plot(kind='bar', color=['blue', 'red'], title='Bar Plot')"
   ]
  },
  {
   "cell_type": "code",
   "execution_count": 194,
   "id": "da447fc2-e3e6-4ea9-af69-d4a1337b3fe4",
   "metadata": {},
   "outputs": [
    {
     "data": {
      "text/plain": [
       "<Axes: title={'center': 'Histogram'}, ylabel='Frequency'>"
      ]
     },
     "execution_count": 194,
     "metadata": {},
     "output_type": "execute_result"
    },
    {
     "data": {
      "image/png": "[encoded data removed]",
      "text/plain": [
       "<Figure size 640x480 with 1 Axes>"
      ]
     },
     "metadata": {},
     "output_type": "display_data"
    }
   ],
   "source": [
    "df['A'].plot(kind='hist', bins=20, color='green', title='Histogram')"
   ]
  },
  {
   "cell_type": "markdown",
   "id": "470412c6-b935-449e-89e3-153e06e8fbbd",
   "metadata": {},
   "source": [
    "9. Aggregating manually instead of .groupby()"
   ]
  },
  {
   "cell_type": "code",
   "execution_count": 197,
   "id": "c5d9a7ed-2a61-45f5-a470-a1fd293a5b46",
   "metadata": {},
   "outputs": [
    {
     "data": {
      "text/html": [
       "<div>\n",
       "<style scoped>\n",
       "    .dataframe tbody tr th:only-of-type {\n",
       "        vertical-align: middle;\n",
       "    }\n",
       "\n",
       "    .dataframe tbody tr th {\n",
       "        vertical-align: top;\n",
       "    }\n",
       "\n",
       "    .dataframe thead th {\n",
       "        text-align: right;\n",
       "    }\n",
       "</style>\n",
       "<table border=\"1\" class=\"dataframe\">\n",
       "  <thead>\n",
       "    <tr style=\"text-align: right;\">\n",
       "      <th></th>\n",
       "      <th>sum</th>\n",
       "      <th>mean</th>\n",
       "      <th>max</th>\n",
       "      <th>min</th>\n",
       "    </tr>\n",
       "    <tr>\n",
       "      <th>favorite_food</th>\n",
       "      <th></th>\n",
       "      <th></th>\n",
       "      <th></th>\n",
       "      <th></th>\n",
       "    </tr>\n",
       "  </thead>\n",
       "  <tbody>\n",
       "    <tr>\n",
       "      <th>burger</th>\n",
       "      <td>9750</td>\n",
       "      <td>3.977968</td>\n",
       "      <td>8</td>\n",
       "      <td>0</td>\n",
       "    </tr>\n",
       "    <tr>\n",
       "      <th>ice-cream</th>\n",
       "      <td>9841</td>\n",
       "      <td>3.936400</td>\n",
       "      <td>8</td>\n",
       "      <td>0</td>\n",
       "    </tr>\n",
       "    <tr>\n",
       "      <th>pizza</th>\n",
       "      <td>10321</td>\n",
       "      <td>4.121805</td>\n",
       "      <td>8</td>\n",
       "      <td>0</td>\n",
       "    </tr>\n",
       "    <tr>\n",
       "      <th>rice</th>\n",
       "      <td>10129</td>\n",
       "      <td>3.979961</td>\n",
       "      <td>8</td>\n",
       "      <td>0</td>\n",
       "    </tr>\n",
       "  </tbody>\n",
       "</table>\n",
       "</div>"
      ],
      "text/plain": [
       "                 sum      mean  max  min\n",
       "favorite_food                           \n",
       "burger          9750  3.977968    8    0\n",
       "ice-cream       9841  3.936400    8    0\n",
       "pizza          10321  4.121805    8    0\n",
       "rice           10129  3.979961    8    0"
      ]
     },
     "execution_count": 197,
     "metadata": {},
     "output_type": "execute_result"
    }
   ],
   "source": [
    "df.groupby('favorite_food')['time_in_bed'].agg(['sum','mean','max','min'])"
   ]
  },
  {
   "cell_type": "markdown",
   "id": "cf7fe679-86ff-4197-b967-4fa40f9bfa4b",
   "metadata": {},
   "source": [
    "10. Manually aggregating by creating multiple pivot tables:"
   ]
  },
  {
   "cell_type": "code",
   "execution_count": null,
   "id": "dbcc61ea-b2d4-49ac-b478-970112b28161",
   "metadata": {},
   "outputs": [],
   "source": [
    "import pandas as pd\n",
    "\n",
    "df = pd.read_csv('sales_data.csv')\n",
    "\n",
    "region_sales = pd.pivot_table(df, index='region', values='sales', aggfunc=['sum', 'mean', 'max', 'min'])\n",
    "category_sales = pd.pivot_table(df, index='category', values='sales', aggfunc=['sum', 'mean', 'max', 'min'])\n",
    "product_sales = pd.pivot_table(df, index='product', values='sales', aggfunc=['sum', 'mean', 'max', 'min'])\n",
    "\n",
    "print(region_sales)\n",
    "print(category_sales)\n",
    "print(product_sales)"
   ]
  },
  {
   "cell_type": "markdown",
   "id": "1ee7fe5c-e7b7-4eab-92f0-1eece699b04e",
   "metadata": {},
   "source": [
    "This code creates multiple pivot tables to calculate the total, average, maximum, and minimum sales for each region, category, and product. This can be simplified using .groupby():"
   ]
  },
  {
   "cell_type": "code",
   "execution_count": null,
   "id": "2c43b3f6-9bfd-4e02-8421-f26e258731e8",
   "metadata": {},
   "outputs": [],
   "source": [
    "import pandas as pd\n",
    "\n",
    "df = pd.read_csv('sales_data.csv')\n",
    "\n",
    "sales_stats = df.groupby(['region', 'category', 'product'])['sales'].agg(['sum', 'mean', 'max', 'min'])\n",
    "print(sales_stats)"
   ]
  },
  {
   "cell_type": "markdown",
   "id": "78f39076-d7d0-4244-80c0-a917aff9f7f7",
   "metadata": {},
   "source": [
    "11. Saving Large Datasets as CSV File\n",
    "\n",
    "- CSV files can be very large in size which  cause problems with storage and processing, especially if you have limited resources.\n",
    "- Limited data types: CSV files only support a limited range of data types, such as text, numbers, and dates. If your dataset includes more complex data types, such as images or JSON objects, then CSV may not be the best format to use.\n",
    "- Loss of metadata: CSV files do not support metadata, such as data types, column names, or null values. This can cause problems when importing or exporting the data, and can make it difficult to perform data analysis.\n",
    "- Performance Issue: Reading and writing large CSV files can be slow and can put a strain on system resources, especially when dealing with complex datasets.\n",
    "- No data validation:  CSV files do not provide any built-in data validation or error checking, which can lead to data inconsistencies and errors."
   ]
  },
  {
   "cell_type": "markdown",
   "id": "00f7df64-fdc5-4fd5-9cbe-207661e0cdf2",
   "metadata": {},
   "source": [
    "#### There are more efficient ways to save large dataframes than using CSV files. Some of the options are:\n",
    "- Parquet: Parquet is a columnar storage format that is optimized for data processing on large data sets. It can handle complex data types and supports compression, which makes it a good choice for storing large dataframes.\n",
    "- Feather: Feather is a lightweight binary file format designed for fast read and write operations. It supports both R and Python and can be used to store dataframes in a compact and efficient way.\n",
    "- HDF5: HDF5 is a file format designed for storing large numerical data sets. It provides a hierarchical structure that can be used to organize data and supports compression and chunking, which makes it suitable for storing large dataframes.\n",
    "- Apache Arrow: Apache Arrow is a cross-language development platform for in-memory data processing. It provides a standardized format for representing data that can be used across different programming languages and supports zero-copy data sharing, which makes it efficient for storing and processing large dataframes."
   ]
  },
  {
   "cell_type": "code",
   "execution_count": null,
   "id": "1fa77a20-2703-4555-815e-bef825216587",
   "metadata": {},
   "outputs": [],
   "source": []
  }
 ],
 "metadata": {
  "kernelspec": {
   "display_name": "Python 3 (ipykernel)",
   "language": "python",
   "name": "python3"
  },
  "language_info": {
   "codemirror_mode": {
    "name": "ipython",
    "version": 3
   },
   "file_extension": ".py",
   "mimetype": "text/x-python",
   "name": "python",
   "nbconvert_exporter": "python",
   "pygments_lexer": "ipython3",
   "version": "3.11.7"
  }
 },
 "nbformat": 4,
 "nbformat_minor": 5
}
